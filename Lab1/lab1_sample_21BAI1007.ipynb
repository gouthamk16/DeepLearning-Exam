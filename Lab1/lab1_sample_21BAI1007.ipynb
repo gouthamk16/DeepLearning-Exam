{
  "cells": [
    {
      "cell_type": "code",
      "execution_count": null,
      "id": "2e8259dc",
      "metadata": {
        "id": "2e8259dc"
      },
      "outputs": [],
      "source": [
        "from keras.datasets import mnist"
      ]
    },
    {
      "cell_type": "code",
      "execution_count": null,
      "id": "7e8e632a",
      "metadata": {
        "id": "7e8e632a",
        "outputId": "4f5b5a39-4eab-4c84-8146-a9bdd0e64c3e"
      },
      "outputs": [
        {
          "name": "stdout",
          "output_type": "stream",
          "text": [
            "<module 'keras.datasets.mnist' from '/home/ex5/.local/lib/python3.8/site-packages/keras/datasets/mnist/__init__.py'>\n"
          ]
        }
      ],
      "source": [
        "print(mnist)"
      ]
    },
    {
      "cell_type": "code",
      "execution_count": null,
      "id": "a57b4abd",
      "metadata": {
        "id": "a57b4abd"
      },
      "outputs": [],
      "source": [
        "(train_images, train_labels), (test_images, test_labels) = mnist.load_data()"
      ]
    },
    {
      "cell_type": "code",
      "execution_count": null,
      "id": "1795fedc",
      "metadata": {
        "id": "1795fedc",
        "outputId": "22a372e5-01d9-4cac-e8e5-9e1369cdf01b"
      },
      "outputs": [
        {
          "data": {
            "text/plain": [
              "((60000, 28, 28), (10000, 28, 28))"
            ]
          },
          "execution_count": 47,
          "metadata": {},
          "output_type": "execute_result"
        }
      ],
      "source": [
        "train_images.shape, test_images.shape"
      ]
    },
    {
      "cell_type": "code",
      "execution_count": null,
      "id": "25e6e65a",
      "metadata": {
        "id": "25e6e65a",
        "outputId": "936b78d4-7194-46b2-ee02-80a3be2fc984"
      },
      "outputs": [
        {
          "data": {
            "text/plain": [
              "(60000, 10000)"
            ]
          },
          "execution_count": 48,
          "metadata": {},
          "output_type": "execute_result"
        }
      ],
      "source": [
        "len(train_labels), len(test_labels)"
      ]
    },
    {
      "cell_type": "code",
      "execution_count": null,
      "id": "156fef21",
      "metadata": {
        "id": "156fef21",
        "outputId": "1deee6d2-2328-402c-92dd-00e2567280e1"
      },
      "outputs": [
        {
          "name": "stdout",
          "output_type": "stream",
          "text": [
            "Train labels: \n",
            "[5 0 4 ... 5 6 8]\n"
          ]
        }
      ],
      "source": [
        "print(\"Train labels: \")\n",
        "print(train_labels)"
      ]
    },
    {
      "cell_type": "code",
      "execution_count": null,
      "id": "c30c7e85",
      "metadata": {
        "id": "c30c7e85"
      },
      "outputs": [],
      "source": [
        "from keras import models\n",
        "from keras import layers"
      ]
    },
    {
      "cell_type": "code",
      "execution_count": null,
      "id": "56f43d5f",
      "metadata": {
        "id": "56f43d5f"
      },
      "outputs": [],
      "source": [
        "from keras.models import Sequential\n",
        "from keras.layers import Dense\n",
        "\n",
        "model = Sequential()\n",
        "model.add(Dense(512, activation='relu', input_shape=(28*28,)))\n",
        "model.add(Dense(10, activation='softmax'))"
      ]
    },
    {
      "cell_type": "code",
      "execution_count": null,
      "id": "8ef3c7ca",
      "metadata": {
        "id": "8ef3c7ca"
      },
      "outputs": [],
      "source": [
        "model.compile(optimizer='adam', loss='categorical_crossentropy', metrics='mean_absolute_error')"
      ]
    },
    {
      "cell_type": "code",
      "execution_count": null,
      "id": "57ef5fd1",
      "metadata": {
        "id": "57ef5fd1"
      },
      "outputs": [],
      "source": [
        "train_images = train_images.reshape((60000, 28 * 28))\n",
        "train_images = train_images.astype('float32') / 255\n",
        "test_images = test_images.reshape((10000, 28 * 28))\n",
        "test_images = test_images.astype('float32') / 255"
      ]
    },
    {
      "cell_type": "code",
      "execution_count": null,
      "id": "d92d7ab9",
      "metadata": {
        "id": "d92d7ab9",
        "outputId": "c24597c7-7386-401c-8a54-51ddcd6958da"
      },
      "outputs": [
        {
          "name": "stdout",
          "output_type": "stream",
          "text": [
            "Epoch 1/200\n",
            "469/469 [==============================] - 1s 2ms/step - loss: 0.2707 - mean_absolute_error: 0.0282\n",
            "Epoch 2/200\n",
            "469/469 [==============================] - 1s 2ms/step - loss: 0.1105 - mean_absolute_error: 0.0122\n",
            "Epoch 3/200\n",
            "469/469 [==============================] - 1s 2ms/step - loss: 0.0704 - mean_absolute_error: 0.0081\n",
            "Epoch 4/200\n",
            "469/469 [==============================] - 1s 2ms/step - loss: 0.0516 - mean_absolute_error: 0.0061\n",
            "Epoch 5/200\n",
            "469/469 [==============================] - 1s 2ms/step - loss: 0.0369 - mean_absolute_error: 0.0046\n",
            "Epoch 6/200\n",
            "469/469 [==============================] - 1s 2ms/step - loss: 0.0276 - mean_absolute_error: 0.0036\n",
            "Epoch 7/200\n",
            "469/469 [==============================] - 1s 2ms/step - loss: 0.0206 - mean_absolute_error: 0.0028\n",
            "Epoch 8/200\n",
            "469/469 [==============================] - 1s 2ms/step - loss: 0.0152 - mean_absolute_error: 0.0022\n",
            "Epoch 9/200\n",
            "469/469 [==============================] - 1s 2ms/step - loss: 0.0125 - mean_absolute_error: 0.0018\n",
            "Epoch 10/200\n",
            "469/469 [==============================] - 1s 2ms/step - loss: 0.0104 - mean_absolute_error: 0.0015\n",
            "Epoch 11/200\n",
            "469/469 [==============================] - 1s 2ms/step - loss: 0.0102 - mean_absolute_error: 0.0014\n",
            "Epoch 12/200\n",
            "469/469 [==============================] - 1s 2ms/step - loss: 0.0065 - mean_absolute_error: 0.0010\n",
            "Epoch 13/200\n",
            "469/469 [==============================] - 1s 2ms/step - loss: 0.0055 - mean_absolute_error: 8.2005e-04\n",
            "Epoch 14/200\n",
            "469/469 [==============================] - 1s 2ms/step - loss: 0.0038 - mean_absolute_error: 5.9104e-04\n",
            "Epoch 15/200\n",
            "469/469 [==============================] - 1s 2ms/step - loss: 0.0091 - mean_absolute_error: 0.0012\n",
            "Epoch 16/200\n",
            "469/469 [==============================] - 1s 2ms/step - loss: 0.0068 - mean_absolute_error: 8.7148e-04\n",
            "Epoch 17/200\n",
            "469/469 [==============================] - 1s 2ms/step - loss: 0.0042 - mean_absolute_error: 6.1953e-04\n",
            "Epoch 18/200\n",
            "469/469 [==============================] - 1s 2ms/step - loss: 0.0024 - mean_absolute_error: 3.5971e-04\n",
            "Epoch 19/200\n",
            "469/469 [==============================] - 1s 2ms/step - loss: 0.0041 - mean_absolute_error: 5.4550e-04\n",
            "Epoch 20/200\n",
            "469/469 [==============================] - 1s 2ms/step - loss: 0.0049 - mean_absolute_error: 6.4006e-04\n",
            "Epoch 21/200\n",
            "469/469 [==============================] - 1s 2ms/step - loss: 0.0035 - mean_absolute_error: 4.7913e-04\n",
            "Epoch 22/200\n",
            "469/469 [==============================] - 1s 2ms/step - loss: 0.0016 - mean_absolute_error: 2.3592e-04\n",
            "Epoch 23/200\n",
            "469/469 [==============================] - 1s 2ms/step - loss: 0.0032 - mean_absolute_error: 4.2877e-04\n",
            "Epoch 24/200\n",
            "469/469 [==============================] - 1s 2ms/step - loss: 0.0060 - mean_absolute_error: 6.9103e-04\n",
            "Epoch 25/200\n",
            "469/469 [==============================] - 1s 2ms/step - loss: 0.0019 - mean_absolute_error: 2.8134e-04\n",
            "Epoch 26/200\n",
            "469/469 [==============================] - 1s 2ms/step - loss: 0.0012 - mean_absolute_error: 1.8055e-04\n",
            "Epoch 27/200\n",
            "469/469 [==============================] - 1s 2ms/step - loss: 0.0028 - mean_absolute_error: 2.9363e-04\n",
            "Epoch 28/200\n",
            "469/469 [==============================] - 1s 2ms/step - loss: 0.0055 - mean_absolute_error: 6.2341e-04\n",
            "Epoch 29/200\n",
            "469/469 [==============================] - 1s 2ms/step - loss: 0.0023 - mean_absolute_error: 3.0388e-04\n",
            "Epoch 30/200\n",
            "469/469 [==============================] - 1s 2ms/step - loss: 0.0049 - mean_absolute_error: 5.3973e-04\n",
            "Epoch 31/200\n",
            "469/469 [==============================] - 1s 2ms/step - loss: 0.0023 - mean_absolute_error: 2.9106e-04\n",
            "Epoch 32/200\n",
            "469/469 [==============================] - 1s 2ms/step - loss: 3.5315e-04 - mean_absolute_error: 6.5579e-05\n",
            "Epoch 33/200\n",
            "469/469 [==============================] - 1s 2ms/step - loss: 1.7863e-04 - mean_absolute_error: 3.0997e-05\n",
            "Epoch 34/200\n",
            "469/469 [==============================] - 1s 2ms/step - loss: 6.5348e-05 - mean_absolute_error: 1.3037e-05\n",
            "Epoch 35/200\n",
            "469/469 [==============================] - 1s 2ms/step - loss: 5.1634e-05 - mean_absolute_error: 1.0310e-05\n",
            "Epoch 36/200\n",
            "469/469 [==============================] - 1s 2ms/step - loss: 4.2804e-05 - mean_absolute_error: 8.5503e-06\n",
            "Epoch 37/200\n",
            "469/469 [==============================] - 1s 2ms/step - loss: 3.6773e-05 - mean_absolute_error: 7.3471e-06\n",
            "Epoch 38/200\n",
            "469/469 [==============================] - 1s 2ms/step - loss: 3.1269e-05 - mean_absolute_error: 6.2488e-06\n",
            "Epoch 39/200\n",
            "469/469 [==============================] - 1s 2ms/step - loss: 2.6988e-05 - mean_absolute_error: 5.3939e-06\n",
            "Epoch 40/200\n",
            "469/469 [==============================] - 1s 2ms/step - loss: 2.3509e-05 - mean_absolute_error: 4.6991e-06\n",
            "Epoch 41/200\n",
            "469/469 [==============================] - 1s 2ms/step - loss: 2.0447e-05 - mean_absolute_error: 4.0874e-06\n",
            "Epoch 42/200\n",
            "469/469 [==============================] - 1s 2ms/step - loss: 1.7521e-05 - mean_absolute_error: 3.5029e-06\n",
            "Epoch 43/200\n",
            "469/469 [==============================] - 1s 2ms/step - loss: 1.5723e-05 - mean_absolute_error: 3.1432e-06\n",
            "Epoch 44/200\n",
            "469/469 [==============================] - 1s 2ms/step - loss: 1.2967e-05 - mean_absolute_error: 2.5928e-06\n",
            "Epoch 45/200\n",
            "469/469 [==============================] - 1s 2ms/step - loss: 0.0153 - mean_absolute_error: 8.5840e-04\n",
            "Epoch 46/200\n",
            "469/469 [==============================] - 1s 2ms/step - loss: 0.0066 - mean_absolute_error: 6.6062e-04\n",
            "Epoch 47/200\n",
            "469/469 [==============================] - 1s 2ms/step - loss: 6.0986e-04 - mean_absolute_error: 1.0381e-04\n",
            "Epoch 48/200\n",
            "469/469 [==============================] - 1s 2ms/step - loss: 1.5350e-04 - mean_absolute_error: 2.9910e-05\n",
            "Epoch 49/200\n",
            "469/469 [==============================] - 1s 2ms/step - loss: 7.3471e-05 - mean_absolute_error: 1.4651e-05\n",
            "Epoch 50/200\n",
            "469/469 [==============================] - 1s 2ms/step - loss: 5.7102e-05 - mean_absolute_error: 1.1399e-05\n",
            "Epoch 51/200\n",
            "469/469 [==============================] - 1s 2ms/step - loss: 4.7683e-05 - mean_absolute_error: 9.5223e-06\n",
            "Epoch 52/200\n",
            "469/469 [==============================] - 1s 2ms/step - loss: 3.9749e-05 - mean_absolute_error: 7.9407e-06\n",
            "Epoch 53/200\n",
            "469/469 [==============================] - 1s 2ms/step - loss: 3.3890e-05 - mean_absolute_error: 6.7716e-06\n",
            "Epoch 54/200\n",
            "469/469 [==============================] - 1s 2ms/step - loss: 2.8765e-05 - mean_absolute_error: 5.7489e-06\n",
            "Epoch 55/200\n",
            "469/469 [==============================] - 1s 2ms/step - loss: 2.4411e-05 - mean_absolute_error: 4.8790e-06\n",
            "Epoch 56/200\n",
            "469/469 [==============================] - 1s 2ms/step - loss: 2.0800e-05 - mean_absolute_error: 4.1578e-06\n",
            "Epoch 57/200\n",
            "469/469 [==============================] - 1s 2ms/step - loss: 1.7639e-05 - mean_absolute_error: 3.5264e-06\n",
            "Epoch 58/200\n",
            "469/469 [==============================] - 1s 2ms/step - loss: 1.5029e-05 - mean_absolute_error: 3.0049e-06\n",
            "Epoch 59/200\n",
            "469/469 [==============================] - 1s 2ms/step - loss: 1.2650e-05 - mean_absolute_error: 2.5293e-06\n",
            "Epoch 60/200\n",
            "469/469 [==============================] - 1s 2ms/step - loss: 1.0858e-05 - mean_absolute_error: 2.1713e-06\n",
            "Epoch 61/200\n",
            "469/469 [==============================] - 1s 2ms/step - loss: 9.2690e-06 - mean_absolute_error: 1.8535e-06\n",
            "Epoch 62/200\n",
            "469/469 [==============================] - 1s 2ms/step - loss: 7.6167e-06 - mean_absolute_error: 1.5233e-06\n",
            "Epoch 63/200\n",
            "469/469 [==============================] - 1s 2ms/step - loss: 6.4089e-06 - mean_absolute_error: 1.2818e-06\n",
            "Epoch 64/200\n",
            "469/469 [==============================] - 1s 2ms/step - loss: 6.6754e-06 - mean_absolute_error: 1.3347e-06\n",
            "Epoch 65/200\n",
            "469/469 [==============================] - 1s 2ms/step - loss: 0.0144 - mean_absolute_error: 8.6997e-04\n",
            "Epoch 66/200\n",
            "469/469 [==============================] - 1s 2ms/step - loss: 0.0053 - mean_absolute_error: 5.2900e-04\n",
            "Epoch 67/200\n",
            "469/469 [==============================] - 1s 2ms/step - loss: 0.0010 - mean_absolute_error: 1.4567e-04\n",
            "Epoch 68/200\n",
            "469/469 [==============================] - 1s 2ms/step - loss: 1.3561e-04 - mean_absolute_error: 2.6030e-05\n",
            "Epoch 69/200\n",
            "469/469 [==============================] - 1s 2ms/step - loss: 4.6589e-05 - mean_absolute_error: 9.2914e-06\n",
            "Epoch 70/200\n",
            "469/469 [==============================] - 1s 2ms/step - loss: 3.4856e-05 - mean_absolute_error: 6.9616e-06\n",
            "Epoch 71/200\n",
            "469/469 [==============================] - 1s 2ms/step - loss: 2.8866e-05 - mean_absolute_error: 5.7674e-06\n",
            "Epoch 72/200\n",
            "469/469 [==============================] - 1s 2ms/step - loss: 2.4179e-05 - mean_absolute_error: 4.8320e-06\n",
            "Epoch 73/200\n",
            "469/469 [==============================] - 1s 2ms/step - loss: 2.0511e-05 - mean_absolute_error: 4.0996e-06\n",
            "Epoch 74/200\n",
            "469/469 [==============================] - 1s 2ms/step - loss: 1.7360e-05 - mean_absolute_error: 3.4703e-06\n",
            "Epoch 75/200\n",
            "469/469 [==============================] - 1s 2ms/step - loss: 1.4805e-05 - mean_absolute_error: 2.9598e-06\n",
            "Epoch 76/200\n",
            "469/469 [==============================] - 1s 2ms/step - loss: 1.2694e-05 - mean_absolute_error: 2.5381e-06\n",
            "Epoch 77/200\n",
            "469/469 [==============================] - 1s 2ms/step - loss: 1.0859e-05 - mean_absolute_error: 2.1713e-06\n",
            "Epoch 78/200\n",
            "469/469 [==============================] - 1s 2ms/step - loss: 9.2150e-06 - mean_absolute_error: 1.8427e-06\n",
            "Epoch 79/200\n",
            "469/469 [==============================] - 1s 2ms/step - loss: 7.9033e-06 - mean_absolute_error: 1.5805e-06\n",
            "Epoch 80/200\n",
            "469/469 [==============================] - 1s 2ms/step - loss: 6.7277e-06 - mean_absolute_error: 1.3455e-06\n",
            "Epoch 81/200\n",
            "469/469 [==============================] - 1s 2ms/step - loss: 5.7181e-06 - mean_absolute_error: 1.1436e-06\n",
            "Epoch 82/200\n",
            "469/469 [==============================] - 1s 2ms/step - loss: 4.8545e-06 - mean_absolute_error: 9.7098e-07\n",
            "Epoch 83/200\n",
            "469/469 [==============================] - 1s 2ms/step - loss: 4.0808e-06 - mean_absolute_error: 8.1627e-07\n",
            "Epoch 84/200\n",
            "469/469 [==============================] - 1s 2ms/step - loss: 3.4988e-06 - mean_absolute_error: 6.9989e-07\n",
            "Epoch 85/200\n",
            "469/469 [==============================] - 1s 2ms/step - loss: 2.9245e-06 - mean_absolute_error: 5.8503e-07\n",
            "Epoch 86/200\n",
            "469/469 [==============================] - 1s 2ms/step - loss: 2.4460e-06 - mean_absolute_error: 4.8933e-07\n",
            "Epoch 87/200\n",
            "469/469 [==============================] - 1s 2ms/step - loss: 2.0473e-06 - mean_absolute_error: 4.0960e-07\n",
            "Epoch 88/200\n",
            "469/469 [==============================] - 1s 2ms/step - loss: 1.7210e-06 - mean_absolute_error: 3.4435e-07\n",
            "Epoch 89/200\n",
            "469/469 [==============================] - 1s 2ms/step - loss: 1.4263e-06 - mean_absolute_error: 2.8539e-07\n",
            "Epoch 90/200\n",
            "469/469 [==============================] - 1s 2ms/step - loss: 1.2460e-06 - mean_absolute_error: 2.4935e-07\n",
            "Epoch 91/200\n",
            "469/469 [==============================] - 1s 2ms/step - loss: 1.1094e-06 - mean_absolute_error: 2.2201e-07\n",
            "Epoch 92/200\n",
            "469/469 [==============================] - 1s 2ms/step - loss: 0.0189 - mean_absolute_error: 0.0011\n",
            "Epoch 93/200\n",
            "469/469 [==============================] - 1s 2ms/step - loss: 0.0019 - mean_absolute_error: 2.0557e-04\n",
            "Epoch 94/200\n",
            "469/469 [==============================] - 1s 2ms/step - loss: 5.9255e-04 - mean_absolute_error: 7.9883e-05\n",
            "Epoch 95/200\n",
            "469/469 [==============================] - 1s 2ms/step - loss: 6.4401e-05 - mean_absolute_error: 1.2679e-05\n",
            "Epoch 96/200\n",
            "469/469 [==============================] - 1s 2ms/step - loss: 2.5694e-05 - mean_absolute_error: 5.1296e-06\n",
            "Epoch 97/200\n",
            "469/469 [==============================] - 1s 2ms/step - loss: 2.0441e-05 - mean_absolute_error: 4.0831e-06\n",
            "Epoch 98/200\n",
            "469/469 [==============================] - 1s 2ms/step - loss: 1.6997e-05 - mean_absolute_error: 3.3964e-06\n",
            "Epoch 99/200\n",
            "469/469 [==============================] - 1s 2ms/step - loss: 1.4410e-05 - mean_absolute_error: 2.8800e-06\n",
            "Epoch 100/200\n",
            "469/469 [==============================] - 1s 2ms/step - loss: 1.2334e-05 - mean_absolute_error: 2.4656e-06\n",
            "Epoch 101/200\n",
            "469/469 [==============================] - 1s 2ms/step - loss: 1.0574e-05 - mean_absolute_error: 2.1140e-06\n",
            "Epoch 102/200\n",
            "469/469 [==============================] - 1s 2ms/step - loss: 9.1665e-06 - mean_absolute_error: 1.8327e-06\n",
            "Epoch 103/200\n",
            "469/469 [==============================] - 1s 2ms/step - loss: 7.8035e-06 - mean_absolute_error: 1.5604e-06\n",
            "Epoch 104/200\n",
            "469/469 [==============================] - 1s 2ms/step - loss: 6.8298e-06 - mean_absolute_error: 1.3657e-06\n",
            "Epoch 105/200\n",
            "469/469 [==============================] - 1s 2ms/step - loss: 5.8281e-06 - mean_absolute_error: 1.1655e-06\n",
            "Epoch 106/200\n",
            "469/469 [==============================] - 1s 2ms/step - loss: 4.9770e-06 - mean_absolute_error: 9.9536e-07\n",
            "Epoch 107/200\n",
            "469/469 [==============================] - 1s 2ms/step - loss: 4.2400e-06 - mean_absolute_error: 8.4801e-07\n",
            "Epoch 108/200\n",
            "469/469 [==============================] - 1s 2ms/step - loss: 3.6160e-06 - mean_absolute_error: 7.2325e-07\n",
            "Epoch 109/200\n",
            "469/469 [==============================] - 1s 2ms/step - loss: 3.1098e-06 - mean_absolute_error: 6.2205e-07\n",
            "Epoch 110/200\n",
            "469/469 [==============================] - 1s 2ms/step - loss: 2.6099e-06 - mean_absolute_error: 5.2207e-07\n",
            "Epoch 111/200\n",
            "469/469 [==============================] - 1s 2ms/step - loss: 2.2434e-06 - mean_absolute_error: 4.4879e-07\n",
            "Epoch 112/200\n",
            "469/469 [==============================] - 1s 2ms/step - loss: 1.8594e-06 - mean_absolute_error: 3.7201e-07\n",
            "Epoch 113/200\n",
            "469/469 [==============================] - 1s 2ms/step - loss: 1.5939e-06 - mean_absolute_error: 3.1890e-07\n",
            "Epoch 114/200\n",
            "469/469 [==============================] - 1s 2ms/step - loss: 1.3382e-06 - mean_absolute_error: 2.6776e-07\n",
            "Epoch 115/200\n",
            "469/469 [==============================] - 1s 2ms/step - loss: 1.1076e-06 - mean_absolute_error: 2.2165e-07\n",
            "Epoch 116/200\n",
            "469/469 [==============================] - 1s 2ms/step - loss: 9.6077e-07 - mean_absolute_error: 1.9228e-07\n",
            "Epoch 117/200\n",
            "469/469 [==============================] - 1s 2ms/step - loss: 8.0694e-07 - mean_absolute_error: 1.6151e-07\n",
            "Epoch 118/200\n",
            "469/469 [==============================] - 1s 2ms/step - loss: 6.7018e-07 - mean_absolute_error: 1.3415e-07\n",
            "Epoch 119/200\n",
            "469/469 [==============================] - 1s 2ms/step - loss: 5.7716e-07 - mean_absolute_error: 1.1555e-07\n",
            "Epoch 120/200\n",
            "469/469 [==============================] - 1s 2ms/step - loss: 4.9372e-07 - mean_absolute_error: 9.8856e-08\n",
            "Epoch 121/200\n",
            "469/469 [==============================] - 1s 2ms/step - loss: 4.0849e-07 - mean_absolute_error: 8.1811e-08\n",
            "Epoch 122/200\n",
            "469/469 [==============================] - 1s 2ms/step - loss: 3.4025e-07 - mean_absolute_error: 6.8163e-08\n",
            "Epoch 123/200\n",
            "469/469 [==============================] - 1s 2ms/step - loss: 2.8928e-07 - mean_absolute_error: 5.7962e-08\n",
            "Epoch 124/200\n",
            "469/469 [==============================] - 1s 2ms/step - loss: 2.4305e-07 - mean_absolute_error: 4.8704e-08\n",
            "Epoch 125/200\n",
            "469/469 [==============================] - 1s 2ms/step - loss: 2.0790e-07 - mean_absolute_error: 4.1672e-08\n",
            "Epoch 126/200\n",
            "469/469 [==============================] - 1s 2ms/step - loss: 1.7732e-07 - mean_absolute_error: 3.5552e-08\n",
            "Epoch 127/200\n",
            "469/469 [==============================] - 1s 2ms/step - loss: 1.5150e-07 - mean_absolute_error: 3.0391e-08\n",
            "Epoch 128/200\n",
            "469/469 [==============================] - 1s 2ms/step - loss: 1.2807e-07 - mean_absolute_error: 2.5693e-08\n",
            "Epoch 129/200\n",
            "469/469 [==============================] - 1s 2ms/step - loss: 1.1112e-07 - mean_absolute_error: 2.2305e-08\n",
            "Epoch 130/200\n",
            "469/469 [==============================] - 1s 2ms/step - loss: 9.4807e-08 - mean_absolute_error: 1.9044e-08\n",
            "Epoch 131/200\n",
            "469/469 [==============================] - 1s 2ms/step - loss: 8.3075e-08 - mean_absolute_error: 1.6696e-08\n",
            "Epoch 132/200\n",
            "469/469 [==============================] - 1s 2ms/step - loss: 7.1357e-08 - mean_absolute_error: 1.4349e-08\n",
            "Epoch 133/200\n",
            "469/469 [==============================] - 1s 2ms/step - loss: 6.2160e-08 - mean_absolute_error: 1.2508e-08\n",
            "Epoch 134/200\n",
            "469/469 [==============================] - 1s 2ms/step - loss: 5.5820e-08 - mean_absolute_error: 1.1239e-08\n",
            "Epoch 135/200\n",
            "469/469 [==============================] - 1s 2ms/step - loss: 4.8637e-08 - mean_absolute_error: 9.8047e-09\n",
            "Epoch 136/200\n",
            "469/469 [==============================] - 1s 2ms/step - loss: 4.3335e-08 - mean_absolute_error: 8.7411e-09\n",
            "Epoch 137/200\n",
            "469/469 [==============================] - 1s 2ms/step - loss: 3.8590e-08 - mean_absolute_error: 7.7973e-09\n",
            "Epoch 138/200\n",
            "469/469 [==============================] - 1s 2ms/step - loss: 3.4879e-08 - mean_absolute_error: 7.0406e-09\n",
            "Epoch 139/200\n",
            "469/469 [==============================] - 1s 2ms/step - loss: 3.1322e-08 - mean_absolute_error: 6.3382e-09\n",
            "Epoch 140/200\n",
            "469/469 [==============================] - 1s 2ms/step - loss: 2.8513e-08 - mean_absolute_error: 5.7735e-09\n",
            "Epoch 141/200\n",
            "469/469 [==============================] - 1s 2ms/step - loss: 2.6145e-08 - mean_absolute_error: 5.3005e-09\n",
            "Epoch 142/200\n",
            "469/469 [==============================] - 1s 2ms/step - loss: 2.3947e-08 - mean_absolute_error: 4.8585e-09\n",
            "Epoch 143/200\n",
            "469/469 [==============================] - 1s 2ms/step - loss: 2.2028e-08 - mean_absolute_error: 4.4749e-09\n",
            "Epoch 144/200\n",
            "469/469 [==============================] - 1s 2ms/step - loss: 2.0454e-08 - mean_absolute_error: 4.1648e-09\n",
            "Epoch 145/200\n",
            "469/469 [==============================] - 1s 2ms/step - loss: 1.9133e-08 - mean_absolute_error: 3.8963e-09\n",
            "Epoch 146/200\n",
            "469/469 [==============================] - 1s 2ms/step - loss: 1.7854e-08 - mean_absolute_error: 3.6342e-09\n",
            "Epoch 147/200\n",
            "469/469 [==============================] - 1s 2ms/step - loss: 1.6715e-08 - mean_absolute_error: 3.4156e-09\n",
            "Epoch 148/200\n",
            "469/469 [==============================] - 1s 2ms/step - loss: 1.5696e-08 - mean_absolute_error: 3.2131e-09\n",
            "Epoch 149/200\n",
            "469/469 [==============================] - 1s 2ms/step - loss: 1.4712e-08 - mean_absolute_error: 3.0230e-09\n",
            "Epoch 150/200\n",
            "469/469 [==============================] - 1s 2ms/step - loss: 1.4112e-08 - mean_absolute_error: 2.8911e-09\n",
            "Epoch 151/200\n",
            "469/469 [==============================] - 1s 2ms/step - loss: 1.3310e-08 - mean_absolute_error: 2.7306e-09\n",
            "Epoch 152/200\n",
            "469/469 [==============================] - 1s 2ms/step - loss: 1.2626e-08 - mean_absolute_error: 2.5980e-09\n",
            "Epoch 153/200\n",
            "469/469 [==============================] - 1s 2ms/step - loss: 1.2110e-08 - mean_absolute_error: 2.4908e-09\n",
            "Epoch 154/200\n",
            "469/469 [==============================] - 1s 2ms/step - loss: 1.1585e-08 - mean_absolute_error: 2.3843e-09\n",
            "Epoch 155/200\n",
            "469/469 [==============================] - 1s 2ms/step - loss: 1.0985e-08 - mean_absolute_error: 2.2738e-09\n",
            "Epoch 156/200\n",
            "469/469 [==============================] - 1s 2ms/step - loss: 1.0604e-08 - mean_absolute_error: 2.1968e-09\n",
            "Epoch 157/200\n",
            "469/469 [==============================] - 1s 2ms/step - loss: 1.0163e-08 - mean_absolute_error: 2.1042e-09\n",
            "Epoch 158/200\n",
            "469/469 [==============================] - 1s 2ms/step - loss: 9.7950e-09 - mean_absolute_error: 2.0326e-09\n",
            "Epoch 159/200\n",
            "469/469 [==============================] - 1s 2ms/step - loss: 9.4155e-09 - mean_absolute_error: 1.9575e-09\n",
            "Epoch 160/200\n",
            "469/469 [==============================] - 1s 2ms/step - loss: 9.0420e-09 - mean_absolute_error: 1.8903e-09\n",
            "Epoch 161/200\n",
            "469/469 [==============================] - 1s 2ms/step - loss: 8.7579e-09 - mean_absolute_error: 1.8298e-09\n",
            "Epoch 162/200\n",
            "469/469 [==============================] - 1s 2ms/step - loss: 8.5096e-09 - mean_absolute_error: 1.7766e-09\n",
            "Epoch 163/200\n",
            "469/469 [==============================] - 1s 2ms/step - loss: 8.1658e-09 - mean_absolute_error: 1.7131e-09\n",
            "Epoch 164/200\n",
            "469/469 [==============================] - 1s 2ms/step - loss: 7.9632e-09 - mean_absolute_error: 1.6675e-09\n",
            "Epoch 165/200\n",
            "469/469 [==============================] - 1s 2ms/step - loss: 7.7168e-09 - mean_absolute_error: 1.6247e-09\n",
            "Epoch 166/200\n",
            "469/469 [==============================] - 1s 2ms/step - loss: 7.4804e-09 - mean_absolute_error: 1.5749e-09\n",
            "Epoch 167/200\n",
            "469/469 [==============================] - 1s 2ms/step - loss: 7.3433e-09 - mean_absolute_error: 1.5439e-09\n",
            "Epoch 168/200\n",
            "469/469 [==============================] - 1s 2ms/step - loss: 7.0393e-09 - mean_absolute_error: 1.4952e-09\n",
            "Epoch 169/200\n",
            "469/469 [==============================] - 1s 2ms/step - loss: 6.8645e-09 - mean_absolute_error: 1.4593e-09\n",
            "Epoch 170/200\n",
            "469/469 [==============================] - 1s 2ms/step - loss: 6.6876e-09 - mean_absolute_error: 1.4191e-09\n",
            "Epoch 171/200\n",
            "469/469 [==============================] - 1s 2ms/step - loss: 6.4770e-09 - mean_absolute_error: 1.3837e-09\n",
            "Epoch 172/200\n",
            "469/469 [==============================] - 1s 2ms/step - loss: 6.3360e-09 - mean_absolute_error: 1.3546e-09\n",
            "Epoch 173/200\n",
            "469/469 [==============================] - 1s 2ms/step - loss: 6.1870e-09 - mean_absolute_error: 1.3220e-09\n",
            "Epoch 174/200\n",
            "469/469 [==============================] - 1s 2ms/step - loss: 6.0399e-09 - mean_absolute_error: 1.2937e-09\n",
            "Epoch 175/200\n",
            "469/469 [==============================] - 1s 2ms/step - loss: 5.9148e-09 - mean_absolute_error: 1.2659e-09\n",
            "Epoch 176/200\n",
            "469/469 [==============================] - 1s 2ms/step - loss: 5.7956e-09 - mean_absolute_error: 1.2432e-09\n",
            "Epoch 177/200\n",
            "469/469 [==============================] - 1s 2ms/step - loss: 5.6346e-09 - mean_absolute_error: 1.2135e-09\n",
            "Epoch 178/200\n",
            "469/469 [==============================] - 1s 2ms/step - loss: 5.5412e-09 - mean_absolute_error: 1.1924e-09\n",
            "Epoch 179/200\n",
            "469/469 [==============================] - 1s 2ms/step - loss: 5.3783e-09 - mean_absolute_error: 1.1668e-09\n",
            "Epoch 180/200\n",
            "469/469 [==============================] - 1s 2ms/step - loss: 5.2472e-09 - mean_absolute_error: 1.1424e-09\n",
            "Epoch 181/200\n",
            "469/469 [==============================] - 1s 2ms/step - loss: 5.1796e-09 - mean_absolute_error: 1.1233e-09\n",
            "Epoch 182/200\n",
            "469/469 [==============================] - 1s 2ms/step - loss: 5.1220e-09 - mean_absolute_error: 1.1086e-09\n",
            "Epoch 183/200\n",
            "469/469 [==============================] - 1s 2ms/step - loss: 4.9591e-09 - mean_absolute_error: 1.0833e-09\n",
            "Epoch 184/200\n",
            "469/469 [==============================] - 1s 2ms/step - loss: 4.8916e-09 - mean_absolute_error: 1.0640e-09\n",
            "Epoch 185/200\n",
            "469/469 [==============================] - 1s 2ms/step - loss: 4.7882e-09 - mean_absolute_error: 1.0474e-09\n",
            "Epoch 186/200\n",
            "469/469 [==============================] - 1s 2ms/step - loss: 4.7525e-09 - mean_absolute_error: 1.0358e-09\n",
            "Epoch 187/200\n",
            "469/469 [==============================] - 1s 2ms/step - loss: 4.6690e-09 - mean_absolute_error: 1.0212e-09\n",
            "Epoch 188/200\n",
            "469/469 [==============================] - 1s 2ms/step - loss: 4.5617e-09 - mean_absolute_error: 1.0055e-09\n",
            "Epoch 189/200\n",
            "469/469 [==============================] - 1s 2ms/step - loss: 4.4584e-09 - mean_absolute_error: 9.8677e-10\n",
            "Epoch 190/200\n",
            "469/469 [==============================] - 1s 2ms/step - loss: 4.4127e-09 - mean_absolute_error: 9.7389e-10\n",
            "Epoch 191/200\n",
            "469/469 [==============================] - 1s 2ms/step - loss: 4.3253e-09 - mean_absolute_error: 9.5740e-10\n",
            "Epoch 192/200\n",
            "469/469 [==============================] - 1s 2ms/step - loss: 4.2617e-09 - mean_absolute_error: 9.4604e-10\n",
            "Epoch 193/200\n",
            "469/469 [==============================] - 1s 2ms/step - loss: 4.1703e-09 - mean_absolute_error: 9.2847e-10\n",
            "Epoch 194/200\n",
            "469/469 [==============================] - 1s 2ms/step - loss: 4.1346e-09 - mean_absolute_error: 9.2365e-10\n",
            "Epoch 195/200\n",
            "469/469 [==============================] - 1s 2ms/step - loss: 4.0551e-09 - mean_absolute_error: 9.0742e-10\n",
            "Epoch 196/200\n",
            "469/469 [==============================] - 1s 2ms/step - loss: 4.0054e-09 - mean_absolute_error: 8.9629e-10\n",
            "Epoch 197/200\n",
            "469/469 [==============================] - 1s 2ms/step - loss: 3.9558e-09 - mean_absolute_error: 8.8624e-10\n",
            "Epoch 198/200\n",
            "469/469 [==============================] - 1s 2ms/step - loss: 3.9160e-09 - mean_absolute_error: 8.7703e-10\n",
            "Epoch 199/200\n",
            "469/469 [==============================] - 1s 2ms/step - loss: 3.8346e-09 - mean_absolute_error: 8.6419e-10\n",
            "Epoch 200/200\n",
            "469/469 [==============================] - 1s 2ms/step - loss: 3.7988e-09 - mean_absolute_error: 8.5610e-10\n"
          ]
        },
        {
          "data": {
            "text/plain": [
              "<keras.src.callbacks.History at 0x7f4f00135be0>"
            ]
          },
          "execution_count": 54,
          "metadata": {},
          "output_type": "execute_result"
        }
      ],
      "source": [
        "from keras.utils import to_categorical\n",
        "\n",
        "train_labels = to_categorical(train_labels)\n",
        "test_labels = to_categorical(test_labels)\n",
        "\n",
        "\n",
        "model.fit(train_images, train_labels, epochs=200, batch_size=128)"
      ]
    },
    {
      "cell_type": "code",
      "execution_count": null,
      "id": "26ff32b9",
      "metadata": {
        "id": "26ff32b9",
        "outputId": "4bd3af4f-7d5f-4baf-9b24-b7c3e7ad4804"
      },
      "outputs": [
        {
          "name": "stdout",
          "output_type": "stream",
          "text": [
            "313/313 [==============================] - 0s 683us/step - loss: 0.1479 - mean_absolute_error: 0.0032\n"
          ]
        }
      ],
      "source": [
        "test_loss, mae = model.evaluate(test_images, test_labels)"
      ]
    },
    {
      "cell_type": "code",
      "execution_count": null,
      "id": "a85db381",
      "metadata": {
        "id": "a85db381"
      },
      "outputs": [],
      "source": []
    }
  ],
  "metadata": {
    "kernelspec": {
      "display_name": "Python 3 (ipykernel)",
      "language": "python",
      "name": "python3"
    },
    "language_info": {
      "codemirror_mode": {
        "name": "ipython",
        "version": 3
      },
      "file_extension": ".py",
      "mimetype": "text/x-python",
      "name": "python",
      "nbconvert_exporter": "python",
      "pygments_lexer": "ipython3",
      "version": "3.11.5"
    },
    "colab": {
      "provenance": []
    }
  },
  "nbformat": 4,
  "nbformat_minor": 5
}