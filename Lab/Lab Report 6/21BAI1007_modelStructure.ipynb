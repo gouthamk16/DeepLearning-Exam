{
  "cells": [
    {
      "cell_type": "markdown",
      "id": "3d04c97e",
      "metadata": {
        "papermill": {
          "duration": 0.005494,
          "end_time": "2023-05-26T15:40:53.539001",
          "exception": false,
          "start_time": "2023-05-26T15:40:53.533507",
          "status": "completed"
        },
        "tags": [],
        "id": "3d04c97e"
      },
      "source": [
        "# Exploratory model structure analysis - 21BAI1007\n",
        "\n",
        "\n"
      ]
    },
    {
      "cell_type": "code",
      "source": [
        "pip install torchinfo"
      ],
      "metadata": {
        "colab": {
          "base_uri": "https://localhost:8080/"
        },
        "id": "19ZFYsCeg4OU",
        "outputId": "3dca0a55-e19f-460d-deae-911790dec97a"
      },
      "id": "19ZFYsCeg4OU",
      "execution_count": null,
      "outputs": [
        {
          "output_type": "stream",
          "name": "stdout",
          "text": [
            "Collecting torchinfo\n",
            "  Downloading torchinfo-1.8.0-py3-none-any.whl (23 kB)\n",
            "Installing collected packages: torchinfo\n",
            "Successfully installed torchinfo-1.8.0\n"
          ]
        }
      ]
    },
    {
      "cell_type": "code",
      "execution_count": null,
      "id": "97ed3476",
      "metadata": {
        "_cell_guid": "b1076dfc-b9ad-4769-8c92-a6c4dae69d19",
        "_uuid": "8f2839f25d086af736a60e9eeb907d3b93b6e0e5",
        "execution": {
          "iopub.execute_input": "2023-05-26T15:40:53.551727Z",
          "iopub.status.busy": "2023-05-26T15:40:53.551211Z",
          "iopub.status.idle": "2023-05-26T15:40:57.946090Z",
          "shell.execute_reply": "2023-05-26T15:40:57.944817Z"
        },
        "papermill": {
          "duration": 4.404382,
          "end_time": "2023-05-26T15:40:57.948855",
          "exception": false,
          "start_time": "2023-05-26T15:40:53.544473",
          "status": "completed"
        },
        "tags": [],
        "id": "97ed3476"
      },
      "outputs": [],
      "source": [
        "import torch\n",
        "from torch import nn\n",
        "import torchvision\n",
        "import os\n",
        "from typing import List, Any, Tuple\n",
        "from torchinfo import summary\n",
        "from torchvision.datasets import VisionDataset"
      ]
    },
    {
      "cell_type": "markdown",
      "id": "12f89580",
      "metadata": {
        "papermill": {
          "duration": 0.004553,
          "end_time": "2023-05-26T15:40:57.989830",
          "exception": false,
          "start_time": "2023-05-26T15:40:57.985277",
          "status": "completed"
        },
        "tags": [],
        "id": "12f89580"
      },
      "source": [
        "# View the alexnet model structure"
      ]
    },
    {
      "cell_type": "code",
      "execution_count": null,
      "id": "203d1dd7",
      "metadata": {
        "execution": {
          "iopub.execute_input": "2023-05-26T15:40:58.001838Z",
          "iopub.status.busy": "2023-05-26T15:40:58.001395Z",
          "iopub.status.idle": "2023-05-26T15:40:58.756496Z",
          "shell.execute_reply": "2023-05-26T15:40:58.755235Z"
        },
        "papermill": {
          "duration": 0.764439,
          "end_time": "2023-05-26T15:40:58.759350",
          "exception": false,
          "start_time": "2023-05-26T15:40:57.994911",
          "status": "completed"
        },
        "tags": [],
        "colab": {
          "base_uri": "https://localhost:8080/"
        },
        "id": "203d1dd7",
        "outputId": "bd61a2b2-b203-41ea-97f7-dc0d2d8fc242"
      },
      "outputs": [
        {
          "output_type": "execute_result",
          "data": {
            "text/plain": [
              "AlexNet(\n",
              "  (features): Sequential(\n",
              "    (0): Conv2d(3, 64, kernel_size=(11, 11), stride=(4, 4), padding=(2, 2))\n",
              "    (1): ReLU(inplace=True)\n",
              "    (2): MaxPool2d(kernel_size=3, stride=2, padding=0, dilation=1, ceil_mode=False)\n",
              "    (3): Conv2d(64, 192, kernel_size=(5, 5), stride=(1, 1), padding=(2, 2))\n",
              "    (4): ReLU(inplace=True)\n",
              "    (5): MaxPool2d(kernel_size=3, stride=2, padding=0, dilation=1, ceil_mode=False)\n",
              "    (6): Conv2d(192, 384, kernel_size=(3, 3), stride=(1, 1), padding=(1, 1))\n",
              "    (7): ReLU(inplace=True)\n",
              "    (8): Conv2d(384, 256, kernel_size=(3, 3), stride=(1, 1), padding=(1, 1))\n",
              "    (9): ReLU(inplace=True)\n",
              "    (10): Conv2d(256, 256, kernel_size=(3, 3), stride=(1, 1), padding=(1, 1))\n",
              "    (11): ReLU(inplace=True)\n",
              "    (12): MaxPool2d(kernel_size=3, stride=2, padding=0, dilation=1, ceil_mode=False)\n",
              "  )\n",
              "  (avgpool): AdaptiveAvgPool2d(output_size=(6, 6))\n",
              "  (classifier): Sequential(\n",
              "    (0): Dropout(p=0.5, inplace=False)\n",
              "    (1): Linear(in_features=9216, out_features=4096, bias=True)\n",
              "    (2): ReLU(inplace=True)\n",
              "    (3): Dropout(p=0.5, inplace=False)\n",
              "    (4): Linear(in_features=4096, out_features=4096, bias=True)\n",
              "    (5): ReLU(inplace=True)\n",
              "    (6): Linear(in_features=4096, out_features=1000, bias=True)\n",
              "  )\n",
              ")"
            ]
          },
          "metadata": {},
          "execution_count": 5
        }
      ],
      "source": [
        "alexnet = torchvision.models.alexnet(weights=None)\n",
        "alexnet"
      ]
    },
    {
      "cell_type": "markdown",
      "id": "5dedf8d9",
      "metadata": {
        "papermill": {
          "duration": 0.004867,
          "end_time": "2023-05-26T15:40:58.769547",
          "exception": false,
          "start_time": "2023-05-26T15:40:58.764680",
          "status": "completed"
        },
        "tags": [],
        "id": "5dedf8d9"
      },
      "source": [
        "# View the ConvNeXt Base model\n",
        "\n"
      ]
    },
    {
      "cell_type": "code",
      "execution_count": null,
      "id": "933a02ea",
      "metadata": {
        "execution": {
          "iopub.execute_input": "2023-05-26T15:40:58.782559Z",
          "iopub.status.busy": "2023-05-26T15:40:58.781657Z",
          "iopub.status.idle": "2023-05-26T15:41:01.207010Z",
          "shell.execute_reply": "2023-05-26T15:41:01.205847Z"
        },
        "papermill": {
          "duration": 2.435348,
          "end_time": "2023-05-26T15:41:01.210052",
          "exception": false,
          "start_time": "2023-05-26T15:40:58.774704",
          "status": "completed"
        },
        "tags": [],
        "colab": {
          "base_uri": "https://localhost:8080/"
        },
        "id": "933a02ea",
        "outputId": "ba35ffbb-01ad-4693-a272-64f4aa263742"
      },
      "outputs": [
        {
          "output_type": "execute_result",
          "data": {
            "text/plain": [
              "ConvNeXt(\n",
              "  (features): Sequential(\n",
              "    (0): Conv2dNormActivation(\n",
              "      (0): Conv2d(3, 128, kernel_size=(4, 4), stride=(4, 4))\n",
              "      (1): LayerNorm2d((128,), eps=1e-06, elementwise_affine=True)\n",
              "    )\n",
              "    (1): Sequential(\n",
              "      (0): CNBlock(\n",
              "        (block): Sequential(\n",
              "          (0): Conv2d(128, 128, kernel_size=(7, 7), stride=(1, 1), padding=(3, 3), groups=128)\n",
              "          (1): Permute()\n",
              "          (2): LayerNorm((128,), eps=1e-06, elementwise_affine=True)\n",
              "          (3): Linear(in_features=128, out_features=512, bias=True)\n",
              "          (4): GELU(approximate='none')\n",
              "          (5): Linear(in_features=512, out_features=128, bias=True)\n",
              "          (6): Permute()\n",
              "        )\n",
              "        (stochastic_depth): StochasticDepth(p=0.0, mode=row)\n",
              "      )\n",
              "      (1): CNBlock(\n",
              "        (block): Sequential(\n",
              "          (0): Conv2d(128, 128, kernel_size=(7, 7), stride=(1, 1), padding=(3, 3), groups=128)\n",
              "          (1): Permute()\n",
              "          (2): LayerNorm((128,), eps=1e-06, elementwise_affine=True)\n",
              "          (3): Linear(in_features=128, out_features=512, bias=True)\n",
              "          (4): GELU(approximate='none')\n",
              "          (5): Linear(in_features=512, out_features=128, bias=True)\n",
              "          (6): Permute()\n",
              "        )\n",
              "        (stochastic_depth): StochasticDepth(p=0.014285714285714285, mode=row)\n",
              "      )\n",
              "      (2): CNBlock(\n",
              "        (block): Sequential(\n",
              "          (0): Conv2d(128, 128, kernel_size=(7, 7), stride=(1, 1), padding=(3, 3), groups=128)\n",
              "          (1): Permute()\n",
              "          (2): LayerNorm((128,), eps=1e-06, elementwise_affine=True)\n",
              "          (3): Linear(in_features=128, out_features=512, bias=True)\n",
              "          (4): GELU(approximate='none')\n",
              "          (5): Linear(in_features=512, out_features=128, bias=True)\n",
              "          (6): Permute()\n",
              "        )\n",
              "        (stochastic_depth): StochasticDepth(p=0.02857142857142857, mode=row)\n",
              "      )\n",
              "    )\n",
              "    (2): Sequential(\n",
              "      (0): LayerNorm2d((128,), eps=1e-06, elementwise_affine=True)\n",
              "      (1): Conv2d(128, 256, kernel_size=(2, 2), stride=(2, 2))\n",
              "    )\n",
              "    (3): Sequential(\n",
              "      (0): CNBlock(\n",
              "        (block): Sequential(\n",
              "          (0): Conv2d(256, 256, kernel_size=(7, 7), stride=(1, 1), padding=(3, 3), groups=256)\n",
              "          (1): Permute()\n",
              "          (2): LayerNorm((256,), eps=1e-06, elementwise_affine=True)\n",
              "          (3): Linear(in_features=256, out_features=1024, bias=True)\n",
              "          (4): GELU(approximate='none')\n",
              "          (5): Linear(in_features=1024, out_features=256, bias=True)\n",
              "          (6): Permute()\n",
              "        )\n",
              "        (stochastic_depth): StochasticDepth(p=0.04285714285714286, mode=row)\n",
              "      )\n",
              "      (1): CNBlock(\n",
              "        (block): Sequential(\n",
              "          (0): Conv2d(256, 256, kernel_size=(7, 7), stride=(1, 1), padding=(3, 3), groups=256)\n",
              "          (1): Permute()\n",
              "          (2): LayerNorm((256,), eps=1e-06, elementwise_affine=True)\n",
              "          (3): Linear(in_features=256, out_features=1024, bias=True)\n",
              "          (4): GELU(approximate='none')\n",
              "          (5): Linear(in_features=1024, out_features=256, bias=True)\n",
              "          (6): Permute()\n",
              "        )\n",
              "        (stochastic_depth): StochasticDepth(p=0.05714285714285714, mode=row)\n",
              "      )\n",
              "      (2): CNBlock(\n",
              "        (block): Sequential(\n",
              "          (0): Conv2d(256, 256, kernel_size=(7, 7), stride=(1, 1), padding=(3, 3), groups=256)\n",
              "          (1): Permute()\n",
              "          (2): LayerNorm((256,), eps=1e-06, elementwise_affine=True)\n",
              "          (3): Linear(in_features=256, out_features=1024, bias=True)\n",
              "          (4): GELU(approximate='none')\n",
              "          (5): Linear(in_features=1024, out_features=256, bias=True)\n",
              "          (6): Permute()\n",
              "        )\n",
              "        (stochastic_depth): StochasticDepth(p=0.07142857142857142, mode=row)\n",
              "      )\n",
              "    )\n",
              "    (4): Sequential(\n",
              "      (0): LayerNorm2d((256,), eps=1e-06, elementwise_affine=True)\n",
              "      (1): Conv2d(256, 512, kernel_size=(2, 2), stride=(2, 2))\n",
              "    )\n",
              "    (5): Sequential(\n",
              "      (0): CNBlock(\n",
              "        (block): Sequential(\n",
              "          (0): Conv2d(512, 512, kernel_size=(7, 7), stride=(1, 1), padding=(3, 3), groups=512)\n",
              "          (1): Permute()\n",
              "          (2): LayerNorm((512,), eps=1e-06, elementwise_affine=True)\n",
              "          (3): Linear(in_features=512, out_features=2048, bias=True)\n",
              "          (4): GELU(approximate='none')\n",
              "          (5): Linear(in_features=2048, out_features=512, bias=True)\n",
              "          (6): Permute()\n",
              "        )\n",
              "        (stochastic_depth): StochasticDepth(p=0.08571428571428572, mode=row)\n",
              "      )\n",
              "      (1): CNBlock(\n",
              "        (block): Sequential(\n",
              "          (0): Conv2d(512, 512, kernel_size=(7, 7), stride=(1, 1), padding=(3, 3), groups=512)\n",
              "          (1): Permute()\n",
              "          (2): LayerNorm((512,), eps=1e-06, elementwise_affine=True)\n",
              "          (3): Linear(in_features=512, out_features=2048, bias=True)\n",
              "          (4): GELU(approximate='none')\n",
              "          (5): Linear(in_features=2048, out_features=512, bias=True)\n",
              "          (6): Permute()\n",
              "        )\n",
              "        (stochastic_depth): StochasticDepth(p=0.1, mode=row)\n",
              "      )\n",
              "      (2): CNBlock(\n",
              "        (block): Sequential(\n",
              "          (0): Conv2d(512, 512, kernel_size=(7, 7), stride=(1, 1), padding=(3, 3), groups=512)\n",
              "          (1): Permute()\n",
              "          (2): LayerNorm((512,), eps=1e-06, elementwise_affine=True)\n",
              "          (3): Linear(in_features=512, out_features=2048, bias=True)\n",
              "          (4): GELU(approximate='none')\n",
              "          (5): Linear(in_features=2048, out_features=512, bias=True)\n",
              "          (6): Permute()\n",
              "        )\n",
              "        (stochastic_depth): StochasticDepth(p=0.11428571428571428, mode=row)\n",
              "      )\n",
              "      (3): CNBlock(\n",
              "        (block): Sequential(\n",
              "          (0): Conv2d(512, 512, kernel_size=(7, 7), stride=(1, 1), padding=(3, 3), groups=512)\n",
              "          (1): Permute()\n",
              "          (2): LayerNorm((512,), eps=1e-06, elementwise_affine=True)\n",
              "          (3): Linear(in_features=512, out_features=2048, bias=True)\n",
              "          (4): GELU(approximate='none')\n",
              "          (5): Linear(in_features=2048, out_features=512, bias=True)\n",
              "          (6): Permute()\n",
              "        )\n",
              "        (stochastic_depth): StochasticDepth(p=0.12857142857142856, mode=row)\n",
              "      )\n",
              "      (4): CNBlock(\n",
              "        (block): Sequential(\n",
              "          (0): Conv2d(512, 512, kernel_size=(7, 7), stride=(1, 1), padding=(3, 3), groups=512)\n",
              "          (1): Permute()\n",
              "          (2): LayerNorm((512,), eps=1e-06, elementwise_affine=True)\n",
              "          (3): Linear(in_features=512, out_features=2048, bias=True)\n",
              "          (4): GELU(approximate='none')\n",
              "          (5): Linear(in_features=2048, out_features=512, bias=True)\n",
              "          (6): Permute()\n",
              "        )\n",
              "        (stochastic_depth): StochasticDepth(p=0.14285714285714285, mode=row)\n",
              "      )\n",
              "      (5): CNBlock(\n",
              "        (block): Sequential(\n",
              "          (0): Conv2d(512, 512, kernel_size=(7, 7), stride=(1, 1), padding=(3, 3), groups=512)\n",
              "          (1): Permute()\n",
              "          (2): LayerNorm((512,), eps=1e-06, elementwise_affine=True)\n",
              "          (3): Linear(in_features=512, out_features=2048, bias=True)\n",
              "          (4): GELU(approximate='none')\n",
              "          (5): Linear(in_features=2048, out_features=512, bias=True)\n",
              "          (6): Permute()\n",
              "        )\n",
              "        (stochastic_depth): StochasticDepth(p=0.15714285714285714, mode=row)\n",
              "      )\n",
              "      (6): CNBlock(\n",
              "        (block): Sequential(\n",
              "          (0): Conv2d(512, 512, kernel_size=(7, 7), stride=(1, 1), padding=(3, 3), groups=512)\n",
              "          (1): Permute()\n",
              "          (2): LayerNorm((512,), eps=1e-06, elementwise_affine=True)\n",
              "          (3): Linear(in_features=512, out_features=2048, bias=True)\n",
              "          (4): GELU(approximate='none')\n",
              "          (5): Linear(in_features=2048, out_features=512, bias=True)\n",
              "          (6): Permute()\n",
              "        )\n",
              "        (stochastic_depth): StochasticDepth(p=0.17142857142857143, mode=row)\n",
              "      )\n",
              "      (7): CNBlock(\n",
              "        (block): Sequential(\n",
              "          (0): Conv2d(512, 512, kernel_size=(7, 7), stride=(1, 1), padding=(3, 3), groups=512)\n",
              "          (1): Permute()\n",
              "          (2): LayerNorm((512,), eps=1e-06, elementwise_affine=True)\n",
              "          (3): Linear(in_features=512, out_features=2048, bias=True)\n",
              "          (4): GELU(approximate='none')\n",
              "          (5): Linear(in_features=2048, out_features=512, bias=True)\n",
              "          (6): Permute()\n",
              "        )\n",
              "        (stochastic_depth): StochasticDepth(p=0.18571428571428572, mode=row)\n",
              "      )\n",
              "      (8): CNBlock(\n",
              "        (block): Sequential(\n",
              "          (0): Conv2d(512, 512, kernel_size=(7, 7), stride=(1, 1), padding=(3, 3), groups=512)\n",
              "          (1): Permute()\n",
              "          (2): LayerNorm((512,), eps=1e-06, elementwise_affine=True)\n",
              "          (3): Linear(in_features=512, out_features=2048, bias=True)\n",
              "          (4): GELU(approximate='none')\n",
              "          (5): Linear(in_features=2048, out_features=512, bias=True)\n",
              "          (6): Permute()\n",
              "        )\n",
              "        (stochastic_depth): StochasticDepth(p=0.2, mode=row)\n",
              "      )\n",
              "      (9): CNBlock(\n",
              "        (block): Sequential(\n",
              "          (0): Conv2d(512, 512, kernel_size=(7, 7), stride=(1, 1), padding=(3, 3), groups=512)\n",
              "          (1): Permute()\n",
              "          (2): LayerNorm((512,), eps=1e-06, elementwise_affine=True)\n",
              "          (3): Linear(in_features=512, out_features=2048, bias=True)\n",
              "          (4): GELU(approximate='none')\n",
              "          (5): Linear(in_features=2048, out_features=512, bias=True)\n",
              "          (6): Permute()\n",
              "        )\n",
              "        (stochastic_depth): StochasticDepth(p=0.21428571428571427, mode=row)\n",
              "      )\n",
              "      (10): CNBlock(\n",
              "        (block): Sequential(\n",
              "          (0): Conv2d(512, 512, kernel_size=(7, 7), stride=(1, 1), padding=(3, 3), groups=512)\n",
              "          (1): Permute()\n",
              "          (2): LayerNorm((512,), eps=1e-06, elementwise_affine=True)\n",
              "          (3): Linear(in_features=512, out_features=2048, bias=True)\n",
              "          (4): GELU(approximate='none')\n",
              "          (5): Linear(in_features=2048, out_features=512, bias=True)\n",
              "          (6): Permute()\n",
              "        )\n",
              "        (stochastic_depth): StochasticDepth(p=0.22857142857142856, mode=row)\n",
              "      )\n",
              "      (11): CNBlock(\n",
              "        (block): Sequential(\n",
              "          (0): Conv2d(512, 512, kernel_size=(7, 7), stride=(1, 1), padding=(3, 3), groups=512)\n",
              "          (1): Permute()\n",
              "          (2): LayerNorm((512,), eps=1e-06, elementwise_affine=True)\n",
              "          (3): Linear(in_features=512, out_features=2048, bias=True)\n",
              "          (4): GELU(approximate='none')\n",
              "          (5): Linear(in_features=2048, out_features=512, bias=True)\n",
              "          (6): Permute()\n",
              "        )\n",
              "        (stochastic_depth): StochasticDepth(p=0.24285714285714285, mode=row)\n",
              "      )\n",
              "      (12): CNBlock(\n",
              "        (block): Sequential(\n",
              "          (0): Conv2d(512, 512, kernel_size=(7, 7), stride=(1, 1), padding=(3, 3), groups=512)\n",
              "          (1): Permute()\n",
              "          (2): LayerNorm((512,), eps=1e-06, elementwise_affine=True)\n",
              "          (3): Linear(in_features=512, out_features=2048, bias=True)\n",
              "          (4): GELU(approximate='none')\n",
              "          (5): Linear(in_features=2048, out_features=512, bias=True)\n",
              "          (6): Permute()\n",
              "        )\n",
              "        (stochastic_depth): StochasticDepth(p=0.2571428571428571, mode=row)\n",
              "      )\n",
              "      (13): CNBlock(\n",
              "        (block): Sequential(\n",
              "          (0): Conv2d(512, 512, kernel_size=(7, 7), stride=(1, 1), padding=(3, 3), groups=512)\n",
              "          (1): Permute()\n",
              "          (2): LayerNorm((512,), eps=1e-06, elementwise_affine=True)\n",
              "          (3): Linear(in_features=512, out_features=2048, bias=True)\n",
              "          (4): GELU(approximate='none')\n",
              "          (5): Linear(in_features=2048, out_features=512, bias=True)\n",
              "          (6): Permute()\n",
              "        )\n",
              "        (stochastic_depth): StochasticDepth(p=0.2714285714285714, mode=row)\n",
              "      )\n",
              "      (14): CNBlock(\n",
              "        (block): Sequential(\n",
              "          (0): Conv2d(512, 512, kernel_size=(7, 7), stride=(1, 1), padding=(3, 3), groups=512)\n",
              "          (1): Permute()\n",
              "          (2): LayerNorm((512,), eps=1e-06, elementwise_affine=True)\n",
              "          (3): Linear(in_features=512, out_features=2048, bias=True)\n",
              "          (4): GELU(approximate='none')\n",
              "          (5): Linear(in_features=2048, out_features=512, bias=True)\n",
              "          (6): Permute()\n",
              "        )\n",
              "        (stochastic_depth): StochasticDepth(p=0.2857142857142857, mode=row)\n",
              "      )\n",
              "      (15): CNBlock(\n",
              "        (block): Sequential(\n",
              "          (0): Conv2d(512, 512, kernel_size=(7, 7), stride=(1, 1), padding=(3, 3), groups=512)\n",
              "          (1): Permute()\n",
              "          (2): LayerNorm((512,), eps=1e-06, elementwise_affine=True)\n",
              "          (3): Linear(in_features=512, out_features=2048, bias=True)\n",
              "          (4): GELU(approximate='none')\n",
              "          (5): Linear(in_features=2048, out_features=512, bias=True)\n",
              "          (6): Permute()\n",
              "        )\n",
              "        (stochastic_depth): StochasticDepth(p=0.3, mode=row)\n",
              "      )\n",
              "      (16): CNBlock(\n",
              "        (block): Sequential(\n",
              "          (0): Conv2d(512, 512, kernel_size=(7, 7), stride=(1, 1), padding=(3, 3), groups=512)\n",
              "          (1): Permute()\n",
              "          (2): LayerNorm((512,), eps=1e-06, elementwise_affine=True)\n",
              "          (3): Linear(in_features=512, out_features=2048, bias=True)\n",
              "          (4): GELU(approximate='none')\n",
              "          (5): Linear(in_features=2048, out_features=512, bias=True)\n",
              "          (6): Permute()\n",
              "        )\n",
              "        (stochastic_depth): StochasticDepth(p=0.3142857142857143, mode=row)\n",
              "      )\n",
              "      (17): CNBlock(\n",
              "        (block): Sequential(\n",
              "          (0): Conv2d(512, 512, kernel_size=(7, 7), stride=(1, 1), padding=(3, 3), groups=512)\n",
              "          (1): Permute()\n",
              "          (2): LayerNorm((512,), eps=1e-06, elementwise_affine=True)\n",
              "          (3): Linear(in_features=512, out_features=2048, bias=True)\n",
              "          (4): GELU(approximate='none')\n",
              "          (5): Linear(in_features=2048, out_features=512, bias=True)\n",
              "          (6): Permute()\n",
              "        )\n",
              "        (stochastic_depth): StochasticDepth(p=0.32857142857142857, mode=row)\n",
              "      )\n",
              "      (18): CNBlock(\n",
              "        (block): Sequential(\n",
              "          (0): Conv2d(512, 512, kernel_size=(7, 7), stride=(1, 1), padding=(3, 3), groups=512)\n",
              "          (1): Permute()\n",
              "          (2): LayerNorm((512,), eps=1e-06, elementwise_affine=True)\n",
              "          (3): Linear(in_features=512, out_features=2048, bias=True)\n",
              "          (4): GELU(approximate='none')\n",
              "          (5): Linear(in_features=2048, out_features=512, bias=True)\n",
              "          (6): Permute()\n",
              "        )\n",
              "        (stochastic_depth): StochasticDepth(p=0.34285714285714286, mode=row)\n",
              "      )\n",
              "      (19): CNBlock(\n",
              "        (block): Sequential(\n",
              "          (0): Conv2d(512, 512, kernel_size=(7, 7), stride=(1, 1), padding=(3, 3), groups=512)\n",
              "          (1): Permute()\n",
              "          (2): LayerNorm((512,), eps=1e-06, elementwise_affine=True)\n",
              "          (3): Linear(in_features=512, out_features=2048, bias=True)\n",
              "          (4): GELU(approximate='none')\n",
              "          (5): Linear(in_features=2048, out_features=512, bias=True)\n",
              "          (6): Permute()\n",
              "        )\n",
              "        (stochastic_depth): StochasticDepth(p=0.35714285714285715, mode=row)\n",
              "      )\n",
              "      (20): CNBlock(\n",
              "        (block): Sequential(\n",
              "          (0): Conv2d(512, 512, kernel_size=(7, 7), stride=(1, 1), padding=(3, 3), groups=512)\n",
              "          (1): Permute()\n",
              "          (2): LayerNorm((512,), eps=1e-06, elementwise_affine=True)\n",
              "          (3): Linear(in_features=512, out_features=2048, bias=True)\n",
              "          (4): GELU(approximate='none')\n",
              "          (5): Linear(in_features=2048, out_features=512, bias=True)\n",
              "          (6): Permute()\n",
              "        )\n",
              "        (stochastic_depth): StochasticDepth(p=0.37142857142857144, mode=row)\n",
              "      )\n",
              "      (21): CNBlock(\n",
              "        (block): Sequential(\n",
              "          (0): Conv2d(512, 512, kernel_size=(7, 7), stride=(1, 1), padding=(3, 3), groups=512)\n",
              "          (1): Permute()\n",
              "          (2): LayerNorm((512,), eps=1e-06, elementwise_affine=True)\n",
              "          (3): Linear(in_features=512, out_features=2048, bias=True)\n",
              "          (4): GELU(approximate='none')\n",
              "          (5): Linear(in_features=2048, out_features=512, bias=True)\n",
              "          (6): Permute()\n",
              "        )\n",
              "        (stochastic_depth): StochasticDepth(p=0.38571428571428573, mode=row)\n",
              "      )\n",
              "      (22): CNBlock(\n",
              "        (block): Sequential(\n",
              "          (0): Conv2d(512, 512, kernel_size=(7, 7), stride=(1, 1), padding=(3, 3), groups=512)\n",
              "          (1): Permute()\n",
              "          (2): LayerNorm((512,), eps=1e-06, elementwise_affine=True)\n",
              "          (3): Linear(in_features=512, out_features=2048, bias=True)\n",
              "          (4): GELU(approximate='none')\n",
              "          (5): Linear(in_features=2048, out_features=512, bias=True)\n",
              "          (6): Permute()\n",
              "        )\n",
              "        (stochastic_depth): StochasticDepth(p=0.4, mode=row)\n",
              "      )\n",
              "      (23): CNBlock(\n",
              "        (block): Sequential(\n",
              "          (0): Conv2d(512, 512, kernel_size=(7, 7), stride=(1, 1), padding=(3, 3), groups=512)\n",
              "          (1): Permute()\n",
              "          (2): LayerNorm((512,), eps=1e-06, elementwise_affine=True)\n",
              "          (3): Linear(in_features=512, out_features=2048, bias=True)\n",
              "          (4): GELU(approximate='none')\n",
              "          (5): Linear(in_features=2048, out_features=512, bias=True)\n",
              "          (6): Permute()\n",
              "        )\n",
              "        (stochastic_depth): StochasticDepth(p=0.4142857142857143, mode=row)\n",
              "      )\n",
              "      (24): CNBlock(\n",
              "        (block): Sequential(\n",
              "          (0): Conv2d(512, 512, kernel_size=(7, 7), stride=(1, 1), padding=(3, 3), groups=512)\n",
              "          (1): Permute()\n",
              "          (2): LayerNorm((512,), eps=1e-06, elementwise_affine=True)\n",
              "          (3): Linear(in_features=512, out_features=2048, bias=True)\n",
              "          (4): GELU(approximate='none')\n",
              "          (5): Linear(in_features=2048, out_features=512, bias=True)\n",
              "          (6): Permute()\n",
              "        )\n",
              "        (stochastic_depth): StochasticDepth(p=0.42857142857142855, mode=row)\n",
              "      )\n",
              "      (25): CNBlock(\n",
              "        (block): Sequential(\n",
              "          (0): Conv2d(512, 512, kernel_size=(7, 7), stride=(1, 1), padding=(3, 3), groups=512)\n",
              "          (1): Permute()\n",
              "          (2): LayerNorm((512,), eps=1e-06, elementwise_affine=True)\n",
              "          (3): Linear(in_features=512, out_features=2048, bias=True)\n",
              "          (4): GELU(approximate='none')\n",
              "          (5): Linear(in_features=2048, out_features=512, bias=True)\n",
              "          (6): Permute()\n",
              "        )\n",
              "        (stochastic_depth): StochasticDepth(p=0.44285714285714284, mode=row)\n",
              "      )\n",
              "      (26): CNBlock(\n",
              "        (block): Sequential(\n",
              "          (0): Conv2d(512, 512, kernel_size=(7, 7), stride=(1, 1), padding=(3, 3), groups=512)\n",
              "          (1): Permute()\n",
              "          (2): LayerNorm((512,), eps=1e-06, elementwise_affine=True)\n",
              "          (3): Linear(in_features=512, out_features=2048, bias=True)\n",
              "          (4): GELU(approximate='none')\n",
              "          (5): Linear(in_features=2048, out_features=512, bias=True)\n",
              "          (6): Permute()\n",
              "        )\n",
              "        (stochastic_depth): StochasticDepth(p=0.45714285714285713, mode=row)\n",
              "      )\n",
              "    )\n",
              "    (6): Sequential(\n",
              "      (0): LayerNorm2d((512,), eps=1e-06, elementwise_affine=True)\n",
              "      (1): Conv2d(512, 1024, kernel_size=(2, 2), stride=(2, 2))\n",
              "    )\n",
              "    (7): Sequential(\n",
              "      (0): CNBlock(\n",
              "        (block): Sequential(\n",
              "          (0): Conv2d(1024, 1024, kernel_size=(7, 7), stride=(1, 1), padding=(3, 3), groups=1024)\n",
              "          (1): Permute()\n",
              "          (2): LayerNorm((1024,), eps=1e-06, elementwise_affine=True)\n",
              "          (3): Linear(in_features=1024, out_features=4096, bias=True)\n",
              "          (4): GELU(approximate='none')\n",
              "          (5): Linear(in_features=4096, out_features=1024, bias=True)\n",
              "          (6): Permute()\n",
              "        )\n",
              "        (stochastic_depth): StochasticDepth(p=0.4714285714285714, mode=row)\n",
              "      )\n",
              "      (1): CNBlock(\n",
              "        (block): Sequential(\n",
              "          (0): Conv2d(1024, 1024, kernel_size=(7, 7), stride=(1, 1), padding=(3, 3), groups=1024)\n",
              "          (1): Permute()\n",
              "          (2): LayerNorm((1024,), eps=1e-06, elementwise_affine=True)\n",
              "          (3): Linear(in_features=1024, out_features=4096, bias=True)\n",
              "          (4): GELU(approximate='none')\n",
              "          (5): Linear(in_features=4096, out_features=1024, bias=True)\n",
              "          (6): Permute()\n",
              "        )\n",
              "        (stochastic_depth): StochasticDepth(p=0.4857142857142857, mode=row)\n",
              "      )\n",
              "      (2): CNBlock(\n",
              "        (block): Sequential(\n",
              "          (0): Conv2d(1024, 1024, kernel_size=(7, 7), stride=(1, 1), padding=(3, 3), groups=1024)\n",
              "          (1): Permute()\n",
              "          (2): LayerNorm((1024,), eps=1e-06, elementwise_affine=True)\n",
              "          (3): Linear(in_features=1024, out_features=4096, bias=True)\n",
              "          (4): GELU(approximate='none')\n",
              "          (5): Linear(in_features=4096, out_features=1024, bias=True)\n",
              "          (6): Permute()\n",
              "        )\n",
              "        (stochastic_depth): StochasticDepth(p=0.5, mode=row)\n",
              "      )\n",
              "    )\n",
              "  )\n",
              "  (avgpool): AdaptiveAvgPool2d(output_size=1)\n",
              "  (classifier): Sequential(\n",
              "    (0): LayerNorm2d((1024,), eps=1e-06, elementwise_affine=True)\n",
              "    (1): Flatten(start_dim=1, end_dim=-1)\n",
              "    (2): Linear(in_features=1024, out_features=1000, bias=True)\n",
              "  )\n",
              ")"
            ]
          },
          "metadata": {},
          "execution_count": 6
        }
      ],
      "source": [
        "convnext_base = torchvision.models.convnext_base(weights=None)\n",
        "convnext_base"
      ]
    },
    {
      "cell_type": "markdown",
      "id": "795dd080",
      "metadata": {
        "papermill": {
          "duration": 0.006089,
          "end_time": "2023-05-26T15:41:01.222186",
          "exception": false,
          "start_time": "2023-05-26T15:41:01.216097",
          "status": "completed"
        },
        "tags": [],
        "id": "795dd080"
      },
      "source": [
        "# Explore the children modules for alexnet"
      ]
    },
    {
      "cell_type": "code",
      "execution_count": null,
      "id": "2eb65048",
      "metadata": {
        "execution": {
          "iopub.execute_input": "2023-05-26T15:41:01.235768Z",
          "iopub.status.busy": "2023-05-26T15:41:01.235364Z",
          "iopub.status.idle": "2023-05-26T15:41:01.242826Z",
          "shell.execute_reply": "2023-05-26T15:41:01.241834Z"
        },
        "papermill": {
          "duration": 0.016961,
          "end_time": "2023-05-26T15:41:01.245100",
          "exception": false,
          "start_time": "2023-05-26T15:41:01.228139",
          "status": "completed"
        },
        "tags": [],
        "colab": {
          "base_uri": "https://localhost:8080/"
        },
        "id": "2eb65048",
        "outputId": "d8d3fc66-53e4-4b23-90eb-db422cfd2731"
      },
      "outputs": [
        {
          "output_type": "execute_result",
          "data": {
            "text/plain": [
              "dict_keys(['features', 'avgpool', 'classifier'])"
            ]
          },
          "metadata": {},
          "execution_count": 7
        }
      ],
      "source": [
        "dict(alexnet.named_children()).keys()"
      ]
    },
    {
      "cell_type": "markdown",
      "id": "4b9bdb2a",
      "metadata": {
        "papermill": {
          "duration": 0.005622,
          "end_time": "2023-05-26T15:41:01.258426",
          "exception": false,
          "start_time": "2023-05-26T15:41:01.252804",
          "status": "completed"
        },
        "tags": [],
        "id": "4b9bdb2a"
      },
      "source": [
        "# Explore child layers for all pre-trained classification models in torchvision"
      ]
    },
    {
      "cell_type": "code",
      "execution_count": null,
      "id": "3f732b11",
      "metadata": {
        "execution": {
          "iopub.execute_input": "2023-05-26T15:41:01.273795Z",
          "iopub.status.busy": "2023-05-26T15:41:01.272590Z",
          "iopub.status.idle": "2023-05-26T15:42:45.571992Z",
          "shell.execute_reply": "2023-05-26T15:42:45.570780Z"
        },
        "papermill": {
          "duration": 104.316169,
          "end_time": "2023-05-26T15:42:45.580864",
          "exception": false,
          "start_time": "2023-05-26T15:41:01.264695",
          "status": "completed"
        },
        "tags": [],
        "colab": {
          "base_uri": "https://localhost:8080/"
        },
        "id": "3f732b11",
        "outputId": "4a7de66d-1362-4c50-ba73-7b70dc73f646"
      },
      "outputs": [
        {
          "output_type": "stream",
          "name": "stderr",
          "text": [
            "/usr/local/lib/python3.10/dist-packages/torchvision/models/googlenet.py:47: FutureWarning: The default weight initialization of GoogleNet will be changed in future releases of torchvision. If you wish to keep the old behavior (which leads to long initialization times due to scipy/scipy#11299), please set init_weights=True.\n",
            "  warnings.warn(\n",
            "/usr/local/lib/python3.10/dist-packages/torchvision/models/inception.py:43: FutureWarning: The default weight initialization of inception_v3 will be changed in future releases of torchvision. If you wish to keep the old behavior (which leads to long initialization times due to scipy/scipy#11299), please set init_weights=True.\n",
            "  warnings.warn(\n",
            "/usr/local/lib/python3.10/dist-packages/torch/functional.py:507: UserWarning: torch.meshgrid: in an upcoming release, it will be required to pass the indexing argument. (Triggered internally at ../aten/src/ATen/native/TensorShape.cpp:3549.)\n",
            "  return _VF.meshgrid(tensors, **kwargs)  # type: ignore[attr-defined]\n"
          ]
        },
        {
          "output_type": "stream",
          "name": "stdout",
          "text": [
            "{'features': 39, 'avgpool': 59, 'classifier': 38, 'conv1': 15, 'maxpool1': 2, 'conv2': 1, 'conv3': 1, 'maxpool2': 2, 'inception3a': 1, 'inception3b': 1, 'maxpool3': 1, 'inception4a': 1, 'inception4b': 1, 'inception4c': 1, 'inception4d': 1, 'inception4e': 1, 'maxpool4': 1, 'inception5a': 1, 'inception5b': 1, 'aux1': 1, 'aux2': 1, 'dropout': 2, 'fc': 31, 'Conv2d_1a_3x3': 1, 'Conv2d_2a_3x3': 1, 'Conv2d_2b_3x3': 1, 'Conv2d_3b_1x1': 1, 'Conv2d_4a_3x3': 1, 'Mixed_5b': 1, 'Mixed_5c': 1, 'Mixed_5d': 1, 'Mixed_6a': 1, 'Mixed_6b': 1, 'Mixed_6c': 1, 'Mixed_6d': 1, 'Mixed_6e': 1, 'AuxLogits': 1, 'Mixed_7a': 1, 'Mixed_7b': 1, 'Mixed_7c': 1, 'stem': 16, 'blocks': 1, 'layers': 4, 'trunk_output': 15, 'bn1': 10, 'relu': 10, 'maxpool': 14, 'layer1': 10, 'layer2': 10, 'layer3': 10, 'layer4': 10, 'stage2': 4, 'stage3': 4, 'stage4': 4, 'conv5': 4, 'norm': 6, 'permute': 6, 'flatten': 6, 'head': 6, 'conv_proj': 5, 'encoder': 5, 'heads': 5}\n"
          ]
        }
      ],
      "source": [
        "layer_count = dict()\n",
        "\n",
        "for model_name in classification_models:\n",
        "    m = getattr(torchvision.models, model_name)(weights=None)\n",
        "    layer_names = dict(m.named_children()).keys()\n",
        "    for ln in layer_names:\n",
        "        layer_count[ln] = layer_count.get(ln, 0) + 1\n",
        "    # end for\n",
        "# end for\n",
        "\n",
        "print(layer_count)\n"
      ]
    },
    {
      "cell_type": "markdown",
      "id": "8001ccb6",
      "metadata": {
        "papermill": {
          "duration": 0.006251,
          "end_time": "2023-05-26T15:42:45.594774",
          "exception": false,
          "start_time": "2023-05-26T15:42:45.588523",
          "status": "completed"
        },
        "tags": [],
        "id": "8001ccb6"
      },
      "source": [
        "# Focus on classification layer for vgg16, resnet50, resnet152"
      ]
    },
    {
      "cell_type": "code",
      "execution_count": null,
      "id": "44e0a01f",
      "metadata": {
        "execution": {
          "iopub.execute_input": "2023-05-26T15:42:45.609170Z",
          "iopub.status.busy": "2023-05-26T15:42:45.608724Z",
          "iopub.status.idle": "2023-05-26T15:42:49.618526Z",
          "shell.execute_reply": "2023-05-26T15:42:49.616825Z"
        },
        "papermill": {
          "duration": 4.020458,
          "end_time": "2023-05-26T15:42:49.621524",
          "exception": false,
          "start_time": "2023-05-26T15:42:45.601066",
          "status": "completed"
        },
        "tags": [],
        "colab": {
          "base_uri": "https://localhost:8080/"
        },
        "id": "44e0a01f",
        "outputId": "d8998e9a-a244-4211-8f11-5836e869b0f0"
      },
      "outputs": [
        {
          "output_type": "stream",
          "name": "stdout",
          "text": [
            "vgg16\n",
            " Sequential(\n",
            "  (0): Linear(in_features=25088, out_features=4096, bias=True)\n",
            "  (1): ReLU(inplace=True)\n",
            "  (2): Dropout(p=0.5, inplace=False)\n",
            "  (3): Linear(in_features=4096, out_features=4096, bias=True)\n",
            "  (4): ReLU(inplace=True)\n",
            "  (5): Dropout(p=0.5, inplace=False)\n",
            "  (6): Linear(in_features=4096, out_features=1000, bias=True)\n",
            ")\n",
            "resnet50\n",
            " Linear(in_features=2048, out_features=1000, bias=True)\n",
            "resnet152\n",
            " Linear(in_features=2048, out_features=1000, bias=True)\n"
          ]
        }
      ],
      "source": [
        "vgg16 = torchvision.models.vgg16_bn(weights=None)\n",
        "resnet50 = torchvision.models.resnet50(weights=None)\n",
        "resnet152 = torchvision.models.resnet152(weights=None)\n",
        "print(\"vgg16\\n\", vgg16.classifier)\n",
        "print(\"resnet50\\n\", resnet50.fc)\n",
        "print(\"resnet152\\n\", resnet152.fc)"
      ]
    }
  ],
  "metadata": {
    "kernelspec": {
      "display_name": "Python 3",
      "language": "python",
      "name": "python3"
    },
    "language_info": {
      "codemirror_mode": {
        "name": "ipython",
        "version": 3
      },
      "file_extension": ".py",
      "mimetype": "text/x-python",
      "name": "python",
      "nbconvert_exporter": "python",
      "pygments_lexer": "ipython3",
      "version": "3.10.10"
    },
    "papermill": {
      "default_parameters": {},
      "duration": 131.852879,
      "end_time": "2023-05-26T15:42:52.015336",
      "environment_variables": {},
      "exception": null,
      "input_path": "__notebook__.ipynb",
      "output_path": "__notebook__.ipynb",
      "parameters": {},
      "start_time": "2023-05-26T15:40:40.162457",
      "version": "2.4.0"
    },
    "colab": {
      "provenance": []
    }
  },
  "nbformat": 4,
  "nbformat_minor": 5
}