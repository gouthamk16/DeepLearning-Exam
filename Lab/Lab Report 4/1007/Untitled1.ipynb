{
 "cells": [
  {
   "cell_type": "code",
   "execution_count": 1,
   "id": "ea0847a0",
   "metadata": {},
   "outputs": [
    {
     "name": "stdout",
     "output_type": "stream",
     "text": [
      "Collecting fastf1\n",
      "  Downloading fastf1-3.3.0-py3-none-any.whl (128 kB)\n",
      "\u001b[K     |████████████████████████████████| 128 kB 22.7 MB/s eta 0:00:01\n",
      "\u001b[?25hCollecting requests>=2.28.1\n",
      "  Downloading requests-2.31.0-py3-none-any.whl (62 kB)\n",
      "\u001b[K     |████████████████████████████████| 62 kB 272 kB/s s eta 0:00:01\n",
      "\u001b[?25hRequirement already satisfied: matplotlib<4.0.0,>=3.5.1 in /home/ex5/.local/lib/python3.8/site-packages (from fastf1) (3.7.4)\n",
      "Collecting websockets>=10.3\n",
      "  Downloading websockets-12.0-cp38-cp38-manylinux_2_5_x86_64.manylinux1_x86_64.manylinux_2_17_x86_64.manylinux2014_x86_64.whl (130 kB)\n",
      "\u001b[K     |████████████████████████████████| 130 kB 163.9 MB/s eta 0:00:01\n",
      "\u001b[?25hRequirement already satisfied: scipy<2.0.0,>=1.7.3 in /usr/local/lib/python3.8/dist-packages (from fastf1) (1.9.2)\n",
      "Collecting requests-cache>=1.0.0\n",
      "  Downloading requests_cache-1.2.0-py3-none-any.whl (61 kB)\n",
      "\u001b[K     |████████████████████████████████| 61 kB 2.1 MB/s s eta 0:00:01\n",
      "\u001b[?25hRequirement already satisfied: numpy<2.0.0,>=1.21.5 in /usr/local/lib/python3.8/dist-packages (from fastf1) (1.23.3)\n",
      "Requirement already satisfied: pandas<3.0.0,>=1.4.1 in /usr/local/lib/python3.8/dist-packages (from fastf1) (1.5.0)\n",
      "Requirement already satisfied: python-dateutil in /usr/local/lib/python3.8/dist-packages (from fastf1) (2.8.2)\n",
      "Collecting timple>=0.1.6\n",
      "  Downloading timple-0.1.8-py3-none-any.whl (17 kB)\n",
      "Collecting thefuzz\n",
      "  Downloading thefuzz-0.22.1-py3-none-any.whl (8.2 kB)\n",
      "Requirement already satisfied: certifi>=2017.4.17 in /usr/lib/python3/dist-packages (from requests>=2.28.1->fastf1) (2019.11.28)\n",
      "Requirement already satisfied: idna<4,>=2.5 in /usr/lib/python3/dist-packages (from requests>=2.28.1->fastf1) (2.8)\n",
      "Collecting charset-normalizer<4,>=2\n",
      "  Downloading charset_normalizer-3.3.2-cp38-cp38-manylinux_2_17_x86_64.manylinux2014_x86_64.whl (141 kB)\n",
      "\u001b[K     |████████████████████████████████| 141 kB 152.2 MB/s eta 0:00:01\n",
      "\u001b[?25hRequirement already satisfied: urllib3<3,>=1.21.1 in /usr/lib/python3/dist-packages (from requests>=2.28.1->fastf1) (1.25.8)\n",
      "Requirement already satisfied: contourpy>=1.0.1 in /home/ex5/.local/lib/python3.8/site-packages (from matplotlib<4.0.0,>=3.5.1->fastf1) (1.1.1)\n",
      "Requirement already satisfied: cycler>=0.10 in /home/ex5/.local/lib/python3.8/site-packages (from matplotlib<4.0.0,>=3.5.1->fastf1) (0.12.1)\n",
      "Requirement already satisfied: packaging>=20.0 in /usr/lib/python3/dist-packages (from matplotlib<4.0.0,>=3.5.1->fastf1) (20.3)\n",
      "Requirement already satisfied: kiwisolver>=1.0.1 in /home/ex5/.local/lib/python3.8/site-packages (from matplotlib<4.0.0,>=3.5.1->fastf1) (1.4.5)\n",
      "Requirement already satisfied: pyparsing>=2.3.1 in /usr/lib/python3/dist-packages (from matplotlib<4.0.0,>=3.5.1->fastf1) (2.4.6)\n",
      "Requirement already satisfied: pillow>=6.2.0 in /usr/lib/python3/dist-packages (from matplotlib<4.0.0,>=3.5.1->fastf1) (7.0.0)\n",
      "Requirement already satisfied: fonttools>=4.22.0 in /home/ex5/.local/lib/python3.8/site-packages (from matplotlib<4.0.0,>=3.5.1->fastf1) (4.47.2)\n",
      "Requirement already satisfied: importlib-resources>=3.2.0; python_version < \"3.10\" in /usr/local/lib/python3.8/dist-packages (from matplotlib<4.0.0,>=3.5.1->fastf1) (5.10.0)\n",
      "Collecting url-normalize>=1.4\n",
      "  Downloading url_normalize-1.4.3-py2.py3-none-any.whl (6.8 kB)\n",
      "Collecting platformdirs>=2.5\n",
      "  Downloading platformdirs-4.2.0-py3-none-any.whl (17 kB)\n",
      "Collecting cattrs>=22.2\n",
      "  Downloading cattrs-23.2.3-py3-none-any.whl (57 kB)\n",
      "\u001b[K     |████████████████████████████████| 57 kB 979 kB/s s eta 0:00:01\n",
      "\u001b[?25hRequirement already satisfied: attrs>=21.2 in /usr/local/lib/python3.8/dist-packages (from requests-cache>=1.0.0->fastf1) (22.1.0)\n",
      "Requirement already satisfied: pytz>=2020.1 in /usr/local/lib/python3.8/dist-packages (from pandas<3.0.0,>=1.4.1->fastf1) (2022.4)\n",
      "Requirement already satisfied: six>=1.5 in /usr/lib/python3/dist-packages (from python-dateutil->fastf1) (1.14.0)\n",
      "Collecting rapidfuzz<4.0.0,>=3.0.0\n",
      "  Downloading rapidfuzz-3.6.1-cp38-cp38-manylinux_2_17_x86_64.manylinux2014_x86_64.whl (3.4 MB)\n",
      "\u001b[K     |████████████████████████████████| 3.4 MB 130.3 MB/s eta 0:00:01\n",
      "\u001b[?25hRequirement already satisfied: zipp>=3.1.0; python_version < \"3.10\" in /usr/local/lib/python3.8/dist-packages (from importlib-resources>=3.2.0; python_version < \"3.10\"->matplotlib<4.0.0,>=3.5.1->fastf1) (3.9.0)\n",
      "Collecting exceptiongroup>=1.1.1; python_version < \"3.11\"\n",
      "  Downloading exceptiongroup-1.2.0-py3-none-any.whl (16 kB)\n",
      "Requirement already satisfied: typing-extensions!=4.6.3,>=4.1.0; python_version < \"3.11\" in /usr/local/lib/python3.8/dist-packages (from cattrs>=22.2->requests-cache>=1.0.0->fastf1) (4.8.0)\n",
      "\u001b[31mERROR: cattrs 23.2.3 has requirement attrs>=23.1.0, but you'll have attrs 22.1.0 which is incompatible.\u001b[0m\n",
      "Installing collected packages: charset-normalizer, requests, websockets, url-normalize, platformdirs, exceptiongroup, cattrs, requests-cache, timple, rapidfuzz, thefuzz, fastf1\n",
      "\u001b[33m  WARNING: The script normalizer is installed in '/home/ex5/.local/bin' which is not on PATH.\n",
      "  Consider adding this directory to PATH or, if you prefer to suppress this warning, use --no-warn-script-location.\u001b[0m\n",
      "Successfully installed cattrs-23.2.3 charset-normalizer-3.3.2 exceptiongroup-1.2.0 fastf1-3.3.0 platformdirs-4.2.0 rapidfuzz-3.6.1 requests-2.31.0 requests-cache-1.2.0 thefuzz-0.22.1 timple-0.1.8 url-normalize-1.4.3 websockets-12.0\n"
     ]
    }
   ],
   "source": [
    "!pip install fastf1"
   ]
  },
  {
   "cell_type": "code",
   "execution_count": 5,
   "id": "7453743d",
   "metadata": {},
   "outputs": [
    {
     "name": "stderr",
     "output_type": "stream",
     "text": [
      "Unable to deserialize response: 'Attribute' object has no attribute 'alias'\n"
     ]
    },
    {
     "data": {
      "text/plain": [
       "2024 Season Round 0: Pre-Season Testing - Practice 1"
      ]
     },
     "execution_count": 5,
     "metadata": {},
     "output_type": "execute_result"
    }
   ],
   "source": [
    "import fastf1\n",
    "fastf1.get_testing_session(2024, 1, 1)"
   ]
  },
  {
   "cell_type": "code",
   "execution_count": null,
   "id": "df5f3e31",
   "metadata": {},
   "outputs": [],
   "source": []
  }
 ],
 "metadata": {
  "kernelspec": {
   "display_name": "Python 3 (ipykernel)",
   "language": "python",
   "name": "python3"
  },
  "language_info": {
   "codemirror_mode": {
    "name": "ipython",
    "version": 3
   },
   "file_extension": ".py",
   "mimetype": "text/x-python",
   "name": "python",
   "nbconvert_exporter": "python",
   "pygments_lexer": "ipython3",
   "version": "3.8.10"
  }
 },
 "nbformat": 4,
 "nbformat_minor": 5
}
