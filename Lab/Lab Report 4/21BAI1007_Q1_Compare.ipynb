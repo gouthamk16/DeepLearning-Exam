{
  "cells": [
    {
      "cell_type": "markdown",
      "source": [
        "## Comparing 5 different Models on the MNIST Dataset - 21BAI1007\n"
      ],
      "metadata": {
        "id": "2XDbbDXF2cYQ"
      },
      "id": "2XDbbDXF2cYQ"
    },
    {
      "cell_type": "code",
      "execution_count": 1,
      "metadata": {
        "id": "7368fad1"
      },
      "outputs": [],
      "source": [
        "import numpy\n",
        "from keras.datasets import mnist\n",
        "from keras.models import Sequential\n",
        "from keras.layers import Dense, Dropout, Flatten, Convolution2D, MaxPooling2D\n",
        "from keras.utils import to_categorical\n",
        "import numpy as np\n",
        "import matplotlib.pyplot as plt\n",
        "import itertools"
      ],
      "id": "7368fad1"
    },
    {
      "cell_type": "code",
      "execution_count": 2,
      "metadata": {
        "id": "00e4edad"
      },
      "outputs": [],
      "source": [
        "seed = 7\n",
        "numpy.random.seed(seed)"
      ],
      "id": "00e4edad"
    },
    {
      "cell_type": "code",
      "execution_count": 3,
      "metadata": {
        "id": "0af56a4e",
        "colab": {
          "base_uri": "https://localhost:8080/"
        },
        "outputId": "c64a9804-4b29-49e4-f3e8-caad6259dd73"
      },
      "outputs": [
        {
          "output_type": "stream",
          "name": "stdout",
          "text": [
            "Downloading data from https://storage.googleapis.com/tensorflow/tf-keras-datasets/mnist.npz\n",
            "11490434/11490434 [==============================] - 2s 0us/step\n"
          ]
        }
      ],
      "source": [
        "(X_train, y_train), (X_test, y_test) = mnist.load_data()"
      ],
      "id": "0af56a4e"
    },
    {
      "cell_type": "code",
      "execution_count": 4,
      "metadata": {
        "colab": {
          "base_uri": "https://localhost:8080/"
        },
        "id": "5e93e65d",
        "outputId": "70ef4b4d-07a1-44fe-fd0e-8d178a981fab"
      },
      "outputs": [
        {
          "output_type": "execute_result",
          "data": {
            "text/plain": [
              "array([[[0, 0, 0, ..., 0, 0, 0],\n",
              "        [0, 0, 0, ..., 0, 0, 0],\n",
              "        [0, 0, 0, ..., 0, 0, 0],\n",
              "        ...,\n",
              "        [0, 0, 0, ..., 0, 0, 0],\n",
              "        [0, 0, 0, ..., 0, 0, 0],\n",
              "        [0, 0, 0, ..., 0, 0, 0]],\n",
              "\n",
              "       [[0, 0, 0, ..., 0, 0, 0],\n",
              "        [0, 0, 0, ..., 0, 0, 0],\n",
              "        [0, 0, 0, ..., 0, 0, 0],\n",
              "        ...,\n",
              "        [0, 0, 0, ..., 0, 0, 0],\n",
              "        [0, 0, 0, ..., 0, 0, 0],\n",
              "        [0, 0, 0, ..., 0, 0, 0]],\n",
              "\n",
              "       [[0, 0, 0, ..., 0, 0, 0],\n",
              "        [0, 0, 0, ..., 0, 0, 0],\n",
              "        [0, 0, 0, ..., 0, 0, 0],\n",
              "        ...,\n",
              "        [0, 0, 0, ..., 0, 0, 0],\n",
              "        [0, 0, 0, ..., 0, 0, 0],\n",
              "        [0, 0, 0, ..., 0, 0, 0]],\n",
              "\n",
              "       ...,\n",
              "\n",
              "       [[0, 0, 0, ..., 0, 0, 0],\n",
              "        [0, 0, 0, ..., 0, 0, 0],\n",
              "        [0, 0, 0, ..., 0, 0, 0],\n",
              "        ...,\n",
              "        [0, 0, 0, ..., 0, 0, 0],\n",
              "        [0, 0, 0, ..., 0, 0, 0],\n",
              "        [0, 0, 0, ..., 0, 0, 0]],\n",
              "\n",
              "       [[0, 0, 0, ..., 0, 0, 0],\n",
              "        [0, 0, 0, ..., 0, 0, 0],\n",
              "        [0, 0, 0, ..., 0, 0, 0],\n",
              "        ...,\n",
              "        [0, 0, 0, ..., 0, 0, 0],\n",
              "        [0, 0, 0, ..., 0, 0, 0],\n",
              "        [0, 0, 0, ..., 0, 0, 0]],\n",
              "\n",
              "       [[0, 0, 0, ..., 0, 0, 0],\n",
              "        [0, 0, 0, ..., 0, 0, 0],\n",
              "        [0, 0, 0, ..., 0, 0, 0],\n",
              "        ...,\n",
              "        [0, 0, 0, ..., 0, 0, 0],\n",
              "        [0, 0, 0, ..., 0, 0, 0],\n",
              "        [0, 0, 0, ..., 0, 0, 0]]], dtype=uint8)"
            ]
          },
          "metadata": {},
          "execution_count": 4
        }
      ],
      "source": [
        "X_train"
      ],
      "id": "5e93e65d"
    },
    {
      "cell_type": "code",
      "execution_count": 5,
      "metadata": {
        "colab": {
          "base_uri": "https://localhost:8080/"
        },
        "id": "f94b8330",
        "outputId": "a6c1789d-ba73-424d-d433-23fc52350aec"
      },
      "outputs": [
        {
          "output_type": "execute_result",
          "data": {
            "text/plain": [
              "array([5, 0, 4, ..., 5, 6, 8], dtype=uint8)"
            ]
          },
          "metadata": {},
          "execution_count": 5
        }
      ],
      "source": [
        "y_train"
      ],
      "id": "f94b8330"
    },
    {
      "cell_type": "code",
      "execution_count": 6,
      "metadata": {
        "id": "728eeca4"
      },
      "outputs": [],
      "source": [
        "X_train = X_train.reshape(X_train.shape[0], 28, 28, 1).astype('float32')\n",
        "X_test = X_test.reshape(X_test.shape[0], 28, 28, 1).astype('float32')"
      ],
      "id": "728eeca4"
    },
    {
      "cell_type": "code",
      "execution_count": 7,
      "metadata": {
        "id": "0a3f1b0c"
      },
      "outputs": [],
      "source": [
        "X_train = X_train/255\n",
        "X_test = X_test/255"
      ],
      "id": "0a3f1b0c"
    },
    {
      "cell_type": "code",
      "execution_count": 8,
      "metadata": {
        "id": "6e3f3f00"
      },
      "outputs": [],
      "source": [
        "y_train = to_categorical(y_train)\n",
        "y_test = to_categorical(y_test)\n",
        "num_classes = y_test.shape[1]\n",
        "(x_train, y_train1), (x_test, y_test1) = mnist.load_data()"
      ],
      "id": "6e3f3f00"
    },
    {
      "cell_type": "code",
      "execution_count": 9,
      "metadata": {
        "colab": {
          "base_uri": "https://localhost:8080/"
        },
        "id": "qwtmWytDXfMx",
        "outputId": "8ec8558f-2573-42bd-fc02-420102791bb3"
      },
      "outputs": [
        {
          "output_type": "execute_result",
          "data": {
            "text/plain": [
              "(28, 28, 1)"
            ]
          },
          "metadata": {},
          "execution_count": 9
        }
      ],
      "source": [
        "X_train[1].shape"
      ],
      "id": "qwtmWytDXfMx"
    },
    {
      "cell_type": "markdown",
      "source": [
        "## Model 1 - 21BAI1007\n"
      ],
      "metadata": {
        "id": "_MI5jBk22jSX"
      },
      "id": "_MI5jBk22jSX"
    },
    {
      "cell_type": "code",
      "execution_count": 10,
      "metadata": {
        "colab": {
          "base_uri": "https://localhost:8080/",
          "height": 125
        },
        "id": "e9b5b3e4",
        "outputId": "3700d584-e09b-4541-f082-fc042e14a32a"
      },
      "outputs": [
        {
          "output_type": "display_data",
          "data": {
            "text/plain": [
              "<Figure size 1000x1000 with 10 Axes>"
            ],
            "image/png": "[encoded data removed]"
          },
          "metadata": {}
        }
      ],
      "source": [
        "fig, ax = plt.subplots(1, 10, figsize=(10, 10))\n",
        "for i in range(0, 10):\n",
        "    ax[i].xaxis.set_visible(False)\n",
        "    ax[i].yaxis.set_visible(False)\n",
        "    ax[i].set_title(y_train1[i])\n",
        "    ax[i].imshow(x_train[i], cmap=plt.cm.binary)\n",
        "\n",
        "def baseline_model():\n",
        "    model = Sequential()\n",
        "    model.add(Convolution2D(32, (5, 5), padding='valid', strides=(1,1), input_shape=(28,28,1), activation='relu'))\n",
        "    model.add(MaxPooling2D(pool_size=(2, 2)))\n",
        "    model.add(Dropout(0.2))\n",
        "    model.add(Flatten())\n",
        "    model.add(Dense(1152, activation='relu'))\n",
        "    model.add(Dense(128, activation='relu'))\n",
        "    model.add(Dense(10, activation='softmax'))\n",
        "    model.compile(loss='categorical_crossentropy', optimizer='adam', metrics=['accuracy'])\n",
        "    return model"
      ],
      "id": "e9b5b3e4"
    },
    {
      "cell_type": "code",
      "execution_count": 11,
      "metadata": {
        "colab": {
          "base_uri": "https://localhost:8080/"
        },
        "id": "be51a81c",
        "outputId": "e1c03485-708e-4ff0-8465-b0a67bbe8e09"
      },
      "outputs": [
        {
          "output_type": "stream",
          "name": "stdout",
          "text": [
            "Epoch 1/10\n",
            "300/300 - 7s - loss: 0.1704 - accuracy: 0.9481 - val_loss: 0.0519 - val_accuracy: 0.9833 - 7s/epoch - 25ms/step\n",
            "Epoch 2/10\n",
            "300/300 - 2s - loss: 0.0508 - accuracy: 0.9842 - val_loss: 0.0445 - val_accuracy: 0.9854 - 2s/epoch - 6ms/step\n",
            "Epoch 3/10\n",
            "300/300 - 2s - loss: 0.0327 - accuracy: 0.9894 - val_loss: 0.0318 - val_accuracy: 0.9894 - 2s/epoch - 6ms/step\n",
            "Epoch 4/10\n",
            "300/300 - 2s - loss: 0.0228 - accuracy: 0.9929 - val_loss: 0.0439 - val_accuracy: 0.9857 - 2s/epoch - 6ms/step\n",
            "Epoch 5/10\n",
            "300/300 - 2s - loss: 0.0190 - accuracy: 0.9938 - val_loss: 0.0319 - val_accuracy: 0.9878 - 2s/epoch - 6ms/step\n",
            "Epoch 6/10\n",
            "300/300 - 2s - loss: 0.0123 - accuracy: 0.9961 - val_loss: 0.0392 - val_accuracy: 0.9870 - 2s/epoch - 7ms/step\n",
            "Epoch 7/10\n",
            "300/300 - 2s - loss: 0.0122 - accuracy: 0.9958 - val_loss: 0.0337 - val_accuracy: 0.9897 - 2s/epoch - 6ms/step\n",
            "Epoch 8/10\n",
            "300/300 - 2s - loss: 0.0089 - accuracy: 0.9969 - val_loss: 0.0335 - val_accuracy: 0.9895 - 2s/epoch - 7ms/step\n",
            "Epoch 9/10\n",
            "300/300 - 2s - loss: 0.0092 - accuracy: 0.9969 - val_loss: 0.0445 - val_accuracy: 0.9879 - 2s/epoch - 7ms/step\n",
            "Epoch 10/10\n",
            "300/300 - 2s - loss: 0.0094 - accuracy: 0.9968 - val_loss: 0.0287 - val_accuracy: 0.9916 - 2s/epoch - 6ms/step\n",
            "CNN Error: 0.84%\n"
          ]
        }
      ],
      "source": [
        "model = baseline_model()\n",
        "model.fit(X_train, y_train, validation_data=(X_test, y_test), epochs=10, batch_size=200, verbose=2)\n",
        "scores = model.evaluate(X_test, y_test, verbose=0)\n",
        "print(\"CNN Error: %.2f%%\" % (100-scores[1]*100))"
      ],
      "id": "be51a81c"
    },
    {
      "cell_type": "code",
      "execution_count": 12,
      "metadata": {
        "colab": {
          "base_uri": "https://localhost:8080/",
          "height": 466
        },
        "id": "Ps8BD_JQWnPH",
        "outputId": "69ec193d-33ae-4c14-f787-5943c9fc82e6"
      },
      "outputs": [
        {
          "output_type": "stream",
          "name": "stdout",
          "text": [
            "1/1 [==============================] - 0s 116ms/step\n",
            "7\n"
          ]
        },
        {
          "output_type": "display_data",
          "data": {
            "text/plain": [
              "<Figure size 640x480 with 1 Axes>"
            ],
            "image/png": "[encoded data removed]"
          },
          "metadata": {}
        }
      ],
      "source": [
        "num = 79;\n",
        "plt.imshow(x_test[num])\n",
        "testSample = x_test[num].reshape(1, x_test[num].shape[0], 28, 1).astype('float32')\n",
        "pred = model.predict(testSample)\n",
        "for i in range(0, 10):\n",
        "  if pred[0][i]==1:\n",
        "    print(i);"
      ],
      "id": "Ps8BD_JQWnPH"
    },
    {
      "cell_type": "markdown",
      "metadata": {
        "id": "lRCFr-SxaC9D"
      },
      "source": [
        "## Second Model - 21BAI1007"
      ],
      "id": "lRCFr-SxaC9D"
    },
    {
      "cell_type": "code",
      "execution_count": 13,
      "metadata": {
        "colab": {
          "base_uri": "https://localhost:8080/"
        },
        "id": "4nC1HewuaD4w",
        "outputId": "d56eda6d-88f9-4d0c-d6c8-f4d2b43c6360"
      },
      "outputs": [
        {
          "output_type": "stream",
          "name": "stdout",
          "text": [
            "Epoch 1/10\n",
            "300/300 - 5s - loss: 0.2776 - accuracy: 0.9120 - val_loss: 0.0809 - val_accuracy: 0.9759 - 5s/epoch - 18ms/step\n",
            "Epoch 2/10\n",
            "300/300 - 2s - loss: 0.0716 - accuracy: 0.9788 - val_loss: 0.0477 - val_accuracy: 0.9853 - 2s/epoch - 5ms/step\n",
            "Epoch 3/10\n",
            "300/300 - 2s - loss: 0.0508 - accuracy: 0.9852 - val_loss: 0.0413 - val_accuracy: 0.9864 - 2s/epoch - 5ms/step\n",
            "Epoch 4/10\n",
            "300/300 - 2s - loss: 0.0366 - accuracy: 0.9895 - val_loss: 0.0410 - val_accuracy: 0.9878 - 2s/epoch - 5ms/step\n",
            "Epoch 5/10\n",
            "300/300 - 2s - loss: 0.0339 - accuracy: 0.9898 - val_loss: 0.0413 - val_accuracy: 0.9880 - 2s/epoch - 5ms/step\n",
            "Epoch 6/10\n",
            "300/300 - 2s - loss: 0.0301 - accuracy: 0.9908 - val_loss: 0.0416 - val_accuracy: 0.9888 - 2s/epoch - 6ms/step\n",
            "Epoch 7/10\n",
            "300/300 - 2s - loss: 0.0240 - accuracy: 0.9927 - val_loss: 0.0295 - val_accuracy: 0.9912 - 2s/epoch - 6ms/step\n",
            "Epoch 8/10\n",
            "300/300 - 2s - loss: 0.0227 - accuracy: 0.9933 - val_loss: 0.0336 - val_accuracy: 0.9905 - 2s/epoch - 5ms/step\n",
            "Epoch 9/10\n",
            "300/300 - 2s - loss: 0.0206 - accuracy: 0.9938 - val_loss: 0.0349 - val_accuracy: 0.9903 - 2s/epoch - 5ms/step\n",
            "Epoch 10/10\n",
            "300/300 - 2s - loss: 0.0177 - accuracy: 0.9946 - val_loss: 0.0502 - val_accuracy: 0.9879 - 2s/epoch - 5ms/step\n",
            "CNN Error: 1.21%\n",
            "Accuracy: 98.79%\n"
          ]
        }
      ],
      "source": [
        "def model2():\n",
        "    model = Sequential()\n",
        "    model.add(Convolution2D(64, (5, 5), padding='valid', strides=(1,2), input_shape=(28,28,1), activation='relu'))\n",
        "    model.add(MaxPooling2D(pool_size=(3, 3)))\n",
        "    model.add(Dropout(0.2))\n",
        "    model.add(Flatten())\n",
        "    model.add(Dense(1024, activation='relu'))\n",
        "    model.add(Dense(512, activation='relu'))\n",
        "    model.add(Dense(256, activation='relu'))\n",
        "    model.add(Dropout(0.2))\n",
        "    model.add(Dense(128, activation='relu'))\n",
        "    model.add(Dense(64, activation='relu'))\n",
        "    model.add(Dense(32, activation='relu'))\n",
        "    model.add(Dense(10, activation='softmax'))\n",
        "    model.compile(loss='categorical_crossentropy', optimizer='adam', metrics=['accuracy'])\n",
        "    return model\n",
        "\n",
        "model2 = model2()\n",
        "model2.fit(X_train, y_train, validation_data=(X_test, y_test), epochs=10, batch_size=200, verbose=2)\n",
        "scores = model2.evaluate(X_test, y_test, verbose=0)\n",
        "print(\"CNN Error: %.2f%%\" % (100-scores[1]*100))\n",
        "print(\"Accuracy: %.2f%%\" % (scores[1]*100))"
      ],
      "id": "4nC1HewuaD4w"
    },
    {
      "cell_type": "markdown",
      "metadata": {
        "id": "Fic-UaeljMUE"
      },
      "source": [
        "## Third model - 21BAI1007"
      ],
      "id": "Fic-UaeljMUE"
    },
    {
      "cell_type": "code",
      "execution_count": 14,
      "metadata": {
        "colab": {
          "base_uri": "https://localhost:8080/"
        },
        "id": "UR7je1tOjOyT",
        "outputId": "a0953dd8-0d34-41e7-c813-9e62eb006c23"
      },
      "outputs": [
        {
          "output_type": "stream",
          "name": "stdout",
          "text": [
            "Epoch 1/20\n",
            "938/938 [==============================] - 8s 6ms/step - loss: 0.1879 - accuracy: 0.9421 - val_loss: 0.0496 - val_accuracy: 0.9832\n",
            "Epoch 2/20\n",
            "938/938 [==============================] - 5s 5ms/step - loss: 0.0500 - accuracy: 0.9844 - val_loss: 0.0538 - val_accuracy: 0.9845\n",
            "Epoch 3/20\n",
            "938/938 [==============================] - 5s 6ms/step - loss: 0.0365 - accuracy: 0.9884 - val_loss: 0.0365 - val_accuracy: 0.9884\n",
            "Epoch 4/20\n",
            "938/938 [==============================] - 5s 5ms/step - loss: 0.0292 - accuracy: 0.9905 - val_loss: 0.0282 - val_accuracy: 0.9919\n",
            "Epoch 5/20\n",
            "938/938 [==============================] - 5s 5ms/step - loss: 0.0229 - accuracy: 0.9928 - val_loss: 0.0354 - val_accuracy: 0.9883\n",
            "Epoch 6/20\n",
            "938/938 [==============================] - 5s 6ms/step - loss: 0.0185 - accuracy: 0.9942 - val_loss: 0.0302 - val_accuracy: 0.9912\n",
            "Epoch 7/20\n",
            "938/938 [==============================] - 5s 5ms/step - loss: 0.0152 - accuracy: 0.9952 - val_loss: 0.0293 - val_accuracy: 0.9912\n",
            "Epoch 8/20\n",
            "938/938 [==============================] - 5s 6ms/step - loss: 0.0133 - accuracy: 0.9958 - val_loss: 0.0377 - val_accuracy: 0.9899\n",
            "Epoch 9/20\n",
            "938/938 [==============================] - 4s 5ms/step - loss: 0.0121 - accuracy: 0.9962 - val_loss: 0.0285 - val_accuracy: 0.9922\n",
            "Epoch 10/20\n",
            "938/938 [==============================] - 5s 5ms/step - loss: 0.0098 - accuracy: 0.9969 - val_loss: 0.0324 - val_accuracy: 0.9903\n",
            "Epoch 11/20\n",
            "938/938 [==============================] - 6s 6ms/step - loss: 0.0075 - accuracy: 0.9975 - val_loss: 0.0300 - val_accuracy: 0.9917\n",
            "Epoch 12/20\n",
            "938/938 [==============================] - 5s 5ms/step - loss: 0.0077 - accuracy: 0.9974 - val_loss: 0.0324 - val_accuracy: 0.9927\n",
            "Epoch 13/20\n",
            "938/938 [==============================] - 5s 5ms/step - loss: 0.0077 - accuracy: 0.9976 - val_loss: 0.0317 - val_accuracy: 0.9909\n",
            "Epoch 14/20\n",
            "938/938 [==============================] - 5s 5ms/step - loss: 0.0056 - accuracy: 0.9982 - val_loss: 0.0315 - val_accuracy: 0.9919\n",
            "Epoch 15/20\n",
            "938/938 [==============================] - 5s 5ms/step - loss: 0.0075 - accuracy: 0.9974 - val_loss: 0.0306 - val_accuracy: 0.9913\n",
            "Epoch 16/20\n",
            "938/938 [==============================] - 5s 6ms/step - loss: 0.0040 - accuracy: 0.9988 - val_loss: 0.0323 - val_accuracy: 0.9923\n",
            "Epoch 17/20\n",
            "938/938 [==============================] - 5s 5ms/step - loss: 0.0051 - accuracy: 0.9983 - val_loss: 0.0351 - val_accuracy: 0.9920\n",
            "Epoch 18/20\n",
            "938/938 [==============================] - 5s 6ms/step - loss: 0.0064 - accuracy: 0.9978 - val_loss: 0.0327 - val_accuracy: 0.9917\n",
            "Epoch 19/20\n",
            "938/938 [==============================] - 5s 5ms/step - loss: 0.0035 - accuracy: 0.9988 - val_loss: 0.0387 - val_accuracy: 0.9916\n",
            "Epoch 20/20\n",
            "938/938 [==============================] - 5s 5ms/step - loss: 0.0054 - accuracy: 0.9981 - val_loss: 0.0351 - val_accuracy: 0.9927\n",
            "CNN Error: 0.73%\n",
            "Accuracy: 99.27%\n"
          ]
        }
      ],
      "source": [
        "def model3():\n",
        "    model = Sequential()\n",
        "    model.add(Convolution2D(32, (3, 3), padding='valid', strides=(1,1), input_shape=(28, 28, 1), activation='relu'))\n",
        "    model.add(MaxPooling2D(pool_size=(2, 2)))\n",
        "    model.add(Convolution2D(64, (3, 3), activation='relu'))\n",
        "    model.add(MaxPooling2D(pool_size=(2, 2)))\n",
        "    model.add(Convolution2D(64, (3, 3), activation='relu'))\n",
        "    model.add(Flatten())\n",
        "    model.add(Dense(64, activation='relu'))\n",
        "    #model.add(Dropout(0.2))\n",
        "    #model.add(Dense(32, activation='relu'))\n",
        "    model.add(Dense(10, activation='softmax'))\n",
        "    model.compile(loss='categorical_crossentropy', optimizer='adam', metrics=['accuracy'])\n",
        "    return model\n",
        "\n",
        "model3 = model3()\n",
        "model3.fit(X_train, y_train, validation_data=(X_test, y_test), epochs=20, batch_size=64, verbose=1)\n",
        "scores = model3.evaluate(X_test, y_test, verbose=0)\n",
        "print(\"CNN Error: %.2f%%\" % (100-scores[1]*100))\n",
        "print(\"Accuracy: %.2f%%\" % (scores[1]*100))"
      ],
      "id": "UR7je1tOjOyT"
    },
    {
      "cell_type": "markdown",
      "source": [
        "## Fourth Model - ALEXNET - 21BAI1007"
      ],
      "metadata": {
        "id": "U_7-He_p2rbG"
      },
      "id": "U_7-He_p2rbG"
    },
    {
      "cell_type": "code",
      "source": [
        "def model4():\n",
        "    model = Sequential()\n",
        "    model.add(Convolution2D(96, (3,3), strides=1, input_shape=(28,28,1), activation='relu'))\n",
        "    model.add(MaxPooling2D((3,3), strides=2))\n",
        "    model.add(Convolution2D(256, (5,5), padding='same', activation='relu'))\n",
        "    model.add(MaxPooling2D((3,3), strides=2))\n",
        "    model.add(Convolution2D(384, (3,3), padding='same', activation='relu'))\n",
        "    model.add(Convolution2D(384, (3,3), padding='same', activation='relu'))\n",
        "    model.add(Convolution2D(256, (3,3), padding='same', activation='relu'))\n",
        "    model.add(MaxPooling2D((3,3), strides=2))\n",
        "    model.add(Flatten())\n",
        "    model.add(Dense(4096, activation='relu'))\n",
        "    model.add(Dropout(0.2))\n",
        "    model.add(Dense(4096, activation='relu'))\n",
        "    model.add(Dense(10, activation='softmax'))\n",
        "    model.compile(loss='categorical_crossentropy', optimizer='adam', metrics=['accuracy'])\n",
        "    return model\n",
        "\n",
        "model4 = model4()\n",
        "model4.fit(X_train, y_train, validation_data=(X_test, y_test), epochs=30, batch_size=64, verbose=1)\n",
        "scores = model4.evaluate(X_test, y_test, verbose=0)\n",
        "print(\"CNN Error: %.2f%%\" % (100-scores[1]*100))\n",
        "print(\"Accuracy: %.2f%%\" % (scores[1]*100))\n"
      ],
      "metadata": {
        "colab": {
          "base_uri": "https://localhost:8080/"
        },
        "id": "yvkdtnEI2u5k",
        "outputId": "3e627e6b-0b33-4522-9ba8-badab28292e5"
      },
      "id": "yvkdtnEI2u5k",
      "execution_count": 24,
      "outputs": [
        {
          "output_type": "stream",
          "name": "stdout",
          "text": [
            "Epoch 1/30\n",
            "938/938 [==============================] - 25s 24ms/step - loss: 0.2003 - accuracy: 0.9366 - val_loss: 0.0520 - val_accuracy: 0.9865\n",
            "Epoch 2/30\n",
            "938/938 [==============================] - 22s 24ms/step - loss: 0.0599 - accuracy: 0.9841 - val_loss: 0.0521 - val_accuracy: 0.9866\n",
            "Epoch 3/30\n",
            "938/938 [==============================] - 22s 23ms/step - loss: 0.0480 - accuracy: 0.9876 - val_loss: 0.0424 - val_accuracy: 0.9889\n",
            "Epoch 4/30\n",
            "938/938 [==============================] - 22s 23ms/step - loss: 0.0403 - accuracy: 0.9895 - val_loss: 0.0411 - val_accuracy: 0.9893\n",
            "Epoch 5/30\n",
            "938/938 [==============================] - 22s 24ms/step - loss: 0.0351 - accuracy: 0.9914 - val_loss: 0.0590 - val_accuracy: 0.9866\n",
            "Epoch 6/30\n",
            "938/938 [==============================] - 22s 24ms/step - loss: 0.0301 - accuracy: 0.9924 - val_loss: 0.0663 - val_accuracy: 0.9843\n",
            "Epoch 7/30\n",
            "938/938 [==============================] - 22s 23ms/step - loss: 0.0287 - accuracy: 0.9925 - val_loss: 0.0333 - val_accuracy: 0.9907\n",
            "Epoch 8/30\n",
            "938/938 [==============================] - 22s 23ms/step - loss: 0.0233 - accuracy: 0.9942 - val_loss: 0.0256 - val_accuracy: 0.9939\n",
            "Epoch 9/30\n",
            "938/938 [==============================] - 22s 23ms/step - loss: 0.0251 - accuracy: 0.9940 - val_loss: 0.0309 - val_accuracy: 0.9928\n",
            "Epoch 10/30\n",
            "938/938 [==============================] - 22s 24ms/step - loss: 0.0221 - accuracy: 0.9945 - val_loss: 0.0484 - val_accuracy: 0.9888\n",
            "Epoch 11/30\n",
            "938/938 [==============================] - 22s 24ms/step - loss: 0.0200 - accuracy: 0.9953 - val_loss: 0.0364 - val_accuracy: 0.9916\n",
            "Epoch 12/30\n",
            "938/938 [==============================] - 22s 23ms/step - loss: 0.0198 - accuracy: 0.9954 - val_loss: 0.0343 - val_accuracy: 0.9921\n",
            "Epoch 13/30\n",
            "938/938 [==============================] - 22s 23ms/step - loss: 0.0176 - accuracy: 0.9958 - val_loss: 0.0510 - val_accuracy: 0.9874\n",
            "Epoch 14/30\n",
            "938/938 [==============================] - 22s 23ms/step - loss: 0.0159 - accuracy: 0.9961 - val_loss: 0.0644 - val_accuracy: 0.9916\n",
            "Epoch 15/30\n",
            "938/938 [==============================] - 22s 23ms/step - loss: 0.0183 - accuracy: 0.9954 - val_loss: 0.0525 - val_accuracy: 0.9916\n",
            "Epoch 16/30\n",
            "938/938 [==============================] - 22s 23ms/step - loss: 0.0164 - accuracy: 0.9963 - val_loss: 0.0393 - val_accuracy: 0.9930\n",
            "Epoch 17/30\n",
            "938/938 [==============================] - 22s 23ms/step - loss: 0.0148 - accuracy: 0.9963 - val_loss: 0.0655 - val_accuracy: 0.9876\n",
            "Epoch 18/30\n",
            "938/938 [==============================] - 22s 23ms/step - loss: 0.0146 - accuracy: 0.9967 - val_loss: 0.0492 - val_accuracy: 0.9921\n",
            "Epoch 19/30\n",
            "938/938 [==============================] - 22s 23ms/step - loss: 0.0118 - accuracy: 0.9972 - val_loss: 0.0607 - val_accuracy: 0.9904\n",
            "Epoch 20/30\n",
            "938/938 [==============================] - 22s 23ms/step - loss: 0.0214 - accuracy: 0.9959 - val_loss: 0.0497 - val_accuracy: 0.9925\n",
            "Epoch 21/30\n",
            "938/938 [==============================] - 22s 23ms/step - loss: 0.0132 - accuracy: 0.9970 - val_loss: 0.0617 - val_accuracy: 0.9906\n",
            "Epoch 22/30\n",
            "938/938 [==============================] - 22s 23ms/step - loss: 0.0158 - accuracy: 0.9967 - val_loss: 0.0726 - val_accuracy: 0.9904\n",
            "Epoch 23/30\n",
            "938/938 [==============================] - 22s 23ms/step - loss: 0.0134 - accuracy: 0.9969 - val_loss: 0.0622 - val_accuracy: 0.9928\n",
            "Epoch 24/30\n",
            "938/938 [==============================] - 22s 23ms/step - loss: 0.0079 - accuracy: 0.9982 - val_loss: 0.0483 - val_accuracy: 0.9922\n",
            "Epoch 25/30\n",
            "938/938 [==============================] - 22s 23ms/step - loss: 0.0144 - accuracy: 0.9969 - val_loss: 0.0554 - val_accuracy: 0.9920\n",
            "Epoch 26/30\n",
            "938/938 [==============================] - 22s 23ms/step - loss: 0.0119 - accuracy: 0.9974 - val_loss: 0.0577 - val_accuracy: 0.9928\n",
            "Epoch 27/30\n",
            "938/938 [==============================] - 22s 24ms/step - loss: 0.0152 - accuracy: 0.9971 - val_loss: 0.0783 - val_accuracy: 0.9910\n",
            "Epoch 28/30\n",
            "938/938 [==============================] - 22s 24ms/step - loss: 0.0118 - accuracy: 0.9977 - val_loss: 0.0614 - val_accuracy: 0.9918\n",
            "Epoch 29/30\n",
            "938/938 [==============================] - 22s 24ms/step - loss: 0.0141 - accuracy: 0.9970 - val_loss: 0.0652 - val_accuracy: 0.9922\n",
            "Epoch 30/30\n",
            "938/938 [==============================] - 21s 23ms/step - loss: 0.0127 - accuracy: 0.9973 - val_loss: 0.0535 - val_accuracy: 0.9917\n",
            "CNN Error: 0.83%\n",
            "Accuracy: 99.17%\n"
          ]
        }
      ]
    },
    {
      "cell_type": "markdown",
      "source": [
        "## Fifth Model - VGG16 - 21BAI1007"
      ],
      "metadata": {
        "id": "rMiLFPxFFl5d"
      },
      "id": "rMiLFPxFFl5d"
    },
    {
      "cell_type": "code",
      "source": [
        "from keras.layers import ZeroPadding2D\n",
        "\n",
        "def model5():\n",
        "    model = Sequential()\n",
        "    model.add(Input((28, 28, 1)))\n",
        "    model.add(ZeroPadding2D((2,2)))\n",
        "    model.add(Convolution2D(64, (3,3), strides=1, padding='same', activation='relu'))\n",
        "    model.add(Convolution2D(64, (3,3), strides=1, padding='same', activation='relu'))\n",
        "    model.add(MaxPooling2D((2,2), strides=2))\n",
        "    model.add(Convolution2D(128, (3,3), strides=1, padding='same', activation='relu'))\n",
        "    model.add(Convolution2D(128, (3,3), strides=1, padding='same', activation='relu'))\n",
        "    model.add(MaxPooling2D((2,2), strides=2))\n",
        "    model.add(Convolution2D(256, (3,3), strides=1, padding='same', activation='relu'))\n",
        "    model.add(Convolution2D(256, (3,3), strides=1, padding='same', activation='relu'))\n",
        "    model.add(Convolution2D(256, (3,3), strides=1, padding='same', activation='relu'))\n",
        "    model.add(MaxPooling2D((2,2), strides=2))\n",
        "    model.add(Flatten())\n",
        "    model.add(Dense(4096, activation='relu'))\n",
        "    model.add(Dense(128, activation='relu'))\n",
        "    model.add(Dense(10, activation='softmax'))\n",
        "    model.compile(loss='categorical_crossentropy', optimizer='adam', metrics=['accuracy'])\n",
        "    return model\n",
        "\n",
        "model5 = model5()\n",
        "model5.fit(X_train, y_train, validation_data=(X_test, y_test), epochs=15, batch_size=64, verbose=1)\n",
        "scores = model5.evaluate(X_test, y_test, verbose=0)\n",
        "print(\"CNN Error: %.2f%%\" % (100-scores[1]*100))\n",
        "print(\"Accuracy: %.2f%%\" % (scores[1]*100))\n"
      ],
      "metadata": {
        "colab": {
          "base_uri": "https://localhost:8080/"
        },
        "id": "1GBtLBaUFrbk",
        "outputId": "6b4dc5df-704f-45e3-f0fb-6841c141a2ba"
      },
      "id": "1GBtLBaUFrbk",
      "execution_count": 29,
      "outputs": [
        {
          "output_type": "stream",
          "name": "stdout",
          "text": [
            "Epoch 1/15\n",
            "938/938 [==============================] - 24s 22ms/step - loss: 0.1972 - accuracy: 0.9367 - val_loss: 0.0410 - val_accuracy: 0.9872\n",
            "Epoch 2/15\n",
            "938/938 [==============================] - 20s 21ms/step - loss: 0.0550 - accuracy: 0.9843 - val_loss: 0.0381 - val_accuracy: 0.9891\n",
            "Epoch 3/15\n",
            "938/938 [==============================] - 21s 22ms/step - loss: 0.0406 - accuracy: 0.9882 - val_loss: 0.0446 - val_accuracy: 0.9864\n",
            "Epoch 4/15\n",
            "938/938 [==============================] - 21s 22ms/step - loss: 0.0343 - accuracy: 0.9899 - val_loss: 0.0362 - val_accuracy: 0.9894\n",
            "Epoch 5/15\n",
            "938/938 [==============================] - 20s 22ms/step - loss: 0.0308 - accuracy: 0.9910 - val_loss: 0.0398 - val_accuracy: 0.9896\n",
            "Epoch 6/15\n",
            "938/938 [==============================] - 20s 21ms/step - loss: 0.0260 - accuracy: 0.9928 - val_loss: 0.0342 - val_accuracy: 0.9903\n",
            "Epoch 7/15\n",
            "938/938 [==============================] - 20s 21ms/step - loss: 0.0226 - accuracy: 0.9936 - val_loss: 0.0272 - val_accuracy: 0.9916\n",
            "Epoch 8/15\n",
            "938/938 [==============================] - 20s 22ms/step - loss: 0.0206 - accuracy: 0.9943 - val_loss: 0.0332 - val_accuracy: 0.9897\n",
            "Epoch 9/15\n",
            "938/938 [==============================] - 20s 22ms/step - loss: 0.0203 - accuracy: 0.9945 - val_loss: 0.0319 - val_accuracy: 0.9926\n",
            "Epoch 10/15\n",
            "938/938 [==============================] - 20s 22ms/step - loss: 0.0177 - accuracy: 0.9950 - val_loss: 0.0294 - val_accuracy: 0.9933\n",
            "Epoch 11/15\n",
            "938/938 [==============================] - 20s 22ms/step - loss: 0.0173 - accuracy: 0.9952 - val_loss: 0.0357 - val_accuracy: 0.9900\n",
            "Epoch 12/15\n",
            "938/938 [==============================] - 20s 21ms/step - loss: 0.0176 - accuracy: 0.9954 - val_loss: 0.0317 - val_accuracy: 0.9917\n",
            "Epoch 13/15\n",
            "938/938 [==============================] - 20s 21ms/step - loss: 0.0137 - accuracy: 0.9962 - val_loss: 0.0409 - val_accuracy: 0.9907\n",
            "Epoch 14/15\n",
            "938/938 [==============================] - 20s 22ms/step - loss: 0.0145 - accuracy: 0.9959 - val_loss: 0.0369 - val_accuracy: 0.9920\n",
            "Epoch 15/15\n",
            "938/938 [==============================] - 20s 21ms/step - loss: 0.0133 - accuracy: 0.9963 - val_loss: 0.0501 - val_accuracy: 0.9914\n",
            "CNN Error: 0.86%\n",
            "Accuracy: 99.14%\n"
          ]
        }
      ]
    },
    {
      "cell_type": "markdown",
      "source": [
        "### Results - 21BAI1007\n",
        "First Model:\n",
        "---------------\n",
        "Accuracy: 99.16%\n",
        "\n",
        "Error %: 0.84%\n",
        "\n",
        "Second Model\n",
        "---\n",
        "Accuracy: 98.79%\n",
        "\n",
        "Error %: 1.21%\n",
        "\n",
        "Third Model\n",
        "---\n",
        "Accuracy: 99.27%\n",
        "\n",
        "Error %: 0.73%\n",
        "\n",
        "Fourth Model\n",
        "---\n",
        "Accuracy: 99.17%\n",
        "\n",
        "Error %: 0.83%\n",
        "\n",
        "Fifth Model\n",
        "---\n",
        "Accuracy: 99.14%\n",
        "\n",
        "Error %: 0.86%"
      ],
      "metadata": {
        "id": "YAb1_Z1TprGH"
      },
      "id": "YAb1_Z1TprGH"
    }
  ],
  "metadata": {
    "accelerator": "GPU",
    "colab": {
      "gpuType": "T4",
      "provenance": []
    },
    "kernelspec": {
      "display_name": "Python 3",
      "name": "python3"
    },
    "language_info": {
      "codemirror_mode": {
        "name": "ipython",
        "version": 3
      },
      "file_extension": ".py",
      "mimetype": "text/x-python",
      "name": "python",
      "nbconvert_exporter": "python",
      "pygments_lexer": "ipython3",
      "version": "3.8.10"
    }
  },
  "nbformat": 4,
  "nbformat_minor": 5
}