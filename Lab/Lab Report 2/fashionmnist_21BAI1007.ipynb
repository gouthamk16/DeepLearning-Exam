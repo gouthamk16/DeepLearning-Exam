{
  "cells": [
    {
      "cell_type": "markdown",
      "id": "f72cd51e",
      "metadata": {
        "id": "f72cd51e"
      },
      "source": [
        "### Loading the dataset - 21BAI1007"
      ]
    },
    {
      "cell_type": "code",
      "source": [
        "import numpy as np"
      ],
      "metadata": {
        "id": "3H3RTF5pYEFp"
      },
      "id": "3H3RTF5pYEFp",
      "execution_count": 1,
      "outputs": []
    },
    {
      "cell_type": "code",
      "execution_count": 2,
      "id": "6db92979",
      "metadata": {
        "colab": {
          "base_uri": "https://localhost:8080/"
        },
        "id": "6db92979",
        "outputId": "0596df14-0aa1-494f-ec22-a96b82fc5574"
      },
      "outputs": [
        {
          "output_type": "stream",
          "name": "stdout",
          "text": [
            "Downloading data from https://storage.googleapis.com/tensorflow/tf-keras-datasets/train-labels-idx1-ubyte.gz\n",
            "29515/29515 [==============================] - 0s 0us/step\n",
            "Downloading data from https://storage.googleapis.com/tensorflow/tf-keras-datasets/train-images-idx3-ubyte.gz\n",
            "26421880/26421880 [==============================] - 0s 0us/step\n",
            "Downloading data from https://storage.googleapis.com/tensorflow/tf-keras-datasets/t10k-labels-idx1-ubyte.gz\n",
            "5148/5148 [==============================] - 0s 0us/step\n",
            "Downloading data from https://storage.googleapis.com/tensorflow/tf-keras-datasets/t10k-images-idx3-ubyte.gz\n",
            "4422102/4422102 [==============================] - 0s 0us/step\n"
          ]
        }
      ],
      "source": [
        "from keras.datasets import fashion_mnist\n",
        "(train_images, train_labels), (test_images, test_labels) = fashion_mnist.load_data()"
      ]
    },
    {
      "cell_type": "code",
      "execution_count": 3,
      "id": "7f2217aa",
      "metadata": {
        "colab": {
          "base_uri": "https://localhost:8080/"
        },
        "id": "7f2217aa",
        "outputId": "eda364df-abf4-4388-cb01-ce673187aa18"
      },
      "outputs": [
        {
          "output_type": "stream",
          "name": "stdout",
          "text": [
            "Shape of training dataset: (60000, 28, 28)\n",
            "Shape of training labels: (60000,)\n"
          ]
        }
      ],
      "source": [
        "print(\"Shape of training dataset:\",train_images.shape)\n",
        "print(\"Shape of training labels:\",train_labels.shape)"
      ]
    },
    {
      "cell_type": "markdown",
      "source": [
        "We have 60000 images, each of size 28*28 pixels. Each label is an integer between 0 and 9"
      ],
      "metadata": {
        "id": "YTWS9lhLRjGN"
      },
      "id": "YTWS9lhLRjGN"
    },
    {
      "cell_type": "code",
      "source": [
        "print(\"Length of training dataset: \",len(train_images))\n",
        "print(\"Length of testing dataset: \",len(test_images))"
      ],
      "metadata": {
        "colab": {
          "base_uri": "https://localhost:8080/"
        },
        "id": "J3C4FFgQRh8V",
        "outputId": "a96f4986-7816-443c-b8cb-71b30c1fffb6"
      },
      "id": "J3C4FFgQRh8V",
      "execution_count": 4,
      "outputs": [
        {
          "output_type": "stream",
          "name": "stdout",
          "text": [
            "Length of training dataset:  60000\n",
            "Length of testing dataset:  10000\n"
          ]
        }
      ]
    },
    {
      "cell_type": "markdown",
      "source": [
        "### Normalizing the dataset - 21BAI1007"
      ],
      "metadata": {
        "id": "KpzXl_rsSKIE"
      },
      "id": "KpzXl_rsSKIE"
    },
    {
      "cell_type": "code",
      "source": [
        "import matplotlib.pyplot as plt"
      ],
      "metadata": {
        "id": "ycMCEu0XSi18"
      },
      "id": "ycMCEu0XSi18",
      "execution_count": 5,
      "outputs": []
    },
    {
      "cell_type": "code",
      "source": [
        "## PLotting the image of the first object in the dataset\n",
        "plt.figure()\n",
        "plt.imshow(train_images[0])"
      ],
      "metadata": {
        "colab": {
          "base_uri": "https://localhost:8080/",
          "height": 448
        },
        "id": "vAeCvaB5Sr3x",
        "outputId": "46b50252-9c64-469b-b0ae-e0c2c2239113"
      },
      "id": "vAeCvaB5Sr3x",
      "execution_count": 6,
      "outputs": [
        {
          "output_type": "execute_result",
          "data": {
            "text/plain": [
              "<matplotlib.image.AxesImage at 0x791d2f1f6500>"
            ]
          },
          "metadata": {},
          "execution_count": 6
        },
        {
          "output_type": "display_data",
          "data": {
            "text/plain": [
              "<Figure size 640x480 with 1 Axes>"
            ],
            "image/png": "[encoded data removed]"
          },
          "metadata": {}
        }
      ]
    },
    {
      "cell_type": "code",
      "source": [
        "## To normalize the dataset, we divide each value by 255 so that the data is minimized to a value between 0 and 1\n",
        "train_images = train_images/255.0\n",
        "test_images = test_images/255.0"
      ],
      "metadata": {
        "id": "Y5ywbR3JSy1b"
      },
      "id": "Y5ywbR3JSy1b",
      "execution_count": 7,
      "outputs": []
    },
    {
      "cell_type": "markdown",
      "source": [
        "### Build the model using K Fold auto tuning- 21BAI1007"
      ],
      "metadata": {
        "id": "4VGM19ctTRSr"
      },
      "id": "4VGM19ctTRSr"
    },
    {
      "cell_type": "code",
      "source": [
        "features = np.concatenate((train_images, test_images))\n",
        "labels = np.concatenate((train_labels, test_labels))"
      ],
      "metadata": {
        "id": "Rv2jUWNSknbI"
      },
      "id": "Rv2jUWNSknbI",
      "execution_count": 8,
      "outputs": []
    },
    {
      "cell_type": "code",
      "source": [
        "from keras.models import Sequential\n",
        "from keras.layers import Dense, Flatten"
      ],
      "metadata": {
        "id": "O4lLwza1TXGq"
      },
      "id": "O4lLwza1TXGq",
      "execution_count": 9,
      "outputs": []
    },
    {
      "cell_type": "code",
      "source": [
        "from sklearn.model_selection import StratifiedKFold\n",
        "kfold = StratifiedKFold(n_splits=5, shuffle=True, random_state=7)\n",
        "cvscores = []"
      ],
      "metadata": {
        "id": "hw_p6-17ksq5"
      },
      "id": "hw_p6-17ksq5",
      "execution_count": 10,
      "outputs": []
    },
    {
      "cell_type": "code",
      "source": [
        "for train, test in kfold.split(features, labels):\n",
        "  model = Sequential()\n",
        "  model.add(Flatten(input_shape=(28,28)))\n",
        "  model.add(Dense(128, activation='relu'))\n",
        "  model.add(Dense(10, activation='softmax'))\n",
        "  model.compile(optimizer='adam', loss='sparse_categorical_crossentropy', metrics='accuracy')\n",
        "  model.fit(features[train], labels[train], validation_data=(features[test], labels[test]), epochs=10)\n",
        "  scores = model.evaluate(features[test], labels[test], verbose=1)\n",
        "  print(\"%s: %d\" % (model.metrics_names[1], scores[1]))\n",
        "  cvscores.append(scores[1] * 100)\n"
      ],
      "metadata": {
        "id": "zr4tJyBvTpL0",
        "colab": {
          "base_uri": "https://localhost:8080/"
        },
        "outputId": "f303b29b-f347-4705-d3eb-561dc253a338"
      },
      "id": "zr4tJyBvTpL0",
      "execution_count": 12,
      "outputs": [
        {
          "output_type": "stream",
          "name": "stdout",
          "text": [
            "Epoch 1/10\n",
            "1750/1750 [==============================] - 6s 3ms/step - loss: 0.5051 - accuracy: 0.8213 - val_loss: 0.4371 - val_accuracy: 0.8414\n",
            "Epoch 2/10\n",
            "1750/1750 [==============================] - 6s 3ms/step - loss: 0.3822 - accuracy: 0.8621 - val_loss: 0.3690 - val_accuracy: 0.8704\n",
            "Epoch 3/10\n",
            "1750/1750 [==============================] - 5s 3ms/step - loss: 0.3413 - accuracy: 0.8752 - val_loss: 0.3557 - val_accuracy: 0.8739\n",
            "Epoch 4/10\n",
            "1750/1750 [==============================] - 6s 3ms/step - loss: 0.3162 - accuracy: 0.8833 - val_loss: 0.3426 - val_accuracy: 0.8788\n",
            "Epoch 5/10\n",
            "1750/1750 [==============================] - 5s 3ms/step - loss: 0.3008 - accuracy: 0.8875 - val_loss: 0.3243 - val_accuracy: 0.8862\n",
            "Epoch 6/10\n",
            "1750/1750 [==============================] - 5s 3ms/step - loss: 0.2842 - accuracy: 0.8934 - val_loss: 0.3135 - val_accuracy: 0.8920\n",
            "Epoch 7/10\n",
            "1750/1750 [==============================] - 6s 4ms/step - loss: 0.2715 - accuracy: 0.8985 - val_loss: 0.3690 - val_accuracy: 0.8701\n",
            "Epoch 8/10\n",
            "1750/1750 [==============================] - 5s 3ms/step - loss: 0.2602 - accuracy: 0.9020 - val_loss: 0.3179 - val_accuracy: 0.8930\n",
            "Epoch 9/10\n",
            "1750/1750 [==============================] - 6s 3ms/step - loss: 0.2501 - accuracy: 0.9057 - val_loss: 0.3292 - val_accuracy: 0.8851\n",
            "Epoch 10/10\n",
            "1750/1750 [==============================] - 5s 3ms/step - loss: 0.2413 - accuracy: 0.9088 - val_loss: 0.3057 - val_accuracy: 0.8937\n",
            "438/438 [==============================] - 1s 2ms/step - loss: 0.3057 - accuracy: 0.8937\n",
            "accuracy: 0\n",
            "Epoch 1/10\n",
            "1750/1750 [==============================] - 7s 3ms/step - loss: 0.5110 - accuracy: 0.8207 - val_loss: 0.4377 - val_accuracy: 0.8391\n",
            "Epoch 2/10\n",
            "1750/1750 [==============================] - 5s 3ms/step - loss: 0.3892 - accuracy: 0.8602 - val_loss: 0.3626 - val_accuracy: 0.8702\n",
            "Epoch 3/10\n",
            "1750/1750 [==============================] - 6s 3ms/step - loss: 0.3469 - accuracy: 0.8737 - val_loss: 0.3630 - val_accuracy: 0.8693\n",
            "Epoch 4/10\n",
            "1750/1750 [==============================] - 6s 4ms/step - loss: 0.3239 - accuracy: 0.8813 - val_loss: 0.3353 - val_accuracy: 0.8781\n",
            "Epoch 5/10\n",
            "1750/1750 [==============================] - 5s 3ms/step - loss: 0.3054 - accuracy: 0.8891 - val_loss: 0.3340 - val_accuracy: 0.8785\n",
            "Epoch 6/10\n",
            "1750/1750 [==============================] - 6s 3ms/step - loss: 0.2891 - accuracy: 0.8928 - val_loss: 0.3119 - val_accuracy: 0.8858\n",
            "Epoch 7/10\n",
            "1750/1750 [==============================] - 5s 3ms/step - loss: 0.2791 - accuracy: 0.8965 - val_loss: 0.3329 - val_accuracy: 0.8823\n",
            "Epoch 8/10\n",
            "1750/1750 [==============================] - 6s 4ms/step - loss: 0.2642 - accuracy: 0.9017 - val_loss: 0.3147 - val_accuracy: 0.8854\n",
            "Epoch 9/10\n",
            "1750/1750 [==============================] - 5s 3ms/step - loss: 0.2552 - accuracy: 0.9049 - val_loss: 0.3128 - val_accuracy: 0.8863\n",
            "Epoch 10/10\n",
            "1750/1750 [==============================] - 6s 3ms/step - loss: 0.2456 - accuracy: 0.9077 - val_loss: 0.3163 - val_accuracy: 0.8881\n",
            "438/438 [==============================] - 1s 2ms/step - loss: 0.3163 - accuracy: 0.8881\n",
            "accuracy: 0\n",
            "Epoch 1/10\n",
            "1750/1750 [==============================] - 7s 3ms/step - loss: 0.5046 - accuracy: 0.8229 - val_loss: 0.4307 - val_accuracy: 0.8471\n",
            "Epoch 2/10\n",
            "1750/1750 [==============================] - 6s 3ms/step - loss: 0.3807 - accuracy: 0.8639 - val_loss: 0.3749 - val_accuracy: 0.8627\n",
            "Epoch 3/10\n",
            "1750/1750 [==============================] - 5s 3ms/step - loss: 0.3393 - accuracy: 0.8760 - val_loss: 0.3462 - val_accuracy: 0.8744\n",
            "Epoch 4/10\n",
            "1750/1750 [==============================] - 6s 4ms/step - loss: 0.3178 - accuracy: 0.8841 - val_loss: 0.3464 - val_accuracy: 0.8737\n",
            "Epoch 5/10\n",
            "1750/1750 [==============================] - 5s 3ms/step - loss: 0.2990 - accuracy: 0.8890 - val_loss: 0.3416 - val_accuracy: 0.8761\n",
            "Epoch 6/10\n",
            "1750/1750 [==============================] - 5s 3ms/step - loss: 0.2829 - accuracy: 0.8951 - val_loss: 0.3461 - val_accuracy: 0.8754\n",
            "Epoch 7/10\n",
            "1750/1750 [==============================] - 5s 3ms/step - loss: 0.2698 - accuracy: 0.9001 - val_loss: 0.3418 - val_accuracy: 0.8761\n",
            "Epoch 8/10\n",
            "1750/1750 [==============================] - 5s 3ms/step - loss: 0.2607 - accuracy: 0.9021 - val_loss: 0.3293 - val_accuracy: 0.8822\n",
            "Epoch 9/10\n",
            "1750/1750 [==============================] - 6s 4ms/step - loss: 0.2520 - accuracy: 0.9059 - val_loss: 0.3328 - val_accuracy: 0.8792\n",
            "Epoch 10/10\n",
            "1750/1750 [==============================] - 5s 3ms/step - loss: 0.2415 - accuracy: 0.9100 - val_loss: 0.3077 - val_accuracy: 0.8919\n",
            "438/438 [==============================] - 1s 3ms/step - loss: 0.3077 - accuracy: 0.8919\n",
            "accuracy: 0\n",
            "Epoch 1/10\n",
            "1750/1750 [==============================] - 6s 3ms/step - loss: 0.5072 - accuracy: 0.8210 - val_loss: 0.3999 - val_accuracy: 0.8584\n",
            "Epoch 2/10\n",
            "1750/1750 [==============================] - 6s 3ms/step - loss: 0.3862 - accuracy: 0.8622 - val_loss: 0.3981 - val_accuracy: 0.8532\n",
            "Epoch 3/10\n",
            "1750/1750 [==============================] - 5s 3ms/step - loss: 0.3474 - accuracy: 0.8737 - val_loss: 0.3441 - val_accuracy: 0.8727\n",
            "Epoch 4/10\n",
            "1750/1750 [==============================] - 5s 3ms/step - loss: 0.3225 - accuracy: 0.8824 - val_loss: 0.3293 - val_accuracy: 0.8814\n",
            "Epoch 5/10\n",
            "1750/1750 [==============================] - 5s 3ms/step - loss: 0.3004 - accuracy: 0.8914 - val_loss: 0.3294 - val_accuracy: 0.8779\n",
            "Epoch 6/10\n",
            "1750/1750 [==============================] - 5s 3ms/step - loss: 0.2884 - accuracy: 0.8941 - val_loss: 0.3529 - val_accuracy: 0.8674\n",
            "Epoch 7/10\n",
            "1750/1750 [==============================] - 6s 3ms/step - loss: 0.2762 - accuracy: 0.8986 - val_loss: 0.3190 - val_accuracy: 0.8849\n",
            "Epoch 8/10\n",
            "1750/1750 [==============================] - 5s 3ms/step - loss: 0.2637 - accuracy: 0.9021 - val_loss: 0.3140 - val_accuracy: 0.8847\n",
            "Epoch 9/10\n",
            "1750/1750 [==============================] - 6s 3ms/step - loss: 0.2537 - accuracy: 0.9053 - val_loss: 0.3181 - val_accuracy: 0.8850\n",
            "Epoch 10/10\n",
            "1750/1750 [==============================] - 5s 3ms/step - loss: 0.2440 - accuracy: 0.9111 - val_loss: 0.3194 - val_accuracy: 0.8854\n",
            "438/438 [==============================] - 1s 2ms/step - loss: 0.3194 - accuracy: 0.8854\n",
            "accuracy: 0\n",
            "Epoch 1/10\n",
            "1750/1750 [==============================] - 7s 3ms/step - loss: 0.5112 - accuracy: 0.8203 - val_loss: 0.4079 - val_accuracy: 0.8551\n",
            "Epoch 2/10\n",
            "1750/1750 [==============================] - 5s 3ms/step - loss: 0.3818 - accuracy: 0.8626 - val_loss: 0.3761 - val_accuracy: 0.8627\n",
            "Epoch 3/10\n",
            "1750/1750 [==============================] - 5s 3ms/step - loss: 0.3424 - accuracy: 0.8767 - val_loss: 0.3324 - val_accuracy: 0.8795\n",
            "Epoch 4/10\n",
            "1750/1750 [==============================] - 6s 3ms/step - loss: 0.3194 - accuracy: 0.8812 - val_loss: 0.3373 - val_accuracy: 0.8769\n",
            "Epoch 5/10\n",
            "1750/1750 [==============================] - 5s 3ms/step - loss: 0.2993 - accuracy: 0.8892 - val_loss: 0.3382 - val_accuracy: 0.8744\n",
            "Epoch 6/10\n",
            "1750/1750 [==============================] - 6s 4ms/step - loss: 0.2871 - accuracy: 0.8939 - val_loss: 0.3221 - val_accuracy: 0.8806\n",
            "Epoch 7/10\n",
            "1750/1750 [==============================] - 6s 3ms/step - loss: 0.2736 - accuracy: 0.8994 - val_loss: 0.3251 - val_accuracy: 0.8830\n",
            "Epoch 8/10\n",
            "1750/1750 [==============================] - 6s 4ms/step - loss: 0.2628 - accuracy: 0.9023 - val_loss: 0.3222 - val_accuracy: 0.8844\n",
            "Epoch 9/10\n",
            "1750/1750 [==============================] - 5s 3ms/step - loss: 0.2542 - accuracy: 0.9058 - val_loss: 0.3160 - val_accuracy: 0.8855\n",
            "Epoch 10/10\n",
            "1750/1750 [==============================] - 6s 3ms/step - loss: 0.2436 - accuracy: 0.9085 - val_loss: 0.3161 - val_accuracy: 0.8886\n",
            "438/438 [==============================] - 1s 2ms/step - loss: 0.3161 - accuracy: 0.8886\n",
            "accuracy: 0\n"
          ]
        }
      ]
    },
    {
      "cell_type": "markdown",
      "source": [
        "### Creating model using grid search - 21BAI1007"
      ],
      "metadata": {
        "id": "gM08GgvBpFP5"
      },
      "id": "gM08GgvBpFP5"
    },
    {
      "cell_type": "code",
      "source": [
        "# pip install scikeras\n",
        "\n",
        "# from keras.layers import Wrapper\n",
        "# from scikeras.wrappers import KerasClassifier\n",
        "# from sklearn.model_selection import GridSearchCV\n",
        "\n",
        "# def create_model(optimizer=\"rmsprop\", init = \"glorot_uniform\"):\n",
        "#   model = Sequential()\n",
        "#   model.add(Flatten(input_shape=(28,28)))\n",
        "#   model.add(Dense(128, activation='relu'))\n",
        "#   model.add(Dense(10, activation='softmax'))\n",
        "#   model.compile(optimizer='adam', loss='sparse_categorical_crossentropy', metrics='accuracy')\n",
        "#   return model\n",
        "\n",
        "# model2 = KerasClassifier(model=create_model, verbose=0)\n",
        "\n",
        "# optimizers = [\"rmsprop\", \"adam\"]\n",
        "# epochs = [50, 100]\n",
        "# batches = [5, 10, 20]\n",
        "# param_grid = dict(optimizer=optimizers, epochs=epochs, batch_size=batches)\n",
        "\n",
        "# grid = GridSearchCV(estimator=model2, param_grid=param_grid)\n",
        "# grid_result = grid.fit(features, labels)\n",
        "\n",
        "# ** Grid search is taking a lot of time to run, hence not including the output **"
      ],
      "metadata": {
        "id": "bte3pWO_xrVh"
      },
      "id": "bte3pWO_xrVh",
      "execution_count": null,
      "outputs": []
    },
    {
      "cell_type": "markdown",
      "source": [
        "### Predicting the classes of the test dataset - 21BAI1007"
      ],
      "metadata": {
        "id": "wBBNkBnnXkDA"
      },
      "id": "wBBNkBnnXkDA"
    },
    {
      "cell_type": "code",
      "source": [
        "pred = model.predict(test_images)"
      ],
      "metadata": {
        "colab": {
          "base_uri": "https://localhost:8080/"
        },
        "id": "Fdl8TZoLX0L2",
        "outputId": "7657698e-19e4-46e6-d050-a7b131da69ae"
      },
      "id": "Fdl8TZoLX0L2",
      "execution_count": 13,
      "outputs": [
        {
          "output_type": "stream",
          "name": "stdout",
          "text": [
            "313/313 [==============================] - 1s 1ms/step\n"
          ]
        }
      ]
    },
    {
      "cell_type": "code",
      "source": [
        "# The predictions are a probability distribution of each class. To convert it into the required class\n",
        "# Predicting the class of the first element in the testing dataset\n",
        "np.argmax(pred[0])"
      ],
      "metadata": {
        "colab": {
          "base_uri": "https://localhost:8080/"
        },
        "id": "XEvI_eSmX20s",
        "outputId": "10af725e-690f-4570-9862-84b5122cbd2b"
      },
      "id": "XEvI_eSmX20s",
      "execution_count": 14,
      "outputs": [
        {
          "output_type": "execute_result",
          "data": {
            "text/plain": [
              "9"
            ]
          },
          "metadata": {},
          "execution_count": 14
        }
      ]
    },
    {
      "cell_type": "code",
      "source": [
        "# Checking if the prediction is correct\n",
        "test_labels[0]"
      ],
      "metadata": {
        "colab": {
          "base_uri": "https://localhost:8080/"
        },
        "id": "t34YIw_fYNTH",
        "outputId": "08bf48fc-8429-4104-9934-5df2ee0b0adf"
      },
      "id": "t34YIw_fYNTH",
      "execution_count": 15,
      "outputs": [
        {
          "output_type": "execute_result",
          "data": {
            "text/plain": [
              "9"
            ]
          },
          "metadata": {},
          "execution_count": 15
        }
      ]
    },
    {
      "cell_type": "code",
      "source": [
        "class_names = ['T-shirt/top', 'Trouser', 'Pullover', 'Dress', 'Coat', 'Sandal', 'Shirt', 'Sneaker', 'Bag', 'Ankle boot']"
      ],
      "metadata": {
        "id": "SS0k7SG1ZJCl"
      },
      "id": "SS0k7SG1ZJCl",
      "execution_count": 16,
      "outputs": []
    },
    {
      "cell_type": "markdown",
      "source": [
        "### Predciting a random image from the test dataset - 21BAI1007"
      ],
      "metadata": {
        "id": "3Cs-cPT_Y8DJ"
      },
      "id": "3Cs-cPT_Y8DJ"
    },
    {
      "cell_type": "code",
      "source": [
        "image = test_images[1] ## An image of a pullover\n",
        "print(image.shape)"
      ],
      "metadata": {
        "colab": {
          "base_uri": "https://localhost:8080/"
        },
        "id": "6xWxWj0RZler",
        "outputId": "737320fb-a44b-4bb8-e235-346efb5de212"
      },
      "id": "6xWxWj0RZler",
      "execution_count": 17,
      "outputs": [
        {
          "output_type": "stream",
          "name": "stdout",
          "text": [
            "(28, 28)\n"
          ]
        }
      ]
    },
    {
      "cell_type": "code",
      "source": [
        "plt.imshow(test_images[1])"
      ],
      "metadata": {
        "colab": {
          "base_uri": "https://localhost:8080/",
          "height": 448
        },
        "id": "ZaQYOq1dbQrj",
        "outputId": "f3eb3aaa-d807-4ae9-bc1e-b9a2943f5fd6"
      },
      "id": "ZaQYOq1dbQrj",
      "execution_count": 18,
      "outputs": [
        {
          "output_type": "execute_result",
          "data": {
            "text/plain": [
              "<matplotlib.image.AxesImage at 0x791c4038a920>"
            ]
          },
          "metadata": {},
          "execution_count": 18
        },
        {
          "output_type": "display_data",
          "data": {
            "text/plain": [
              "<Figure size 640x480 with 1 Axes>"
            ],
            "image/png": "[encoded data removed]"
          },
          "metadata": {}
        }
      ]
    },
    {
      "cell_type": "code",
      "source": [
        "# To process the image in the model, we have to reshape it no include an extra dimension\n",
        "image = (np.expand_dims(image, 0))\n",
        "print(image.shape)"
      ],
      "metadata": {
        "colab": {
          "base_uri": "https://localhost:8080/"
        },
        "id": "de09faYPZtRz",
        "outputId": "f9121e04-5c71-45f3-b5da-268132eecb72"
      },
      "id": "de09faYPZtRz",
      "execution_count": 19,
      "outputs": [
        {
          "output_type": "stream",
          "name": "stdout",
          "text": [
            "(1, 28, 28)\n"
          ]
        }
      ]
    },
    {
      "cell_type": "code",
      "source": [
        "# Function to map the class number to the class name\n",
        "def get_item_name(item_number, class_names):\n",
        "    try:\n",
        "        item_name = class_names[item_number]\n",
        "        return item_name\n",
        "    except IndexError:\n",
        "        return \"Item not found\""
      ],
      "metadata": {
        "id": "N0C2gE2ra1fi"
      },
      "id": "N0C2gE2ra1fi",
      "execution_count": 20,
      "outputs": []
    },
    {
      "cell_type": "code",
      "source": [
        "final_prediction = model.predict(image)\n",
        "ans = np.argmax(final_prediction)\n",
        "item_name = get_item_name(ans, class_names)\n",
        "item_name"
      ],
      "metadata": {
        "colab": {
          "base_uri": "https://localhost:8080/",
          "height": 54
        },
        "id": "sBHFreNjZ3rn",
        "outputId": "676fade3-fcc5-4937-c777-a51a9f73858b"
      },
      "id": "sBHFreNjZ3rn",
      "execution_count": 21,
      "outputs": [
        {
          "output_type": "stream",
          "name": "stdout",
          "text": [
            "1/1 [==============================] - 0s 69ms/step\n"
          ]
        },
        {
          "output_type": "execute_result",
          "data": {
            "text/plain": [
              "'Pullover'"
            ],
            "application/vnd.google.colaboratory.intrinsic+json": {
              "type": "string"
            }
          },
          "metadata": {},
          "execution_count": 21
        }
      ]
    },
    {
      "cell_type": "markdown",
      "source": [
        "Hence we correctly predicted the class of the image"
      ],
      "metadata": {
        "id": "LCCKTku2bUve"
      },
      "id": "LCCKTku2bUve"
    }
  ],
  "metadata": {
    "kernelspec": {
      "display_name": "Python 3",
      "name": "python3"
    },
    "language_info": {
      "codemirror_mode": {
        "name": "ipython",
        "version": 3
      },
      "file_extension": ".py",
      "mimetype": "text/x-python",
      "name": "python",
      "nbconvert_exporter": "python",
      "pygments_lexer": "ipython3",
      "version": "3.11.5"
    },
    "colab": {
      "provenance": [],
      "gpuType": "T4"
    },
    "accelerator": "GPU"
  },
  "nbformat": 4,
  "nbformat_minor": 5
}