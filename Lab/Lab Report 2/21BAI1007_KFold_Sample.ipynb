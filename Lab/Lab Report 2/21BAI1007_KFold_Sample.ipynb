{
  "cells": [
    {
      "cell_type": "markdown",
      "metadata": {
        "id": "Hvq44eAgAXlp"
      },
      "source": [
        "## K Folds Sample - 1 - 21BAI1007\n"
      ]
    },
    {
      "cell_type": "code",
      "execution_count": 1,
      "metadata": {
        "id": "aMuOPCay7XRt"
      },
      "outputs": [],
      "source": [
        "from keras.models import Sequential\n",
        "from keras.layers import Dense\n",
        "from sklearn.model_selection import StratifiedKFold\n",
        "import numpy"
      ]
    },
    {
      "cell_type": "code",
      "execution_count": 3,
      "metadata": {
        "id": "PFXR9tM08sEu"
      },
      "outputs": [],
      "source": [
        "seed = 7\n",
        "numpy.random.seed(seed)\n",
        "dataset = numpy.genfromtxt(\"/content/diabetes.csv\", delimiter=\",\", skip_header=1)"
      ]
    },
    {
      "cell_type": "code",
      "execution_count": 4,
      "metadata": {
        "id": "NjC5ofde8szn"
      },
      "outputs": [],
      "source": [
        "X = dataset[:, 0:8]\n",
        "Y = dataset[:, 8]"
      ]
    },
    {
      "cell_type": "code",
      "execution_count": 5,
      "metadata": {
        "id": "kqinXOCv9gaF"
      },
      "outputs": [],
      "source": [
        "kfold = StratifiedKFold(n_splits=10, shuffle=True, random_state = seed)\n",
        "cvscores = []"
      ]
    },
    {
      "cell_type": "code",
      "execution_count": 7,
      "metadata": {
        "colab": {
          "base_uri": "https://localhost:8080/"
        },
        "id": "dHp1Kv9d9rBh",
        "outputId": "60a30a4b-b531-4ad5-fc91-69439bb92e92"
      },
      "outputs": [
        {
          "name": "stdout",
          "output_type": "stream",
          "text": [
            "accuracy: 68.83%\n",
            "accuracy: 79.22%\n",
            "accuracy: 71.43%\n",
            "accuracy: 80.52%\n"
          ]
        },
        {
          "name": "stderr",
          "output_type": "stream",
          "text": [
            "WARNING:tensorflow:5 out of the last 13 calls to <function Model.make_test_function.<locals>.test_function at 0x7935d8f1c550> triggered tf.function retracing. Tracing is expensive and the excessive number of tracings could be due to (1) creating @tf.function repeatedly in a loop, (2) passing tensors with different shapes, (3) passing Python objects instead of tensors. For (1), please define your @tf.function outside of the loop. For (2), @tf.function has reduce_retracing=True option that can avoid unnecessary retracing. For (3), please refer to https://www.tensorflow.org/guide/function#controlling_retracing and https://www.tensorflow.org/api_docs/python/tf/function for  more details.\n"
          ]
        },
        {
          "name": "stdout",
          "output_type": "stream",
          "text": [
            "accuracy: 71.43%\n"
          ]
        },
        {
          "name": "stderr",
          "output_type": "stream",
          "text": [
            "WARNING:tensorflow:5 out of the last 13 calls to <function Model.make_test_function.<locals>.test_function at 0x7935d00a6b00> triggered tf.function retracing. Tracing is expensive and the excessive number of tracings could be due to (1) creating @tf.function repeatedly in a loop, (2) passing tensors with different shapes, (3) passing Python objects instead of tensors. For (1), please define your @tf.function outside of the loop. For (2), @tf.function has reduce_retracing=True option that can avoid unnecessary retracing. For (3), please refer to https://www.tensorflow.org/guide/function#controlling_retracing and https://www.tensorflow.org/api_docs/python/tf/function for  more details.\n"
          ]
        },
        {
          "name": "stdout",
          "output_type": "stream",
          "text": [
            "accuracy: 63.64%\n",
            "accuracy: 76.62%\n",
            "accuracy: 79.22%\n",
            "accuracy: 75.00%\n",
            "accuracy: 77.63%\n"
          ]
        }
      ],
      "source": [
        "for train, test in kfold.split(X, Y):\n",
        "  model = Sequential()\n",
        "  model.add(Dense(12, input_dim = 8, kernel_initializer='uniform', activation='relu'))\n",
        "  model.add(Dense(8, kernel_initializer='uniform', activation = \"relu\"))\n",
        "  model.add(Dense(1, kernel_initializer='uniform', activation = \"sigmoid\"))\n",
        "  model.compile(loss=\"binary_crossentropy\", optimizer=\"adam\", metrics = [\"accuracy\"])\n",
        "  model.fit(X[train], Y[train], epochs = 150, batch_size =10, verbose=0 )\n",
        "  scores = model.evaluate(X[test], Y[test], verbose = 0)\n",
        "  print(\"%s: %.2f%%\" % (model.metrics_names[1], scores[1]*100))\n",
        "  cvscores.append(scores[1] * 100)"
      ]
    },
    {
      "cell_type": "code",
      "execution_count": 8,
      "metadata": {
        "colab": {
          "base_uri": "https://localhost:8080/"
        },
        "id": "xytZSiKd_sih",
        "outputId": "9a29dc44-040a-490a-dab5-962296d5f5c4"
      },
      "outputs": [
        {
          "name": "stdout",
          "output_type": "stream",
          "text": [
            "74.35% (+/- 5.14%)\n"
          ]
        }
      ],
      "source": [
        "print(\"%.2f%% (+/- %.2f%%)\" % (numpy.mean(cvscores), numpy.std(cvscores)))"
      ]
    },
    {
      "cell_type": "markdown",
      "metadata": {
        "id": "L95EE1v8Ae16"
      },
      "source": [
        "## Sample 2 - GridSearch - 21BAI1007"
      ]
    },
    {
      "cell_type": "code",
      "execution_count": 9,
      "metadata": {
        "colab": {
          "base_uri": "https://localhost:8080/"
        },
        "id": "6BDiowkeHBl_",
        "outputId": "079aa39f-7a15-4650-c613-7834d90fa64b"
      },
      "outputs": [
        {
          "name": "stdout",
          "output_type": "stream",
          "text": [
            "Collecting scikeras\n",
            "  Downloading scikeras-0.12.0-py3-none-any.whl (27 kB)\n",
            "Requirement already satisfied: packaging>=0.21 in /usr/local/lib/python3.10/dist-packages (from scikeras) (23.2)\n",
            "Requirement already satisfied: scikit-learn>=1.0.0 in /usr/local/lib/python3.10/dist-packages (from scikeras) (1.2.2)\n",
            "Requirement already satisfied: numpy>=1.17.3 in /usr/local/lib/python3.10/dist-packages (from scikit-learn>=1.0.0->scikeras) (1.23.5)\n",
            "Requirement already satisfied: scipy>=1.3.2 in /usr/local/lib/python3.10/dist-packages (from scikit-learn>=1.0.0->scikeras) (1.11.4)\n",
            "Requirement already satisfied: joblib>=1.1.1 in /usr/local/lib/python3.10/dist-packages (from scikit-learn>=1.0.0->scikeras) (1.3.2)\n",
            "Requirement already satisfied: threadpoolctl>=2.0.0 in /usr/local/lib/python3.10/dist-packages (from scikit-learn>=1.0.0->scikeras) (3.2.0)\n",
            "Installing collected packages: scikeras\n",
            "Successfully installed scikeras-0.12.0\n"
          ]
        }
      ],
      "source": [
        "pip install scikeras"
      ]
    },
    {
      "cell_type": "code",
      "execution_count": 10,
      "metadata": {
        "id": "tL5t9RxyAMtW"
      },
      "outputs": [],
      "source": [
        "from keras.models import Sequential\n",
        "from keras.layers import Dense\n",
        "from keras.layers import Wrapper\n",
        "from scikeras.wrappers import KerasClassifier\n",
        "from sklearn.model_selection import GridSearchCV\n",
        "import numpy"
      ]
    },
    {
      "cell_type": "code",
      "execution_count": 11,
      "metadata": {
        "id": "K0At12JzAyEG"
      },
      "outputs": [],
      "source": [
        "def create_model(optimizer=\"rmsprop\", init = \"glorot_uniform\"):\n",
        "  model = Sequential()\n",
        "  model.add(Dense(12, input_dim = 8, kernel_initializer=init, activation = \"relu\"))\n",
        "  model.add(Dense(8, kernel_initializer = init, activation=\"relu\"))\n",
        "  model.add(Dense(1, kernel_initializer=init, activation=\"sigmoid\"))\n",
        "  model.compile(loss=\"binary_crossentropy\", optimizer=optimizer, metrics=[\"accuracy\"])\n",
        "  return model"
      ]
    },
    {
      "cell_type": "code",
      "execution_count": 13,
      "metadata": {
        "id": "GPJgF7P3Kag_"
      },
      "outputs": [],
      "source": [
        "seed = 7\n",
        "numpy.random.seed(seed)\n",
        "dataset = numpy.genfromtxt(\"/content/diabetes.csv\", delimiter=\",\", skip_header=1)"
      ]
    },
    {
      "cell_type": "code",
      "execution_count": 14,
      "metadata": {
        "id": "cQLvCryPKjB1"
      },
      "outputs": [],
      "source": [
        "X=dataset[:, 0:8]\n",
        "Y=dataset[:,8]"
      ]
    },
    {
      "cell_type": "code",
      "execution_count": 15,
      "metadata": {
        "id": "FCFkGhisKyuA"
      },
      "outputs": [],
      "source": [
        "model = KerasClassifier(model=create_model, verbose=0)\n",
        "\n",
        "optimizers = [\"rmsprop\", \"adam\"]\n",
        "epochs = [50, 100, 150]\n",
        "batches = [5, 10, 20]\n",
        "\n",
        "param_grid = dict(optimizer=optimizers, epochs=epochs, batch_size=batches)\n",
        "\n",
        "grid = GridSearchCV(estimator=model, param_grid=param_grid)\n",
        "grid_result = grid.fit(X, Y)"
      ]
    },
    {
      "cell_type": "code",
      "execution_count": 16,
      "metadata": {
        "colab": {
          "base_uri": "https://localhost:8080/"
        },
        "id": "emcDdu6JLv_R",
        "outputId": "dc428654-5abb-4e66-e1b4-e85e24dc2f91"
      },
      "outputs": [
        {
          "name": "stdout",
          "output_type": "stream",
          "text": [
            "Best: 0.726670 using {'batch_size': 5, 'epochs': 150, 'optimizer': 'rmsprop'}\n"
          ]
        }
      ],
      "source": [
        "# summarize results\n",
        "print(\"Best: %f using %s\" % (grid_result.best_score_, grid_result.best_params_))"
      ]
    },
    {
      "cell_type": "code",
      "execution_count": null,
      "metadata": {
        "id": "bOBJXGSZjLfG"
      },
      "outputs": [],
      "source": []
    }
  ],
  "metadata": {
    "accelerator": "GPU",
    "colab": {
      "gpuType": "T4",
      "provenance": []
    },
    "kernelspec": {
      "display_name": "Python 3",
      "name": "python3"
    },
    "language_info": {
      "name": "python"
    }
  },
  "nbformat": 4,
  "nbformat_minor": 0
}
