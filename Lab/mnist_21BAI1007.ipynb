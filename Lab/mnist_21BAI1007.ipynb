{
  "cells": [
    {
      "cell_type": "code",
      "execution_count": 15,
      "id": "2e8259dc",
      "metadata": {
        "id": "2e8259dc"
      },
      "outputs": [],
      "source": [
        "from keras.datasets import mnist\n",
        "import numpy as np"
      ]
    },
    {
      "cell_type": "code",
      "execution_count": 16,
      "id": "a57b4abd",
      "metadata": {
        "id": "a57b4abd"
      },
      "outputs": [],
      "source": [
        "(train_images, train_labels), (test_images, test_labels)= mnist.load_data()"
      ]
    },
    {
      "cell_type": "code",
      "execution_count": 20,
      "id": "57ef5fd1",
      "metadata": {
        "id": "57ef5fd1"
      },
      "outputs": [],
      "source": [
        "train_images = train_images.reshape((60000, 28 * 28))\n",
        "train_images = train_images.astype('float32') / 255\n",
        "test_images = test_images.reshape((10000, 28 * 28))\n",
        "test_images = test_images.astype('float32') / 255"
      ]
    },
    {
      "cell_type": "code",
      "execution_count": 22,
      "id": "e_L6Ro-dhhQ3",
      "metadata": {
        "id": "e_L6Ro-dhhQ3"
      },
      "outputs": [],
      "source": [
        "features = np.concatenate((train_images, test_images))\n",
        "labels = np.concatenate((train_labels, test_labels))"
      ]
    },
    {
      "cell_type": "code",
      "execution_count": 25,
      "id": "gmtqvv0NXKoO",
      "metadata": {
        "id": "gmtqvv0NXKoO"
      },
      "outputs": [],
      "source": [
        "from sklearn.model_selection import StratifiedKFold\n",
        "kfold = StratifiedKFold(n_splits=5, shuffle=True, random_state=7)\n",
        "cvscores = []"
      ]
    },
    {
      "cell_type": "code",
      "execution_count": 31,
      "id": "56f43d5f",
      "metadata": {
        "colab": {
          "base_uri": "https://localhost:8080/"
        },
        "id": "56f43d5f",
        "outputId": "0ea94c79-cf69-49ec-dad7-b1a93c0772bc"
      },
      "outputs": [
        {
          "name": "stdout",
          "output_type": "stream",
          "text": [
            "Epoch 1/10\n",
            "438/438 [==============================] - 2s 4ms/step - loss: 0.2749 - accuracy: 0.9227 - val_loss: 0.1358 - val_accuracy: 0.9603\n",
            "Epoch 2/10\n",
            "438/438 [==============================] - 1s 3ms/step - loss: 0.1114 - accuracy: 0.9674 - val_loss: 0.1020 - val_accuracy: 0.9699\n",
            "Epoch 3/10\n",
            "438/438 [==============================] - 1s 3ms/step - loss: 0.0726 - accuracy: 0.9788 - val_loss: 0.0787 - val_accuracy: 0.9754\n",
            "Epoch 4/10\n",
            "438/438 [==============================] - 1s 3ms/step - loss: 0.0511 - accuracy: 0.9846 - val_loss: 0.0649 - val_accuracy: 0.9794\n",
            "Epoch 5/10\n",
            "438/438 [==============================] - 1s 3ms/step - loss: 0.0382 - accuracy: 0.9892 - val_loss: 0.0606 - val_accuracy: 0.9811\n",
            "Epoch 6/10\n",
            "438/438 [==============================] - 2s 4ms/step - loss: 0.0277 - accuracy: 0.9926 - val_loss: 0.0596 - val_accuracy: 0.9815\n",
            "Epoch 7/10\n",
            "438/438 [==============================] - 2s 4ms/step - loss: 0.0209 - accuracy: 0.9946 - val_loss: 0.0649 - val_accuracy: 0.9794\n",
            "Epoch 8/10\n",
            "438/438 [==============================] - 2s 3ms/step - loss: 0.0158 - accuracy: 0.9962 - val_loss: 0.0637 - val_accuracy: 0.9795\n",
            "Epoch 9/10\n",
            "438/438 [==============================] - 1s 3ms/step - loss: 0.0128 - accuracy: 0.9972 - val_loss: 0.0578 - val_accuracy: 0.9810\n",
            "Epoch 10/10\n",
            "438/438 [==============================] - 1s 3ms/step - loss: 0.0097 - accuracy: 0.9978 - val_loss: 0.0568 - val_accuracy: 0.9821\n",
            "438/438 [==============================] - 1s 2ms/step - loss: 0.0568 - accuracy: 0.9821\n",
            "accuracy: 0\n",
            "Epoch 1/10\n",
            "438/438 [==============================] - 2s 4ms/step - loss: 0.2718 - accuracy: 0.9235 - val_loss: 0.1452 - val_accuracy: 0.9579\n",
            "Epoch 2/10\n",
            "438/438 [==============================] - 2s 4ms/step - loss: 0.1069 - accuracy: 0.9684 - val_loss: 0.1059 - val_accuracy: 0.9694\n",
            "Epoch 3/10\n",
            "438/438 [==============================] - 2s 5ms/step - loss: 0.0689 - accuracy: 0.9797 - val_loss: 0.0895 - val_accuracy: 0.9722\n",
            "Epoch 4/10\n",
            "438/438 [==============================] - 2s 4ms/step - loss: 0.0498 - accuracy: 0.9850 - val_loss: 0.0835 - val_accuracy: 0.9754\n",
            "Epoch 5/10\n",
            "438/438 [==============================] - 1s 3ms/step - loss: 0.0349 - accuracy: 0.9899 - val_loss: 0.0843 - val_accuracy: 0.9748\n",
            "Epoch 6/10\n",
            "438/438 [==============================] - 1s 3ms/step - loss: 0.0262 - accuracy: 0.9930 - val_loss: 0.0820 - val_accuracy: 0.9762\n",
            "Epoch 7/10\n",
            "438/438 [==============================] - 1s 3ms/step - loss: 0.0189 - accuracy: 0.9952 - val_loss: 0.0824 - val_accuracy: 0.9762\n",
            "Epoch 8/10\n",
            "438/438 [==============================] - 1s 3ms/step - loss: 0.0144 - accuracy: 0.9964 - val_loss: 0.0878 - val_accuracy: 0.9756\n",
            "Epoch 9/10\n",
            "438/438 [==============================] - 1s 3ms/step - loss: 0.0115 - accuracy: 0.9974 - val_loss: 0.0846 - val_accuracy: 0.9772\n",
            "Epoch 10/10\n",
            "438/438 [==============================] - 1s 3ms/step - loss: 0.0092 - accuracy: 0.9979 - val_loss: 0.0825 - val_accuracy: 0.9778\n",
            "438/438 [==============================] - 1s 3ms/step - loss: 0.0825 - accuracy: 0.9778\n",
            "accuracy: 0\n",
            "Epoch 1/10\n",
            "438/438 [==============================] - 2s 4ms/step - loss: 0.2745 - accuracy: 0.9224 - val_loss: 0.1574 - val_accuracy: 0.9533\n",
            "Epoch 2/10\n",
            "438/438 [==============================] - 1s 3ms/step - loss: 0.1114 - accuracy: 0.9673 - val_loss: 0.1038 - val_accuracy: 0.9695\n",
            "Epoch 3/10\n",
            "438/438 [==============================] - 1s 3ms/step - loss: 0.0732 - accuracy: 0.9781 - val_loss: 0.0929 - val_accuracy: 0.9716\n",
            "Epoch 4/10\n",
            "438/438 [==============================] - 1s 3ms/step - loss: 0.0513 - accuracy: 0.9851 - val_loss: 0.0828 - val_accuracy: 0.9754\n",
            "Epoch 5/10\n",
            "438/438 [==============================] - 1s 3ms/step - loss: 0.0382 - accuracy: 0.9889 - val_loss: 0.0741 - val_accuracy: 0.9789\n",
            "Epoch 6/10\n",
            "438/438 [==============================] - 2s 4ms/step - loss: 0.0279 - accuracy: 0.9922 - val_loss: 0.0720 - val_accuracy: 0.9779\n",
            "Epoch 7/10\n",
            "438/438 [==============================] - 2s 4ms/step - loss: 0.0207 - accuracy: 0.9946 - val_loss: 0.0716 - val_accuracy: 0.9787\n",
            "Epoch 8/10\n",
            "438/438 [==============================] - 2s 3ms/step - loss: 0.0160 - accuracy: 0.9959 - val_loss: 0.0768 - val_accuracy: 0.9776\n",
            "Epoch 9/10\n",
            "438/438 [==============================] - 2s 3ms/step - loss: 0.0116 - accuracy: 0.9973 - val_loss: 0.0744 - val_accuracy: 0.9783\n",
            "Epoch 10/10\n",
            "438/438 [==============================] - 1s 3ms/step - loss: 0.0101 - accuracy: 0.9977 - val_loss: 0.0705 - val_accuracy: 0.9804\n",
            "438/438 [==============================] - 1s 2ms/step - loss: 0.0705 - accuracy: 0.9804\n",
            "accuracy: 0\n",
            "Epoch 1/10\n",
            "438/438 [==============================] - 2s 4ms/step - loss: 0.2721 - accuracy: 0.9225 - val_loss: 0.1376 - val_accuracy: 0.9593\n",
            "Epoch 2/10\n",
            "438/438 [==============================] - 1s 3ms/step - loss: 0.1097 - accuracy: 0.9682 - val_loss: 0.1006 - val_accuracy: 0.9704\n",
            "Epoch 3/10\n",
            "438/438 [==============================] - 2s 5ms/step - loss: 0.0718 - accuracy: 0.9786 - val_loss: 0.0798 - val_accuracy: 0.9752\n",
            "Epoch 4/10\n",
            "438/438 [==============================] - 2s 4ms/step - loss: 0.0498 - accuracy: 0.9854 - val_loss: 0.0721 - val_accuracy: 0.9775\n",
            "Epoch 5/10\n",
            "438/438 [==============================] - 1s 3ms/step - loss: 0.0370 - accuracy: 0.9893 - val_loss: 0.0676 - val_accuracy: 0.9788\n",
            "Epoch 6/10\n",
            "438/438 [==============================] - 1s 3ms/step - loss: 0.0276 - accuracy: 0.9921 - val_loss: 0.0728 - val_accuracy: 0.9784\n",
            "Epoch 7/10\n",
            "438/438 [==============================] - 2s 4ms/step - loss: 0.0207 - accuracy: 0.9945 - val_loss: 0.0639 - val_accuracy: 0.9821\n",
            "Epoch 8/10\n",
            "438/438 [==============================] - 2s 3ms/step - loss: 0.0150 - accuracy: 0.9962 - val_loss: 0.0635 - val_accuracy: 0.9819\n",
            "Epoch 9/10\n",
            "438/438 [==============================] - 2s 3ms/step - loss: 0.0109 - accuracy: 0.9976 - val_loss: 0.0660 - val_accuracy: 0.9821\n",
            "Epoch 10/10\n",
            "438/438 [==============================] - 1s 3ms/step - loss: 0.0092 - accuracy: 0.9978 - val_loss: 0.0678 - val_accuracy: 0.9816\n",
            "438/438 [==============================] - 1s 2ms/step - loss: 0.0678 - accuracy: 0.9816\n",
            "accuracy: 0\n",
            "Epoch 1/10\n",
            "438/438 [==============================] - 2s 4ms/step - loss: 0.2709 - accuracy: 0.9230 - val_loss: 0.1536 - val_accuracy: 0.9579\n",
            "Epoch 2/10\n",
            "438/438 [==============================] - 2s 3ms/step - loss: 0.1084 - accuracy: 0.9690 - val_loss: 0.1095 - val_accuracy: 0.9685\n",
            "Epoch 3/10\n",
            "438/438 [==============================] - 2s 4ms/step - loss: 0.0707 - accuracy: 0.9794 - val_loss: 0.0901 - val_accuracy: 0.9739\n",
            "Epoch 4/10\n",
            "438/438 [==============================] - 3s 6ms/step - loss: 0.0499 - accuracy: 0.9855 - val_loss: 0.0845 - val_accuracy: 0.9757\n",
            "Epoch 5/10\n",
            "438/438 [==============================] - 2s 4ms/step - loss: 0.0375 - accuracy: 0.9889 - val_loss: 0.0830 - val_accuracy: 0.9759\n",
            "Epoch 6/10\n",
            "438/438 [==============================] - 1s 3ms/step - loss: 0.0276 - accuracy: 0.9920 - val_loss: 0.0812 - val_accuracy: 0.9770\n",
            "Epoch 7/10\n",
            "438/438 [==============================] - 1s 3ms/step - loss: 0.0196 - accuracy: 0.9947 - val_loss: 0.0898 - val_accuracy: 0.9740\n",
            "Epoch 8/10\n",
            "438/438 [==============================] - 1s 3ms/step - loss: 0.0152 - accuracy: 0.9962 - val_loss: 0.0766 - val_accuracy: 0.9797\n",
            "Epoch 9/10\n",
            "438/438 [==============================] - 1s 3ms/step - loss: 0.0114 - accuracy: 0.9975 - val_loss: 0.0825 - val_accuracy: 0.9782\n",
            "Epoch 10/10\n",
            "438/438 [==============================] - 1s 3ms/step - loss: 0.0102 - accuracy: 0.9976 - val_loss: 0.0802 - val_accuracy: 0.9788\n",
            "438/438 [==============================] - 1s 2ms/step - loss: 0.0802 - accuracy: 0.9788\n",
            "accuracy: 0\n"
          ]
        }
      ],
      "source": [
        "from keras.models import Sequential\n",
        "from keras.layers import Dense, Flatten\n",
        "\n",
        "for train, test in kfold.split(features, labels):\n",
        "\n",
        "  model = Sequential()\n",
        "  model.add(Dense(512, activation='relu', input_shape=(28*28,)))\n",
        "  model.add(Dense(10, activation='softmax'))\n",
        "\n",
        "  model.compile(optimizer='adam', loss='sparse_categorical_crossentropy', metrics='accuracy')\n",
        "\n",
        "  model.fit(features[train], labels[train], epochs=10, batch_size=128, validation_data=(features[test], labels[test])) # evaluate the model\n",
        "  scores = model.evaluate(features[test], labels[test], verbose=1)\n",
        "  print(\"%s: %d\" % (model.metrics_names[1], scores[1]))\n",
        "  cvscores.append(scores[1] * 100)"
      ]
    },
    {
      "cell_type": "code",
      "execution_count": 33,
      "id": "a85db381",
      "metadata": {
        "colab": {
          "base_uri": "https://localhost:8080/"
        },
        "id": "a85db381",
        "outputId": "5fb7be3b-180f-43f9-dbbd-5b0cf26c5560"
      },
      "outputs": [
        {
          "name": "stdout",
          "output_type": "stream",
          "text": [
            "438/438 [==============================] - 1s 1ms/step\n"
          ]
        }
      ],
      "source": [
        "pred = model.predict(features[test])"
      ]
    },
    {
      "cell_type": "code",
      "execution_count": 34,
      "id": "lT7EkQX5SP7X",
      "metadata": {
        "colab": {
          "base_uri": "https://localhost:8080/"
        },
        "id": "lT7EkQX5SP7X",
        "outputId": "3ba21b20-e4f2-4d93-9b74-453f0cacbf8a"
      },
      "outputs": [
        {
          "name": "stdout",
          "output_type": "stream",
          "text": [
            "[3 5 3 ... 2 1 2]\n"
          ]
        }
      ],
      "source": [
        "predicted_labels = np.argmax(pred, axis=1)\n",
        "print(predicted_labels)"
      ]
    }
  ],
  "metadata": {
    "accelerator": "GPU",
    "colab": {
      "gpuType": "T4",
      "provenance": []
    },
    "kernelspec": {
      "display_name": "Python 3",
      "name": "python3"
    },
    "language_info": {
      "codemirror_mode": {
        "name": "ipython",
        "version": 3
      },
      "file_extension": ".py",
      "mimetype": "text/x-python",
      "name": "python",
      "nbconvert_exporter": "python",
      "pygments_lexer": "ipython3",
      "version": "3.11.5"
    }
  },
  "nbformat": 4,
  "nbformat_minor": 5
}
