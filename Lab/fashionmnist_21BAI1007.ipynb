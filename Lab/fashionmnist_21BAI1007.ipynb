{
  "cells": [
    {
      "cell_type": "code",
      "execution_count": 1,
      "id": "3H3RTF5pYEFp",
      "metadata": {
        "id": "3H3RTF5pYEFp"
      },
      "outputs": [],
      "source": [
        "import numpy as np"
      ]
    },
    {
      "cell_type": "code",
      "execution_count": 2,
      "id": "6db92979",
      "metadata": {
        "colab": {
          "base_uri": "https://localhost:8080/"
        },
        "id": "6db92979",
        "outputId": "0596df14-0aa1-494f-ec22-a96b82fc5574"
      },
      "outputs": [
        {
          "name": "stdout",
          "output_type": "stream",
          "text": [
            "Downloading data from https://storage.googleapis.com/tensorflow/tf-keras-datasets/train-labels-idx1-ubyte.gz\n",
            "29515/29515 [==============================] - 0s 0us/step\n",
            "Downloading data from https://storage.googleapis.com/tensorflow/tf-keras-datasets/train-images-idx3-ubyte.gz\n",
            "26421880/26421880 [==============================] - 0s 0us/step\n",
            "Downloading data from https://storage.googleapis.com/tensorflow/tf-keras-datasets/t10k-labels-idx1-ubyte.gz\n",
            "5148/5148 [==============================] - 0s 0us/step\n",
            "Downloading data from https://storage.googleapis.com/tensorflow/tf-keras-datasets/t10k-images-idx3-ubyte.gz\n",
            "4422102/4422102 [==============================] - 0s 0us/step\n"
          ]
        }
      ],
      "source": [
        "from keras.datasets import fashion_mnist\n",
        "(train_images, train_labels), (test_images, test_labels) = fashion_mnist.load_data()"
      ]
    },
    {
      "cell_type": "code",
      "execution_count": 7,
      "id": "Y5ywbR3JSy1b",
      "metadata": {
        "id": "Y5ywbR3JSy1b"
      },
      "outputs": [],
      "source": [
        "train_images = train_images/255.0\n",
        "test_images = test_images/255.0"
      ]
    },
    {
      "cell_type": "code",
      "execution_count": 8,
      "id": "Rv2jUWNSknbI",
      "metadata": {
        "id": "Rv2jUWNSknbI"
      },
      "outputs": [],
      "source": [
        "features = np.concatenate((train_images, test_images))\n",
        "labels = np.concatenate((train_labels, test_labels))"
      ]
    },
    {
      "cell_type": "code",
      "execution_count": 9,
      "id": "O4lLwza1TXGq",
      "metadata": {
        "id": "O4lLwza1TXGq"
      },
      "outputs": [],
      "source": [
        "from keras.models import Sequential\n",
        "from keras.layers import Dense, Flatten"
      ]
    },
    {
      "cell_type": "code",
      "execution_count": 10,
      "id": "hw_p6-17ksq5",
      "metadata": {
        "id": "hw_p6-17ksq5"
      },
      "outputs": [],
      "source": [
        "from sklearn.model_selection import StratifiedKFold\n",
        "kfold = StratifiedKFold(n_splits=5, shuffle=True, random_state=7)\n",
        "cvscores = []"
      ]
    },
    {
      "cell_type": "code",
      "execution_count": 12,
      "id": "zr4tJyBvTpL0",
      "metadata": {
        "colab": {
          "base_uri": "https://localhost:8080/"
        },
        "id": "zr4tJyBvTpL0",
        "outputId": "f303b29b-f347-4705-d3eb-561dc253a338"
      },
      "outputs": [
        {
          "name": "stdout",
          "output_type": "stream",
          "text": [
            "Epoch 1/10\n",
            "1750/1750 [==============================] - 6s 3ms/step - loss: 0.5051 - accuracy: 0.8213 - val_loss: 0.4371 - val_accuracy: 0.8414\n",
            "Epoch 2/10\n",
            "1750/1750 [==============================] - 6s 3ms/step - loss: 0.3822 - accuracy: 0.8621 - val_loss: 0.3690 - val_accuracy: 0.8704\n",
            "Epoch 3/10\n",
            "1750/1750 [==============================] - 5s 3ms/step - loss: 0.3413 - accuracy: 0.8752 - val_loss: 0.3557 - val_accuracy: 0.8739\n",
            "Epoch 4/10\n",
            "1750/1750 [==============================] - 6s 3ms/step - loss: 0.3162 - accuracy: 0.8833 - val_loss: 0.3426 - val_accuracy: 0.8788\n",
            "Epoch 5/10\n",
            "1750/1750 [==============================] - 5s 3ms/step - loss: 0.3008 - accuracy: 0.8875 - val_loss: 0.3243 - val_accuracy: 0.8862\n",
            "Epoch 6/10\n",
            "1750/1750 [==============================] - 5s 3ms/step - loss: 0.2842 - accuracy: 0.8934 - val_loss: 0.3135 - val_accuracy: 0.8920\n",
            "Epoch 7/10\n",
            "1750/1750 [==============================] - 6s 4ms/step - loss: 0.2715 - accuracy: 0.8985 - val_loss: 0.3690 - val_accuracy: 0.8701\n",
            "Epoch 8/10\n",
            "1750/1750 [==============================] - 5s 3ms/step - loss: 0.2602 - accuracy: 0.9020 - val_loss: 0.3179 - val_accuracy: 0.8930\n",
            "Epoch 9/10\n",
            "1750/1750 [==============================] - 6s 3ms/step - loss: 0.2501 - accuracy: 0.9057 - val_loss: 0.3292 - val_accuracy: 0.8851\n",
            "Epoch 10/10\n",
            "1750/1750 [==============================] - 5s 3ms/step - loss: 0.2413 - accuracy: 0.9088 - val_loss: 0.3057 - val_accuracy: 0.8937\n",
            "438/438 [==============================] - 1s 2ms/step - loss: 0.3057 - accuracy: 0.8937\n",
            "accuracy: 0\n",
            "Epoch 1/10\n",
            "1750/1750 [==============================] - 7s 3ms/step - loss: 0.5110 - accuracy: 0.8207 - val_loss: 0.4377 - val_accuracy: 0.8391\n",
            "Epoch 2/10\n",
            "1750/1750 [==============================] - 5s 3ms/step - loss: 0.3892 - accuracy: 0.8602 - val_loss: 0.3626 - val_accuracy: 0.8702\n",
            "Epoch 3/10\n",
            "1750/1750 [==============================] - 6s 3ms/step - loss: 0.3469 - accuracy: 0.8737 - val_loss: 0.3630 - val_accuracy: 0.8693\n",
            "Epoch 4/10\n",
            "1750/1750 [==============================] - 6s 4ms/step - loss: 0.3239 - accuracy: 0.8813 - val_loss: 0.3353 - val_accuracy: 0.8781\n",
            "Epoch 5/10\n",
            "1750/1750 [==============================] - 5s 3ms/step - loss: 0.3054 - accuracy: 0.8891 - val_loss: 0.3340 - val_accuracy: 0.8785\n",
            "Epoch 6/10\n",
            "1750/1750 [==============================] - 6s 3ms/step - loss: 0.2891 - accuracy: 0.8928 - val_loss: 0.3119 - val_accuracy: 0.8858\n",
            "Epoch 7/10\n",
            "1750/1750 [==============================] - 5s 3ms/step - loss: 0.2791 - accuracy: 0.8965 - val_loss: 0.3329 - val_accuracy: 0.8823\n",
            "Epoch 8/10\n",
            "1750/1750 [==============================] - 6s 4ms/step - loss: 0.2642 - accuracy: 0.9017 - val_loss: 0.3147 - val_accuracy: 0.8854\n",
            "Epoch 9/10\n",
            "1750/1750 [==============================] - 5s 3ms/step - loss: 0.2552 - accuracy: 0.9049 - val_loss: 0.3128 - val_accuracy: 0.8863\n",
            "Epoch 10/10\n",
            "1750/1750 [==============================] - 6s 3ms/step - loss: 0.2456 - accuracy: 0.9077 - val_loss: 0.3163 - val_accuracy: 0.8881\n",
            "438/438 [==============================] - 1s 2ms/step - loss: 0.3163 - accuracy: 0.8881\n",
            "accuracy: 0\n",
            "Epoch 1/10\n",
            "1750/1750 [==============================] - 7s 3ms/step - loss: 0.5046 - accuracy: 0.8229 - val_loss: 0.4307 - val_accuracy: 0.8471\n",
            "Epoch 2/10\n",
            "1750/1750 [==============================] - 6s 3ms/step - loss: 0.3807 - accuracy: 0.8639 - val_loss: 0.3749 - val_accuracy: 0.8627\n",
            "Epoch 3/10\n",
            "1750/1750 [==============================] - 5s 3ms/step - loss: 0.3393 - accuracy: 0.8760 - val_loss: 0.3462 - val_accuracy: 0.8744\n",
            "Epoch 4/10\n",
            "1750/1750 [==============================] - 6s 4ms/step - loss: 0.3178 - accuracy: 0.8841 - val_loss: 0.3464 - val_accuracy: 0.8737\n",
            "Epoch 5/10\n",
            "1750/1750 [==============================] - 5s 3ms/step - loss: 0.2990 - accuracy: 0.8890 - val_loss: 0.3416 - val_accuracy: 0.8761\n",
            "Epoch 6/10\n",
            "1750/1750 [==============================] - 5s 3ms/step - loss: 0.2829 - accuracy: 0.8951 - val_loss: 0.3461 - val_accuracy: 0.8754\n",
            "Epoch 7/10\n",
            "1750/1750 [==============================] - 5s 3ms/step - loss: 0.2698 - accuracy: 0.9001 - val_loss: 0.3418 - val_accuracy: 0.8761\n",
            "Epoch 8/10\n",
            "1750/1750 [==============================] - 5s 3ms/step - loss: 0.2607 - accuracy: 0.9021 - val_loss: 0.3293 - val_accuracy: 0.8822\n",
            "Epoch 9/10\n",
            "1750/1750 [==============================] - 6s 4ms/step - loss: 0.2520 - accuracy: 0.9059 - val_loss: 0.3328 - val_accuracy: 0.8792\n",
            "Epoch 10/10\n",
            "1750/1750 [==============================] - 5s 3ms/step - loss: 0.2415 - accuracy: 0.9100 - val_loss: 0.3077 - val_accuracy: 0.8919\n",
            "438/438 [==============================] - 1s 3ms/step - loss: 0.3077 - accuracy: 0.8919\n",
            "accuracy: 0\n",
            "Epoch 1/10\n",
            "1750/1750 [==============================] - 6s 3ms/step - loss: 0.5072 - accuracy: 0.8210 - val_loss: 0.3999 - val_accuracy: 0.8584\n",
            "Epoch 2/10\n",
            "1750/1750 [==============================] - 6s 3ms/step - loss: 0.3862 - accuracy: 0.8622 - val_loss: 0.3981 - val_accuracy: 0.8532\n",
            "Epoch 3/10\n",
            "1750/1750 [==============================] - 5s 3ms/step - loss: 0.3474 - accuracy: 0.8737 - val_loss: 0.3441 - val_accuracy: 0.8727\n",
            "Epoch 4/10\n",
            "1750/1750 [==============================] - 5s 3ms/step - loss: 0.3225 - accuracy: 0.8824 - val_loss: 0.3293 - val_accuracy: 0.8814\n",
            "Epoch 5/10\n",
            "1750/1750 [==============================] - 5s 3ms/step - loss: 0.3004 - accuracy: 0.8914 - val_loss: 0.3294 - val_accuracy: 0.8779\n",
            "Epoch 6/10\n",
            "1750/1750 [==============================] - 5s 3ms/step - loss: 0.2884 - accuracy: 0.8941 - val_loss: 0.3529 - val_accuracy: 0.8674\n",
            "Epoch 7/10\n",
            "1750/1750 [==============================] - 6s 3ms/step - loss: 0.2762 - accuracy: 0.8986 - val_loss: 0.3190 - val_accuracy: 0.8849\n",
            "Epoch 8/10\n",
            "1750/1750 [==============================] - 5s 3ms/step - loss: 0.2637 - accuracy: 0.9021 - val_loss: 0.3140 - val_accuracy: 0.8847\n",
            "Epoch 9/10\n",
            "1750/1750 [==============================] - 6s 3ms/step - loss: 0.2537 - accuracy: 0.9053 - val_loss: 0.3181 - val_accuracy: 0.8850\n",
            "Epoch 10/10\n",
            "1750/1750 [==============================] - 5s 3ms/step - loss: 0.2440 - accuracy: 0.9111 - val_loss: 0.3194 - val_accuracy: 0.8854\n",
            "438/438 [==============================] - 1s 2ms/step - loss: 0.3194 - accuracy: 0.8854\n",
            "accuracy: 0\n",
            "Epoch 1/10\n",
            "1750/1750 [==============================] - 7s 3ms/step - loss: 0.5112 - accuracy: 0.8203 - val_loss: 0.4079 - val_accuracy: 0.8551\n",
            "Epoch 2/10\n",
            "1750/1750 [==============================] - 5s 3ms/step - loss: 0.3818 - accuracy: 0.8626 - val_loss: 0.3761 - val_accuracy: 0.8627\n",
            "Epoch 3/10\n",
            "1750/1750 [==============================] - 5s 3ms/step - loss: 0.3424 - accuracy: 0.8767 - val_loss: 0.3324 - val_accuracy: 0.8795\n",
            "Epoch 4/10\n",
            "1750/1750 [==============================] - 6s 3ms/step - loss: 0.3194 - accuracy: 0.8812 - val_loss: 0.3373 - val_accuracy: 0.8769\n",
            "Epoch 5/10\n",
            "1750/1750 [==============================] - 5s 3ms/step - loss: 0.2993 - accuracy: 0.8892 - val_loss: 0.3382 - val_accuracy: 0.8744\n",
            "Epoch 6/10\n",
            "1750/1750 [==============================] - 6s 4ms/step - loss: 0.2871 - accuracy: 0.8939 - val_loss: 0.3221 - val_accuracy: 0.8806\n",
            "Epoch 7/10\n",
            "1750/1750 [==============================] - 6s 3ms/step - loss: 0.2736 - accuracy: 0.8994 - val_loss: 0.3251 - val_accuracy: 0.8830\n",
            "Epoch 8/10\n",
            "1750/1750 [==============================] - 6s 4ms/step - loss: 0.2628 - accuracy: 0.9023 - val_loss: 0.3222 - val_accuracy: 0.8844\n",
            "Epoch 9/10\n",
            "1750/1750 [==============================] - 5s 3ms/step - loss: 0.2542 - accuracy: 0.9058 - val_loss: 0.3160 - val_accuracy: 0.8855\n",
            "Epoch 10/10\n",
            "1750/1750 [==============================] - 6s 3ms/step - loss: 0.2436 - accuracy: 0.9085 - val_loss: 0.3161 - val_accuracy: 0.8886\n",
            "438/438 [==============================] - 1s 2ms/step - loss: 0.3161 - accuracy: 0.8886\n",
            "accuracy: 0\n"
          ]
        }
      ],
      "source": [
        "for train, test in kfold.split(features, labels):\n",
        "  model = Sequential()\n",
        "  model.add(Flatten(input_shape=(28,28)))\n",
        "  model.add(Dense(128, activation='relu'))\n",
        "  model.add(Dense(10, activation='softmax'))\n",
        "  model.compile(optimizer='adam', loss='sparse_categorical_crossentropy', metrics='accuracy')\n",
        "  model.fit(features[train], labels[train], validation_data=(features[test], labels[test]), epochs=10)\n",
        "  scores = model.evaluate(features[test], labels[test], verbose=1)\n",
        "  print(\"%s: %d\" % (model.metrics_names[1], scores[1]))\n",
        "  cvscores.append(scores[1] * 100)\n"
      ]
    },
    {
      "cell_type": "code",
      "execution_count": 13,
      "id": "Fdl8TZoLX0L2",
      "metadata": {
        "colab": {
          "base_uri": "https://localhost:8080/"
        },
        "id": "Fdl8TZoLX0L2",
        "outputId": "7657698e-19e4-46e6-d050-a7b131da69ae"
      },
      "outputs": [
        {
          "name": "stdout",
          "output_type": "stream",
          "text": [
            "313/313 [==============================] - 1s 1ms/step\n"
          ]
        }
      ],
      "source": [
        "pred = model.predict(test_images)"
      ]
    },
    {
      "cell_type": "code",
      "execution_count": 14,
      "id": "XEvI_eSmX20s",
      "metadata": {
        "colab": {
          "base_uri": "https://localhost:8080/"
        },
        "id": "XEvI_eSmX20s",
        "outputId": "10af725e-690f-4570-9862-84b5122cbd2b"
      },
      "outputs": [
        {
          "data": {
            "text/plain": [
              "9"
            ]
          },
          "execution_count": 14,
          "metadata": {},
          "output_type": "execute_result"
        }
      ],
      "source": [
        "np.argmax(pred[0])"
      ]
    },
    {
      "cell_type": "code",
      "execution_count": 15,
      "id": "t34YIw_fYNTH",
      "metadata": {
        "colab": {
          "base_uri": "https://localhost:8080/"
        },
        "id": "t34YIw_fYNTH",
        "outputId": "08bf48fc-8429-4104-9934-5df2ee0b0adf"
      },
      "outputs": [
        {
          "data": {
            "text/plain": [
              "9"
            ]
          },
          "execution_count": 15,
          "metadata": {},
          "output_type": "execute_result"
        }
      ],
      "source": [
        "test_labels[0]"
      ]
    }
  ],
  "metadata": {
    "accelerator": "GPU",
    "colab": {
      "gpuType": "T4",
      "provenance": []
    },
    "kernelspec": {
      "display_name": "Python 3",
      "name": "python3"
    },
    "language_info": {
      "codemirror_mode": {
        "name": "ipython",
        "version": 3
      },
      "file_extension": ".py",
      "mimetype": "text/x-python",
      "name": "python",
      "nbconvert_exporter": "python",
      "pygments_lexer": "ipython3",
      "version": "3.11.5"
    }
  },
  "nbformat": 4,
  "nbformat_minor": 5
}
