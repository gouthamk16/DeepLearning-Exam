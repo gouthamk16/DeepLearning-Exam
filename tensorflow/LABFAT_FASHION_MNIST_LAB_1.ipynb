{
  "nbformat": 4,
  "nbformat_minor": 0,
  "metadata": {
    "colab": {
      "provenance": []
    },
    "kernelspec": {
      "name": "python3",
      "display_name": "Python 3"
    },
    "language_info": {
      "name": "python"
    }
  },
  "cells": [
    {
      "cell_type": "code",
      "execution_count": 10,
      "metadata": {
        "id": "9TcNguliwQBj"
      },
      "outputs": [],
      "source": [
        "from keras.datasets import fashion_mnist\n",
        "from keras.models import Sequential\n",
        "from keras.layers import Dense\n",
        "from keras.utils import to_categorical"
      ]
    },
    {
      "cell_type": "code",
      "source": [
        "(train_images, train_labels), (test_images, test_labels) = fashion_mnist.load_data()\n",
        "print(train_images.shape)\n",
        "print(len(train_labels))\n",
        "print(test_images.shape)\n",
        "print(len(test_labels))"
      ],
      "metadata": {
        "colab": {
          "base_uri": "https://localhost:8080/"
        },
        "id": "RlfOQW_cwm-_",
        "outputId": "80820103-aa1f-47cc-eba5-1ee5eb3ec7b5"
      },
      "execution_count": 11,
      "outputs": [
        {
          "output_type": "stream",
          "name": "stdout",
          "text": [
            "(60000, 28, 28)\n",
            "60000\n",
            "(10000, 28, 28)\n",
            "10000\n"
          ]
        }
      ]
    },
    {
      "cell_type": "code",
      "source": [
        "train_images = train_images.reshape(train_images.shape[0], 28*28)\n",
        "test_images = test_images.reshape(test_images.shape[0], 28*28)"
      ],
      "metadata": {
        "id": "pp37Xrgqw5Dv"
      },
      "execution_count": 12,
      "outputs": []
    },
    {
      "cell_type": "code",
      "source": [
        "train_labels=to_categorical(train_labels)\n",
        "test_labels=to_categorical(test_labels)"
      ],
      "metadata": {
        "id": "OjZRAkhu1JnN"
      },
      "execution_count": 18,
      "outputs": []
    },
    {
      "cell_type": "code",
      "source": [
        "model = Sequential()\n",
        "model.add(Dense(512, activation='relu', input_shape=(28*28,)))\n",
        "model.add(Dense(256, activation=\"relu\"))\n",
        "model.add(Dense(10, activation=\"softmax\"))\n",
        "model.compile(optimizer=\"adam\", loss=\"categorical_crossentropy\", metrics=['accuracy'])"
      ],
      "metadata": {
        "id": "Gb8Vi7WkzLew"
      },
      "execution_count": 20,
      "outputs": []
    },
    {
      "cell_type": "code",
      "source": [
        "model.fit(train_images, train_labels, epochs=20, batch_size=64)"
      ],
      "metadata": {
        "colab": {
          "base_uri": "https://localhost:8080/"
        },
        "id": "Q87LMBxG0Ott",
        "outputId": "66fd2821-389c-4638-b887-84a045047a07"
      },
      "execution_count": 21,
      "outputs": [
        {
          "output_type": "stream",
          "name": "stdout",
          "text": [
            "Epoch 1/20\n",
            "938/938 [==============================] - 11s 11ms/step - loss: 3.0172 - accuracy: 0.7700\n",
            "Epoch 2/20\n",
            "938/938 [==============================] - 10s 11ms/step - loss: 0.5425 - accuracy: 0.8246\n",
            "Epoch 3/20\n",
            "938/938 [==============================] - 17s 18ms/step - loss: 0.4690 - accuracy: 0.8380\n",
            "Epoch 4/20\n",
            "938/938 [==============================] - 13s 14ms/step - loss: 0.4386 - accuracy: 0.8448\n",
            "Epoch 5/20\n",
            "938/938 [==============================] - 9s 10ms/step - loss: 0.4206 - accuracy: 0.8514\n",
            "Epoch 6/20\n",
            "938/938 [==============================] - 10s 11ms/step - loss: 0.4179 - accuracy: 0.8531\n",
            "Epoch 7/20\n",
            "938/938 [==============================] - 10s 11ms/step - loss: 0.3860 - accuracy: 0.8607\n",
            "Epoch 8/20\n",
            "938/938 [==============================] - 10s 11ms/step - loss: 0.3695 - accuracy: 0.8666\n",
            "Epoch 9/20\n",
            "938/938 [==============================] - 9s 10ms/step - loss: 0.3555 - accuracy: 0.8702\n",
            "Epoch 10/20\n",
            "938/938 [==============================] - 11s 11ms/step - loss: 0.3431 - accuracy: 0.8759\n",
            "Epoch 11/20\n",
            "938/938 [==============================] - 10s 11ms/step - loss: 0.3418 - accuracy: 0.8783\n",
            "Epoch 12/20\n",
            "938/938 [==============================] - 10s 11ms/step - loss: 0.3290 - accuracy: 0.8814\n",
            "Epoch 13/20\n",
            "938/938 [==============================] - 10s 11ms/step - loss: 0.3222 - accuracy: 0.8837\n",
            "Epoch 14/20\n",
            "938/938 [==============================] - 10s 10ms/step - loss: 0.3207 - accuracy: 0.8833\n",
            "Epoch 15/20\n",
            "938/938 [==============================] - 10s 11ms/step - loss: 0.3128 - accuracy: 0.8868\n",
            "Epoch 16/20\n",
            "938/938 [==============================] - 11s 12ms/step - loss: 0.3079 - accuracy: 0.8882\n",
            "Epoch 17/20\n",
            "938/938 [==============================] - 10s 11ms/step - loss: 0.3067 - accuracy: 0.8875\n",
            "Epoch 18/20\n",
            "938/938 [==============================] - 9s 10ms/step - loss: 0.2984 - accuracy: 0.8907\n",
            "Epoch 19/20\n",
            "938/938 [==============================] - 10s 11ms/step - loss: 0.2954 - accuracy: 0.8921\n",
            "Epoch 20/20\n",
            "938/938 [==============================] - 10s 11ms/step - loss: 0.2932 - accuracy: 0.8924\n"
          ]
        },
        {
          "output_type": "execute_result",
          "data": {
            "text/plain": [
              "<keras.src.callbacks.History at 0x7b42d327c130>"
            ]
          },
          "metadata": {},
          "execution_count": 21
        }
      ]
    },
    {
      "cell_type": "code",
      "source": [
        "test_loss, test_acc = model.evaluate(test_images, test_labels)"
      ],
      "metadata": {
        "colab": {
          "base_uri": "https://localhost:8080/"
        },
        "id": "zPluyslj0bU2",
        "outputId": "747588e9-42ff-4ea9-eab0-aef4b68a6545"
      },
      "execution_count": 22,
      "outputs": [
        {
          "output_type": "stream",
          "name": "stdout",
          "text": [
            "313/313 [==============================] - 2s 6ms/step - loss: 0.3753 - accuracy: 0.8699\n"
          ]
        }
      ]
    },
    {
      "cell_type": "code",
      "source": [
        "test_loss"
      ],
      "metadata": {
        "colab": {
          "base_uri": "https://localhost:8080/"
        },
        "id": "fIdOtTtY2TZO",
        "outputId": "ef0de4d2-b2b0-4ec8-ec84-8c0233d28481"
      },
      "execution_count": 23,
      "outputs": [
        {
          "output_type": "execute_result",
          "data": {
            "text/plain": [
              "0.3753267228603363"
            ]
          },
          "metadata": {},
          "execution_count": 23
        }
      ]
    },
    {
      "cell_type": "code",
      "source": [
        "test_acc"
      ],
      "metadata": {
        "colab": {
          "base_uri": "https://localhost:8080/"
        },
        "id": "7IfMshxx2Xdq",
        "outputId": "61ecc5a0-d4e5-4583-8b86-418e6f9741f5"
      },
      "execution_count": 25,
      "outputs": [
        {
          "output_type": "execute_result",
          "data": {
            "text/plain": [
              "0.8698999881744385"
            ]
          },
          "metadata": {},
          "execution_count": 25
        }
      ]
    },
    {
      "cell_type": "code",
      "source": [],
      "metadata": {
        "id": "QHP70oTP2YWv"
      },
      "execution_count": null,
      "outputs": []
    }
  ]
}