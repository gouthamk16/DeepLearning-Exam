{
  "nbformat": 4,
  "nbformat_minor": 0,
  "metadata": {
    "colab": {
      "provenance": []
    },
    "kernelspec": {
      "name": "python3",
      "display_name": "Python 3"
    },
    "language_info": {
      "name": "python"
    }
  },
  "cells": [
    {
      "cell_type": "code",
      "execution_count": 33,
      "metadata": {
        "id": "myjVBummngP2"
      },
      "outputs": [],
      "source": [
        "from keras.datasets import mnist\n",
        "from keras.models import Sequential\n",
        "from keras.layers import Dense\n",
        "from keras.utils import to_categorical"
      ]
    },
    {
      "cell_type": "code",
      "source": [
        "(train_images, train_labels), (test_images, test_labels) = mnist.load_data()\n",
        "print(train_images.shape)\n",
        "print(len(train_labels))\n",
        "print(test_images.shape)\n",
        "print(len(test_labels))"
      ],
      "metadata": {
        "colab": {
          "base_uri": "https://localhost:8080/"
        },
        "id": "o6DQWeEhoj_M",
        "outputId": "4664da80-07e2-4000-9ce4-96c4949cee5f"
      },
      "execution_count": 34,
      "outputs": [
        {
          "output_type": "stream",
          "name": "stdout",
          "text": [
            "(60000, 28, 28)\n",
            "60000\n",
            "(10000, 28, 28)\n",
            "10000\n"
          ]
        }
      ]
    },
    {
      "cell_type": "code",
      "source": [
        "train_images = train_images.reshape((train_images.shape[0], 28*28))\n",
        "test_images = test_images.reshape((test_images.shape[0], 28*28))"
      ],
      "metadata": {
        "id": "JweaISVKs7TW"
      },
      "execution_count": 35,
      "outputs": []
    },
    {
      "cell_type": "code",
      "source": [
        "train_labels = to_categorical(train_labels)\n",
        "test_labels = to_categorical(test_labels)"
      ],
      "metadata": {
        "id": "KT8M6Jt4s-mv"
      },
      "execution_count": 36,
      "outputs": []
    },
    {
      "cell_type": "code",
      "source": [
        "model=Sequential()\n",
        "model.add(Dense(512, activation=\"relu\", input_shape=(28*28,)))\n",
        "model.add(Dense(10,activation=\"softmax\"))\n",
        "model.compile(optimizer=\"adam\", loss=\"categorical_crossentropy\", metrics=['accuracy'])"
      ],
      "metadata": {
        "id": "lw_EuakCo6aN"
      },
      "execution_count": 37,
      "outputs": []
    },
    {
      "cell_type": "code",
      "source": [
        "model.fit(train_images, train_labels, epochs=20, batch_size=32)"
      ],
      "metadata": {
        "colab": {
          "base_uri": "https://localhost:8080/"
        },
        "id": "StkCxg0FsFm7",
        "outputId": "ec1f4c65-735f-472a-d520-b86612155b38"
      },
      "execution_count": 38,
      "outputs": [
        {
          "output_type": "stream",
          "name": "stdout",
          "text": [
            "Epoch 1/20\n",
            "1875/1875 [==============================] - 15s 7ms/step - loss: 2.7031 - accuracy: 0.9071\n",
            "Epoch 2/20\n",
            "1875/1875 [==============================] - 13s 7ms/step - loss: 0.3368 - accuracy: 0.9366\n",
            "Epoch 3/20\n",
            "1875/1875 [==============================] - 13s 7ms/step - loss: 0.2989 - accuracy: 0.9413\n",
            "Epoch 4/20\n",
            "1875/1875 [==============================] - 12s 7ms/step - loss: 0.2714 - accuracy: 0.9441\n",
            "Epoch 5/20\n",
            "1875/1875 [==============================] - 13s 7ms/step - loss: 0.2512 - accuracy: 0.9499\n",
            "Epoch 6/20\n",
            "1875/1875 [==============================] - 13s 7ms/step - loss: 0.2168 - accuracy: 0.9566\n",
            "Epoch 7/20\n",
            "1875/1875 [==============================] - 13s 7ms/step - loss: 0.2071 - accuracy: 0.9577\n",
            "Epoch 8/20\n",
            "1875/1875 [==============================] - 13s 7ms/step - loss: 0.2032 - accuracy: 0.9599\n",
            "Epoch 9/20\n",
            "1875/1875 [==============================] - 13s 7ms/step - loss: 0.1763 - accuracy: 0.9625\n",
            "Epoch 10/20\n",
            "1875/1875 [==============================] - 13s 7ms/step - loss: 0.1887 - accuracy: 0.9629\n",
            "Epoch 11/20\n",
            "1875/1875 [==============================] - 13s 7ms/step - loss: 0.1801 - accuracy: 0.9643\n",
            "Epoch 12/20\n",
            "1875/1875 [==============================] - 13s 7ms/step - loss: 0.1731 - accuracy: 0.9658\n",
            "Epoch 13/20\n",
            "1875/1875 [==============================] - 13s 7ms/step - loss: 0.1779 - accuracy: 0.9683\n",
            "Epoch 14/20\n",
            "1875/1875 [==============================] - 13s 7ms/step - loss: 0.1642 - accuracy: 0.9683\n",
            "Epoch 15/20\n",
            "1875/1875 [==============================] - 13s 7ms/step - loss: 0.1748 - accuracy: 0.9679\n",
            "Epoch 16/20\n",
            "1875/1875 [==============================] - 13s 7ms/step - loss: 0.1592 - accuracy: 0.9699\n",
            "Epoch 17/20\n",
            "1875/1875 [==============================] - 13s 7ms/step - loss: 0.1657 - accuracy: 0.9695\n",
            "Epoch 18/20\n",
            "1875/1875 [==============================] - 13s 7ms/step - loss: 0.1485 - accuracy: 0.9712\n",
            "Epoch 19/20\n",
            "1875/1875 [==============================] - 13s 7ms/step - loss: 0.1468 - accuracy: 0.9717\n",
            "Epoch 20/20\n",
            "1875/1875 [==============================] - 13s 7ms/step - loss: 0.1585 - accuracy: 0.9715\n"
          ]
        },
        {
          "output_type": "execute_result",
          "data": {
            "text/plain": [
              "<keras.src.callbacks.History at 0x7b9b8a245120>"
            ]
          },
          "metadata": {},
          "execution_count": 38
        }
      ]
    },
    {
      "cell_type": "code",
      "source": [
        "test_loss, test_accuracy = model.evaluate(test_images, test_labels)"
      ],
      "metadata": {
        "colab": {
          "base_uri": "https://localhost:8080/"
        },
        "id": "QHUGoUhAuqSc",
        "outputId": "6b7451de-916e-42a5-a03f-3c529e0fa8f4"
      },
      "execution_count": 39,
      "outputs": [
        {
          "output_type": "stream",
          "name": "stdout",
          "text": [
            "313/313 [==============================] - 2s 5ms/step - loss: 0.6217 - accuracy: 0.9526\n"
          ]
        }
      ]
    },
    {
      "cell_type": "code",
      "source": [
        "test_loss"
      ],
      "metadata": {
        "colab": {
          "base_uri": "https://localhost:8080/"
        },
        "id": "XaJ183ubv2ev",
        "outputId": "591d5e58-afef-473f-ee90-242db43c2807"
      },
      "execution_count": 40,
      "outputs": [
        {
          "output_type": "execute_result",
          "data": {
            "text/plain": [
              "0.6217405796051025"
            ]
          },
          "metadata": {},
          "execution_count": 40
        }
      ]
    },
    {
      "cell_type": "code",
      "source": [
        "test_accuracy"
      ],
      "metadata": {
        "colab": {
          "base_uri": "https://localhost:8080/"
        },
        "id": "g3OuQKtjv4sj",
        "outputId": "2dd6f3f8-c4df-4405-e6c5-afbdf63c77c0"
      },
      "execution_count": 41,
      "outputs": [
        {
          "output_type": "execute_result",
          "data": {
            "text/plain": [
              "0.9526000022888184"
            ]
          },
          "metadata": {},
          "execution_count": 41
        }
      ]
    }
  ]
}